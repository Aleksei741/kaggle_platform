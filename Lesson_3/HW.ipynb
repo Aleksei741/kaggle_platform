{
 "cells": [
  {
   "cell_type": "code",
   "execution_count": 1,
   "metadata": {},
   "outputs": [],
   "source": [
    "import numpy as np\n",
    "import pandas as pd\n",
    "import xgboost as xgb\n",
    "from sklearn.metrics import roc_auc_score\n",
    "from sklearn.model_selection import KFold, StratifiedKFold\n",
    "from typing import List, Tuple\n",
    "from sklearn.model_selection import cross_val_score"
   ]
  },
  {
   "cell_type": "code",
   "execution_count": 2,
   "metadata": {},
   "outputs": [
    {
     "name": "stdout",
     "output_type": "stream",
     "text": [
      "df_main_train.shape = 180000 rows, 394 cols\n",
      "df_leader_board.shape = 100001 rows, 394 cols\n"
     ]
    },
    {
     "data": {
      "text/html": [
       "<div>\n",
       "<style scoped>\n",
       "    .dataframe tbody tr th:only-of-type {\n",
       "        vertical-align: middle;\n",
       "    }\n",
       "\n",
       "    .dataframe tbody tr th {\n",
       "        vertical-align: top;\n",
       "    }\n",
       "\n",
       "    .dataframe thead th {\n",
       "        text-align: right;\n",
       "    }\n",
       "</style>\n",
       "<table border=\"1\" class=\"dataframe\">\n",
       "  <thead>\n",
       "    <tr style=\"text-align: right;\">\n",
       "      <th></th>\n",
       "      <th>TransactionID</th>\n",
       "      <th>isFraud</th>\n",
       "      <th>TransactionDT</th>\n",
       "      <th>TransactionAmt</th>\n",
       "      <th>ProductCD</th>\n",
       "      <th>card1</th>\n",
       "      <th>card2</th>\n",
       "      <th>card3</th>\n",
       "      <th>card4</th>\n",
       "      <th>card5</th>\n",
       "      <th>...</th>\n",
       "      <th>V330</th>\n",
       "      <th>V331</th>\n",
       "      <th>V332</th>\n",
       "      <th>V333</th>\n",
       "      <th>V334</th>\n",
       "      <th>V335</th>\n",
       "      <th>V336</th>\n",
       "      <th>V337</th>\n",
       "      <th>V338</th>\n",
       "      <th>V339</th>\n",
       "    </tr>\n",
       "  </thead>\n",
       "  <tbody>\n",
       "    <tr>\n",
       "      <th>0</th>\n",
       "      <td>2987000</td>\n",
       "      <td>0</td>\n",
       "      <td>86400</td>\n",
       "      <td>68.5</td>\n",
       "      <td>W</td>\n",
       "      <td>13926</td>\n",
       "      <td>NaN</td>\n",
       "      <td>150.0</td>\n",
       "      <td>discover</td>\n",
       "      <td>142.0</td>\n",
       "      <td>...</td>\n",
       "      <td>NaN</td>\n",
       "      <td>NaN</td>\n",
       "      <td>NaN</td>\n",
       "      <td>NaN</td>\n",
       "      <td>NaN</td>\n",
       "      <td>NaN</td>\n",
       "      <td>NaN</td>\n",
       "      <td>NaN</td>\n",
       "      <td>NaN</td>\n",
       "      <td>NaN</td>\n",
       "    </tr>\n",
       "    <tr>\n",
       "      <th>1</th>\n",
       "      <td>2987001</td>\n",
       "      <td>0</td>\n",
       "      <td>86401</td>\n",
       "      <td>29.0</td>\n",
       "      <td>W</td>\n",
       "      <td>2755</td>\n",
       "      <td>404.0</td>\n",
       "      <td>150.0</td>\n",
       "      <td>mastercard</td>\n",
       "      <td>102.0</td>\n",
       "      <td>...</td>\n",
       "      <td>NaN</td>\n",
       "      <td>NaN</td>\n",
       "      <td>NaN</td>\n",
       "      <td>NaN</td>\n",
       "      <td>NaN</td>\n",
       "      <td>NaN</td>\n",
       "      <td>NaN</td>\n",
       "      <td>NaN</td>\n",
       "      <td>NaN</td>\n",
       "      <td>NaN</td>\n",
       "    </tr>\n",
       "    <tr>\n",
       "      <th>2</th>\n",
       "      <td>2987002</td>\n",
       "      <td>0</td>\n",
       "      <td>86469</td>\n",
       "      <td>59.0</td>\n",
       "      <td>W</td>\n",
       "      <td>4663</td>\n",
       "      <td>490.0</td>\n",
       "      <td>150.0</td>\n",
       "      <td>visa</td>\n",
       "      <td>166.0</td>\n",
       "      <td>...</td>\n",
       "      <td>NaN</td>\n",
       "      <td>NaN</td>\n",
       "      <td>NaN</td>\n",
       "      <td>NaN</td>\n",
       "      <td>NaN</td>\n",
       "      <td>NaN</td>\n",
       "      <td>NaN</td>\n",
       "      <td>NaN</td>\n",
       "      <td>NaN</td>\n",
       "      <td>NaN</td>\n",
       "    </tr>\n",
       "    <tr>\n",
       "      <th>3</th>\n",
       "      <td>2987003</td>\n",
       "      <td>0</td>\n",
       "      <td>86499</td>\n",
       "      <td>50.0</td>\n",
       "      <td>W</td>\n",
       "      <td>18132</td>\n",
       "      <td>567.0</td>\n",
       "      <td>150.0</td>\n",
       "      <td>mastercard</td>\n",
       "      <td>117.0</td>\n",
       "      <td>...</td>\n",
       "      <td>NaN</td>\n",
       "      <td>NaN</td>\n",
       "      <td>NaN</td>\n",
       "      <td>NaN</td>\n",
       "      <td>NaN</td>\n",
       "      <td>NaN</td>\n",
       "      <td>NaN</td>\n",
       "      <td>NaN</td>\n",
       "      <td>NaN</td>\n",
       "      <td>NaN</td>\n",
       "    </tr>\n",
       "    <tr>\n",
       "      <th>4</th>\n",
       "      <td>2987004</td>\n",
       "      <td>0</td>\n",
       "      <td>86506</td>\n",
       "      <td>50.0</td>\n",
       "      <td>H</td>\n",
       "      <td>4497</td>\n",
       "      <td>514.0</td>\n",
       "      <td>150.0</td>\n",
       "      <td>mastercard</td>\n",
       "      <td>102.0</td>\n",
       "      <td>...</td>\n",
       "      <td>0.0</td>\n",
       "      <td>0.0</td>\n",
       "      <td>0.0</td>\n",
       "      <td>0.0</td>\n",
       "      <td>0.0</td>\n",
       "      <td>0.0</td>\n",
       "      <td>0.0</td>\n",
       "      <td>0.0</td>\n",
       "      <td>0.0</td>\n",
       "      <td>0.0</td>\n",
       "    </tr>\n",
       "  </tbody>\n",
       "</table>\n",
       "<p>5 rows × 394 columns</p>\n",
       "</div>"
      ],
      "text/plain": [
       "   TransactionID  isFraud  TransactionDT  TransactionAmt ProductCD  card1  \\\n",
       "0        2987000        0          86400            68.5         W  13926   \n",
       "1        2987001        0          86401            29.0         W   2755   \n",
       "2        2987002        0          86469            59.0         W   4663   \n",
       "3        2987003        0          86499            50.0         W  18132   \n",
       "4        2987004        0          86506            50.0         H   4497   \n",
       "\n",
       "   card2  card3       card4  card5  ... V330  V331  V332  V333  V334 V335  \\\n",
       "0    NaN  150.0    discover  142.0  ...  NaN   NaN   NaN   NaN   NaN  NaN   \n",
       "1  404.0  150.0  mastercard  102.0  ...  NaN   NaN   NaN   NaN   NaN  NaN   \n",
       "2  490.0  150.0        visa  166.0  ...  NaN   NaN   NaN   NaN   NaN  NaN   \n",
       "3  567.0  150.0  mastercard  117.0  ...  NaN   NaN   NaN   NaN   NaN  NaN   \n",
       "4  514.0  150.0  mastercard  102.0  ...  0.0   0.0   0.0   0.0   0.0  0.0   \n",
       "\n",
       "  V336  V337  V338  V339  \n",
       "0  NaN   NaN   NaN   NaN  \n",
       "1  NaN   NaN   NaN   NaN  \n",
       "2  NaN   NaN   NaN   NaN  \n",
       "3  NaN   NaN   NaN   NaN  \n",
       "4  0.0   0.0   0.0   0.0  \n",
       "\n",
       "[5 rows x 394 columns]"
      ]
     },
     "execution_count": 2,
     "metadata": {},
     "output_type": "execute_result"
    }
   ],
   "source": [
    "df_main_train = pd.read_csv(\n",
    "    \"assignment_2_train.csv\"\n",
    ")\n",
    "\n",
    "df_leader_board = pd.read_csv(\n",
    "    \"assignment_2_test.csv\"\n",
    ")\n",
    "\n",
    "print(\"df_main_train.shape = {} rows, {} cols\".format(*df_main_train.shape))\n",
    "#print(\"df_valid.shape = {} rows, {} cols\".format(*df_valid.shape))\n",
    "print(\"df_leader_board.shape = {} rows, {} cols\".format(*df_leader_board.shape))\n",
    "df_main_train.head(n=5)"
   ]
  },
  {
   "cell_type": "code",
   "execution_count": 3,
   "metadata": {},
   "outputs": [
    {
     "name": "stdout",
     "output_type": "stream",
     "text": [
      "<class 'pandas.core.frame.DataFrame'>\n",
      "RangeIndex: 180000 entries, 0 to 179999\n",
      "Data columns (total 1 columns):\n",
      " #   Column         Non-Null Count   Dtype\n",
      "---  ------         --------------   -----\n",
      " 0   TransactionDT  180000 non-null  int64\n",
      "dtypes: int64(1)\n",
      "memory usage: 1.4 MB\n"
     ]
    }
   ],
   "source": [
    "df_main_train.loc[:, ['TransactionDT']].info()"
   ]
  },
  {
   "cell_type": "code",
   "execution_count": 4,
   "metadata": {},
   "outputs": [
    {
     "data": {
      "text/html": [
       "<div>\n",
       "<style scoped>\n",
       "    .dataframe tbody tr th:only-of-type {\n",
       "        vertical-align: middle;\n",
       "    }\n",
       "\n",
       "    .dataframe tbody tr th {\n",
       "        vertical-align: top;\n",
       "    }\n",
       "\n",
       "    .dataframe thead th {\n",
       "        text-align: right;\n",
       "    }\n",
       "</style>\n",
       "<table border=\"1\" class=\"dataframe\">\n",
       "  <thead>\n",
       "    <tr style=\"text-align: right;\">\n",
       "      <th></th>\n",
       "      <th>count</th>\n",
       "      <th>mean</th>\n",
       "      <th>std</th>\n",
       "      <th>min</th>\n",
       "      <th>25%</th>\n",
       "      <th>50%</th>\n",
       "      <th>75%</th>\n",
       "      <th>max</th>\n",
       "    </tr>\n",
       "  </thead>\n",
       "  <tbody>\n",
       "    <tr>\n",
       "      <th>TransactionDT</th>\n",
       "      <td>180000.0</td>\n",
       "      <td>1.909818e+06</td>\n",
       "      <td>1.039029e+06</td>\n",
       "      <td>86400.0</td>\n",
       "      <td>1091680.75</td>\n",
       "      <td>1884075.0</td>\n",
       "      <td>2693195.5</td>\n",
       "      <td>3958317.0</td>\n",
       "    </tr>\n",
       "  </tbody>\n",
       "</table>\n",
       "</div>"
      ],
      "text/plain": [
       "                  count          mean           std      min         25%  \\\n",
       "TransactionDT  180000.0  1.909818e+06  1.039029e+06  86400.0  1091680.75   \n",
       "\n",
       "                     50%        75%        max  \n",
       "TransactionDT  1884075.0  2693195.5  3958317.0  "
      ]
     },
     "execution_count": 4,
     "metadata": {},
     "output_type": "execute_result"
    }
   ],
   "source": [
    "df_main_train.loc[:, ['TransactionDT']].describe().T"
   ]
  },
  {
   "cell_type": "code",
   "execution_count": 71,
   "metadata": {},
   "outputs": [
    {
     "data": {
      "text/html": [
       "<div>\n",
       "<style scoped>\n",
       "    .dataframe tbody tr th:only-of-type {\n",
       "        vertical-align: middle;\n",
       "    }\n",
       "\n",
       "    .dataframe tbody tr th {\n",
       "        vertical-align: top;\n",
       "    }\n",
       "\n",
       "    .dataframe thead th {\n",
       "        text-align: right;\n",
       "    }\n",
       "</style>\n",
       "<table border=\"1\" class=\"dataframe\">\n",
       "  <thead>\n",
       "    <tr style=\"text-align: right;\">\n",
       "      <th></th>\n",
       "      <th>count</th>\n",
       "      <th>mean</th>\n",
       "      <th>std</th>\n",
       "      <th>min</th>\n",
       "      <th>25%</th>\n",
       "      <th>50%</th>\n",
       "      <th>75%</th>\n",
       "      <th>max</th>\n",
       "    </tr>\n",
       "  </thead>\n",
       "  <tbody>\n",
       "    <tr>\n",
       "      <th>TransactionDT</th>\n",
       "      <td>100001.0</td>\n",
       "      <td>8.696663e+06</td>\n",
       "      <td>760390.854999</td>\n",
       "      <td>7415038.0</td>\n",
       "      <td>8023328.0</td>\n",
       "      <td>8630067.0</td>\n",
       "      <td>9346592.0</td>\n",
       "      <td>10091550.0</td>\n",
       "    </tr>\n",
       "  </tbody>\n",
       "</table>\n",
       "</div>"
      ],
      "text/plain": [
       "                  count          mean            std        min        25%  \\\n",
       "TransactionDT  100001.0  8.696663e+06  760390.854999  7415038.0  8023328.0   \n",
       "\n",
       "                     50%        75%         max  \n",
       "TransactionDT  8630067.0  9346592.0  10091550.0  "
      ]
     },
     "execution_count": 71,
     "metadata": {},
     "output_type": "execute_result"
    }
   ],
   "source": [
    "df_leader_board.loc[:, ['TransactionDT']].describe().T"
   ]
  },
  {
   "cell_type": "code",
   "execution_count": 72,
   "metadata": {},
   "outputs": [
    {
     "data": {
      "text/plain": [
       "0   1970-01-02 00:00:00\n",
       "1   1970-01-02 00:00:01\n",
       "2   1970-01-02 00:01:09\n",
       "3   1970-01-02 00:01:39\n",
       "4   1970-01-02 00:01:46\n",
       "Name: TransactionDT, dtype: datetime64[ns]"
      ]
     },
     "execution_count": 72,
     "metadata": {},
     "output_type": "execute_result"
    }
   ],
   "source": [
    "pd.to_datetime(df_main_train['TransactionDT'], unit='s').head(n=5)"
   ]
  },
  {
   "cell_type": "code",
   "execution_count": 5,
   "metadata": {},
   "outputs": [],
   "source": [
    "df_main_train.drop(['TransactionDT', 'TransactionID'], axis='columns', inplace=True)\n",
    "df_leader_board.drop(['TransactionDT', 'TransactionID'], axis='columns', inplace=True)"
   ]
  },
  {
   "cell_type": "code",
   "execution_count": 6,
   "metadata": {},
   "outputs": [
    {
     "data": {
      "text/plain": [
       "0    174859\n",
       "1      5141\n",
       "Name: isFraud, dtype: int64"
      ]
     },
     "execution_count": 6,
     "metadata": {},
     "output_type": "execute_result"
    }
   ],
   "source": [
    "df_main_train['isFraud'].value_counts()"
   ]
  },
  {
   "cell_type": "markdown",
   "metadata": {},
   "source": [
    "Сделаем предобработку, которую сделали на преидущем уроке."
   ]
  },
  {
   "cell_type": "code",
   "execution_count": 8,
   "metadata": {
    "scrolled": true
   },
   "outputs": [
    {
     "name": "stdout",
     "output_type": "stream",
     "text": [
      "feature M3\n",
      "    dummie feature name: M3_F\n",
      "    dummie feature name: M3_T\n",
      "feature M7\n",
      "    dummie feature name: M7_F\n",
      "    dummie feature name: M7_T\n",
      "feature card6\n",
      "    dummie feature name: card6_credit\n",
      "    dummie feature name: card6_charge card\n",
      "    dummie feature name: card6_debit\n",
      "    dummie feature name: card6_debit or credit\n",
      "feature M6\n",
      "    dummie feature name: M6_F\n",
      "    dummie feature name: M6_T\n",
      "feature M5\n",
      "    dummie feature name: M5_T\n",
      "    dummie feature name: M5_F\n",
      "feature M1\n",
      "    dummie feature name: M1_T\n",
      "    dummie feature name: M1_F\n",
      "feature M4\n",
      "    dummie feature name: M4_M1\n",
      "    dummie feature name: M4_M0\n",
      "    dummie feature name: M4_M2\n",
      "feature ProductCD\n",
      "    dummie feature name: ProductCD_S\n",
      "    dummie feature name: ProductCD_W\n",
      "    dummie feature name: ProductCD_R\n",
      "    dummie feature name: ProductCD_C\n",
      "    dummie feature name: ProductCD_H\n",
      "feature M9\n",
      "    dummie feature name: M9_T\n",
      "    dummie feature name: M9_F\n",
      "feature card4\n",
      "    dummie feature name: card4_american express\n",
      "    dummie feature name: card4_visa\n",
      "    dummie feature name: card4_mastercard\n",
      "    dummie feature name: card4_discover\n",
      "feature M2\n",
      "    dummie feature name: M2_T\n",
      "    dummie feature name: M2_F\n",
      "feature R_emaildomain\n",
      "    dummie feature name: R_emaildomain_earthlink.net\n",
      "    dummie feature name: R_emaildomain_ymail.com\n",
      "    dummie feature name: R_emaildomain_hotmail.de\n",
      "    dummie feature name: R_emaildomain_aol.com\n",
      "    dummie feature name: R_emaildomain_suddenlink.net\n",
      "    dummie feature name: R_emaildomain_msn.com\n",
      "    dummie feature name: R_emaildomain_yahoo.de\n",
      "    dummie feature name: R_emaildomain_charter.net\n",
      "    dummie feature name: R_emaildomain_gmail.com\n",
      "    dummie feature name: R_emaildomain_verizon.net\n",
      "    dummie feature name: R_emaildomain_att.net\n",
      "    dummie feature name: R_emaildomain_outlook.com\n",
      "    dummie feature name: R_emaildomain_bellsouth.net\n",
      "    dummie feature name: R_emaildomain_frontier.com\n",
      "    dummie feature name: R_emaildomain_yahoo.com\n",
      "    dummie feature name: R_emaildomain_gmail\n",
      "    dummie feature name: R_emaildomain_outlook.es\n",
      "    dummie feature name: R_emaildomain_me.com\n",
      "    dummie feature name: R_emaildomain_netzero.com\n",
      "    dummie feature name: R_emaildomain_anonymous.com\n",
      "    dummie feature name: R_emaildomain_comcast.net\n",
      "    dummie feature name: R_emaildomain_yahoo.com.mx\n",
      "    dummie feature name: R_emaildomain_scranton.edu\n",
      "    dummie feature name: R_emaildomain_cableone.net\n",
      "    dummie feature name: R_emaildomain_protonmail.com\n",
      "    dummie feature name: R_emaildomain_hotmail.com\n",
      "    dummie feature name: R_emaildomain_live.com.mx\n",
      "    dummie feature name: R_emaildomain_aim.com\n",
      "    dummie feature name: R_emaildomain_ptd.net\n",
      "    dummie feature name: R_emaildomain_icloud.com\n",
      "    dummie feature name: R_emaildomain_gmx.de\n",
      "    dummie feature name: R_emaildomain_yahoo.es\n",
      "    dummie feature name: R_emaildomain_sbcglobal.net\n",
      "    dummie feature name: R_emaildomain_rocketmail.com\n",
      "    dummie feature name: R_emaildomain_embarqmail.com\n",
      "    dummie feature name: R_emaildomain_live.fr\n",
      "    dummie feature name: R_emaildomain_hotmail.es\n",
      "    dummie feature name: R_emaildomain_optonline.net\n",
      "    dummie feature name: R_emaildomain_hotmail.fr\n",
      "    dummie feature name: R_emaildomain_hotmail.co.uk\n",
      "    dummie feature name: R_emaildomain_yahoo.co.jp\n",
      "    dummie feature name: R_emaildomain_yahoo.fr\n",
      "    dummie feature name: R_emaildomain_yahoo.co.uk\n",
      "    dummie feature name: R_emaildomain_servicios-ta.com\n",
      "    dummie feature name: R_emaildomain_live.com\n",
      "    dummie feature name: R_emaildomain_sc.rr.com\n",
      "    dummie feature name: R_emaildomain_prodigy.net.mx\n",
      "    dummie feature name: R_emaildomain_cox.net\n",
      "    dummie feature name: R_emaildomain_q.com\n",
      "    dummie feature name: R_emaildomain_cfl.rr.com\n",
      "    dummie feature name: R_emaildomain_windstream.net\n",
      "    dummie feature name: R_emaildomain_roadrunner.com\n",
      "    dummie feature name: R_emaildomain_web.de\n",
      "    dummie feature name: R_emaildomain_mac.com\n",
      "    dummie feature name: R_emaildomain_mail.com\n",
      "    dummie feature name: R_emaildomain_juno.com\n",
      "feature P_emaildomain\n",
      "    dummie feature name: P_emaildomain_earthlink.net\n",
      "    dummie feature name: P_emaildomain_ymail.com\n",
      "    dummie feature name: P_emaildomain_hotmail.de\n",
      "    dummie feature name: P_emaildomain_aol.com\n",
      "    dummie feature name: P_emaildomain_netzero.net\n",
      "    dummie feature name: P_emaildomain_suddenlink.net\n",
      "    dummie feature name: P_emaildomain_msn.com\n",
      "    dummie feature name: P_emaildomain_charter.net\n",
      "    dummie feature name: P_emaildomain_yahoo.de\n",
      "    dummie feature name: P_emaildomain_gmail.com\n",
      "    dummie feature name: P_emaildomain_verizon.net\n",
      "    dummie feature name: P_emaildomain_att.net\n",
      "    dummie feature name: P_emaildomain_outlook.com\n",
      "    dummie feature name: P_emaildomain_bellsouth.net\n",
      "    dummie feature name: P_emaildomain_twc.com\n",
      "    dummie feature name: P_emaildomain_frontier.com\n",
      "    dummie feature name: P_emaildomain_yahoo.com\n",
      "    dummie feature name: P_emaildomain_gmail\n",
      "    dummie feature name: P_emaildomain_centurylink.net\n",
      "    dummie feature name: P_emaildomain_me.com\n",
      "    dummie feature name: P_emaildomain_outlook.es\n",
      "    dummie feature name: P_emaildomain_netzero.com\n",
      "    dummie feature name: P_emaildomain_anonymous.com\n",
      "    dummie feature name: P_emaildomain_comcast.net\n",
      "    dummie feature name: P_emaildomain_yahoo.com.mx\n",
      "    dummie feature name: P_emaildomain_cableone.net\n",
      "    dummie feature name: P_emaildomain_protonmail.com\n",
      "    dummie feature name: P_emaildomain_hotmail.com\n",
      "    dummie feature name: P_emaildomain_live.com.mx\n",
      "    dummie feature name: P_emaildomain_aim.com\n",
      "    dummie feature name: P_emaildomain_ptd.net\n",
      "    dummie feature name: P_emaildomain_icloud.com\n",
      "    dummie feature name: P_emaildomain_gmx.de\n",
      "    dummie feature name: P_emaildomain_frontiernet.net\n",
      "    dummie feature name: P_emaildomain_yahoo.es\n",
      "    dummie feature name: P_emaildomain_sbcglobal.net\n",
      "    dummie feature name: P_emaildomain_rocketmail.com\n",
      "    dummie feature name: P_emaildomain_embarqmail.com\n",
      "    dummie feature name: P_emaildomain_live.fr\n",
      "    dummie feature name: P_emaildomain_optonline.net\n",
      "    dummie feature name: P_emaildomain_hotmail.es\n",
      "    dummie feature name: P_emaildomain_hotmail.fr\n",
      "    dummie feature name: P_emaildomain_hotmail.co.uk\n",
      "    dummie feature name: P_emaildomain_yahoo.co.jp\n",
      "    dummie feature name: P_emaildomain_yahoo.fr\n",
      "    dummie feature name: P_emaildomain_yahoo.co.uk\n",
      "    dummie feature name: P_emaildomain_servicios-ta.com\n",
      "    dummie feature name: P_emaildomain_live.com\n",
      "    dummie feature name: P_emaildomain_sc.rr.com\n",
      "    dummie feature name: P_emaildomain_prodigy.net.mx\n",
      "    dummie feature name: P_emaildomain_cox.net\n",
      "    dummie feature name: P_emaildomain_q.com\n",
      "    dummie feature name: P_emaildomain_cfl.rr.com\n",
      "    dummie feature name: P_emaildomain_windstream.net\n",
      "    dummie feature name: P_emaildomain_roadrunner.com\n",
      "    dummie feature name: P_emaildomain_web.de\n",
      "    dummie feature name: P_emaildomain_mac.com\n",
      "    dummie feature name: P_emaildomain_mail.com\n",
      "    dummie feature name: P_emaildomain_juno.com\n",
      "feature M8\n",
      "    dummie feature name: M8_F\n",
      "    dummie feature name: M8_T\n",
      "count of categorical_df_train (180000, 525)\n",
      "count of categorical_df_test (100001, 525)\n"
     ]
    }
   ],
   "source": [
    "numeric_feature = df_main_train.select_dtypes(include=[np.number]).columns\n",
    "\n",
    "сategorical_feature = list(set(df_main_train.columns) - set(numeric_feature))\n",
    "\n",
    "df_main_train_dummy = df_main_train.copy()\n",
    "#df_valid_dummy = df_valid.copy()\n",
    "df_leader_board_dummy = df_leader_board.copy()\n",
    "\n",
    "for i in range(len(сategorical_feature)):\n",
    "    print(f'feature {сategorical_feature[i]}')\n",
    "    сategorical_train = df_main_train[сategorical_feature[i]].unique()\n",
    "    #сategorical_valid = df_valid[сategorical_feature[i]].unique()\n",
    "    сategorical_test = df_leader_board[сategorical_feature[i]].unique()\n",
    "    #print(f'сategorical train {сategorical_train}')\n",
    "    #print(f'сategorical test {сategorical_test}')\n",
    "    \n",
    "    #cat_in_feature = list(set(сategorical_train) & set(сategorical_valid) & set(сategorical_test))\n",
    "    cat_in_feature = list(set(сategorical_train) & set(сategorical_test))\n",
    "    for cat in cat_in_feature:\n",
    "        dummie_feature_name = f'{сategorical_feature[i]}_{cat}'\n",
    "        #print(dummie_feature_name)\n",
    "        \n",
    "        if str(cat) != 'nan':\n",
    "            print(f'    dummie feature name: {dummie_feature_name}')\n",
    "            df_main_train_dummy[f'{сategorical_feature[i]}_{cat}'] = 0\n",
    "            df_main_train_dummy.loc[df_main_train_dummy.loc[:,сategorical_feature[i]]==cat, \n",
    "                                                          [dummie_feature_name]] = 1      \n",
    "            \n",
    "            #df_valid_dummy[f'{сategorical_feature[i]}_{cat}'] = 0\n",
    "            #df_valid_dummy.loc[df_valid_dummy.loc[:,сategorical_feature[i]]==cat, \n",
    "            #                                              [dummie_feature_name]] = 1  \n",
    "            \n",
    "            df_leader_board_dummy[f'{сategorical_feature[i]}_{cat}'] = 0\n",
    "            df_leader_board_dummy.loc[df_leader_board_dummy.loc[:,сategorical_feature[i]]==cat, \n",
    "                                                          [dummie_feature_name]] = 1 \n",
    "            \n",
    "    df_main_train_dummy.drop([сategorical_feature[i]], axis='columns', inplace=True)\n",
    "    #df_valid_dummy.drop([сategorical_feature[i]], axis='columns', inplace=True)\n",
    "    df_leader_board_dummy.drop([сategorical_feature[i]], axis='columns', inplace=True)\n",
    "    \n",
    "print(f\"count of categorical_df_train {df_main_train_dummy.shape}\")\n",
    "#print(f\"count of categorical_df_valid {df_valid_dummy.shape}\")\n",
    "print(f\"count of categorical_df_test {df_leader_board_dummy.shape}\")"
   ]
  },
  {
   "cell_type": "markdown",
   "metadata": {},
   "source": [
    "Задание 1: сделать Hold-Out валидацию с разбиением, размер которого будет адеквтаным, по вашему мнению; разбиение проводить по id-транзакции (TransactionID), обучать модель градиетного бустинга любой реализации с подбором числа деревьев по early_stopping критерию до достижения сходимости. Оценить качество модели на валидационной выборке, оценить расхождение по сравнению с качеством на обучающей выборке и валидационной выборке. Оценить качество на ЛБ, сравнить с качеством на обучении и валидации. Сделать выводы."
   ]
  },
  {
   "cell_type": "code",
   "execution_count": 29,
   "metadata": {},
   "outputs": [
    {
     "name": "stdout",
     "output_type": "stream",
     "text": [
      "df_train.shape = 120600 rows, 524 cols\n",
      "df_test.shape = 59400 rows, 524 cols\n"
     ]
    },
    {
     "name": "stderr",
     "output_type": "stream",
     "text": [
      "C:\\ProgramData\\Anaconda3\\lib\\site-packages\\pandas\\core\\frame.py:3997: SettingWithCopyWarning: \n",
      "A value is trying to be set on a copy of a slice from a DataFrame\n",
      "\n",
      "See the caveats in the documentation: https://pandas.pydata.org/pandas-docs/stable/user_guide/indexing.html#returning-a-view-versus-a-copy\n",
      "  errors=errors,\n"
     ]
    }
   ],
   "source": [
    "from sklearn.model_selection import train_test_split\n",
    "df_train, df_test = train_test_split(df_main_train_dummy, test_size=0.33,  random_state=42)\n",
    "#df_valid, df_test = train_test_split(df_test, test_size=0.5,  random_state=42)\n",
    "\n",
    "y_train = df_train['isFraud']\n",
    "#y_valid = df_valid['isFraud']\n",
    "y_test = df_test['isFraud']\n",
    "\n",
    "df_train.drop(['isFraud'], axis='columns', inplace=True)\n",
    "#df_valid.drop(['isFraud'], axis='columns', inplace=True)\n",
    "df_test.drop(['isFraud'], axis='columns', inplace=True)\n",
    "\n",
    "print(\"df_train.shape = {} rows, {} cols\".format(*df_train.shape))\n",
    "#print(\"df_valid.shape = {} rows, {} cols\".format(*df_valid.shape))\n",
    "print(\"df_test.shape = {} rows, {} cols\".format(*df_test.shape))"
   ]
  },
  {
   "cell_type": "code",
   "execution_count": 30,
   "metadata": {},
   "outputs": [],
   "source": [
    "dtrain = xgb.DMatrix(data=df_train, label=y_train)\n",
    "#dvalid = xgb.DMatrix(data=df_valid, label=y_valid)\n",
    "dtest = xgb.DMatrix(data=df_test)"
   ]
  },
  {
   "cell_type": "code",
   "execution_count": 31,
   "metadata": {},
   "outputs": [],
   "source": [
    "params = {\n",
    "    \"booster\": \"gbtree\",\n",
    "    \"objective\": \"binary:logistic\",\n",
    "    \"eval_metric\": \"auc\",\n",
    "    \"learning_rate\": 0.1,\n",
    "    \"n_estimators\": 1000,\n",
    "    \"reg_lambda\": 100,\n",
    "    \"max_depth\": 4,\n",
    "    \"gamma\": 10,\n",
    "    \"nthread\": 6,\n",
    "    \"seed\": 27\n",
    "}"
   ]
  },
  {
   "cell_type": "code",
   "execution_count": 32,
   "metadata": {},
   "outputs": [
    {
     "name": "stdout",
     "output_type": "stream",
     "text": [
      "[0]\ttrain-auc:0.6537\n",
      "Will train until train-auc hasn't improved in 10 rounds.\n",
      "[10]\ttrain-auc:0.762991\n",
      "[20]\ttrain-auc:0.831376\n",
      "[30]\ttrain-auc:0.857748\n",
      "[40]\ttrain-auc:0.874935\n",
      "[50]\ttrain-auc:0.883843\n",
      "[60]\ttrain-auc:0.890078\n",
      "[70]\ttrain-auc:0.894584\n",
      "[80]\ttrain-auc:0.898248\n",
      "[90]\ttrain-auc:0.901606\n",
      "[100]\ttrain-auc:0.904582\n",
      "[110]\ttrain-auc:0.906295\n",
      "[120]\ttrain-auc:0.90793\n",
      "[130]\ttrain-auc:0.909089\n",
      "Stopping. Best iteration:\n",
      "[127]\ttrain-auc:0.909089\n",
      "\n"
     ]
    }
   ],
   "source": [
    "model_xgb = xgb.train(\n",
    "    params=params,\n",
    "    dtrain=dtrain,\n",
    "    num_boost_round=1000,\n",
    "    early_stopping_rounds=10,\n",
    "    evals=[(dtrain, \"train\")],\n",
    "    verbose_eval=10,\n",
    "    maximize=True,\n",
    ")"
   ]
  },
  {
   "cell_type": "code",
   "execution_count": 33,
   "metadata": {},
   "outputs": [
    {
     "name": "stdout",
     "output_type": "stream",
     "text": [
      "train: 0.9091\n",
      "test: 0.8968\n"
     ]
    }
   ],
   "source": [
    "print(f'train: {round(roc_auc_score(y_train, model_xgb.predict(dtrain)), 4)}')\n",
    "print(f'test: {round(roc_auc_score(y_test, model_xgb.predict(dtest)), 4)}')"
   ]
  },
  {
   "cell_type": "markdown",
   "metadata": {},
   "source": [
    "Нууу.... Если не смотреть забись вебинара, то вполне ебе хорошая модель."
   ]
  },
  {
   "cell_type": "code",
   "execution_count": 21,
   "metadata": {},
   "outputs": [],
   "source": [
    "df_lb = df_leader_board_dummy.copy()\n",
    "y_lb = df_lb['isFraud']\n",
    "df_lb.drop(['isFraud'], axis='columns', inplace=True)"
   ]
  },
  {
   "cell_type": "code",
   "execution_count": 34,
   "metadata": {},
   "outputs": [
    {
     "name": "stdout",
     "output_type": "stream",
     "text": [
      "leader_board: 0.8663\n"
     ]
    }
   ],
   "source": [
    "d_leader_board = xgb.DMatrix(data=df_lb)\n",
    "predict = model_xgb.predict(d_leader_board)\n",
    "print(f'leader_board: {round(roc_auc_score(y_lb, predict), 4)}')"
   ]
  },
  {
   "cell_type": "markdown",
   "metadata": {},
   "source": [
    "Модель работает."
   ]
  },
  {
   "cell_type": "markdown",
   "metadata": {},
   "source": [
    "Задание 2: сделать Hold-Out валидацию с разбиением на 3 выборки, разбиение проводить по id-транзакции (TransactionID), размер каждой выборки подобрать самостоятельно. Повторить процедуру из п.1. для каждой выборки."
   ]
  },
  {
   "cell_type": "code",
   "execution_count": 37,
   "metadata": {},
   "outputs": [
    {
     "name": "stdout",
     "output_type": "stream",
     "text": [
      "df_train.shape = 120600 rows, 526 cols\n",
      "df_valid.shape = 29700 rows, 526 cols\n",
      "df_test.shape = 29700 rows, 526 cols\n"
     ]
    },
    {
     "name": "stderr",
     "output_type": "stream",
     "text": [
      "C:\\ProgramData\\Anaconda3\\lib\\site-packages\\pandas\\core\\frame.py:3997: SettingWithCopyWarning: \n",
      "A value is trying to be set on a copy of a slice from a DataFrame\n",
      "\n",
      "See the caveats in the documentation: https://pandas.pydata.org/pandas-docs/stable/user_guide/indexing.html#returning-a-view-versus-a-copy\n",
      "  errors=errors,\n"
     ]
    }
   ],
   "source": [
    "df_train, df_test = train_test_split(df_main_train_dummy, test_size=0.33,  random_state=42)\n",
    "df_valid, df_test = train_test_split(df_test, test_size=0.5,  random_state=42)\n",
    "\n",
    "y_train = df_train['isFraud']\n",
    "y_valid = df_valid['isFraud']\n",
    "y_test = df_test['isFraud']\n",
    "\n",
    "df_train.drop(['isFraud'], axis='columns', inplace=True)\n",
    "df_valid.drop(['isFraud'], axis='columns', inplace=True)\n",
    "df_test.drop(['isFraud'], axis='columns', inplace=True)\n",
    "\n",
    "print(\"df_train.shape = {} rows, {} cols\".format(*df_train.shape))\n",
    "print(\"df_valid.shape = {} rows, {} cols\".format(*df_valid.shape))\n",
    "print(\"df_test.shape = {} rows, {} cols\".format(*df_test.shape))"
   ]
  },
  {
   "cell_type": "code",
   "execution_count": 38,
   "metadata": {},
   "outputs": [],
   "source": [
    "dtrain = xgb.DMatrix(data=df_train, label=y_train, silent=True)\n",
    "dvalid = xgb.DMatrix(data=df_valid, label=y_valid, silent=True)\n",
    "dtest = xgb.DMatrix(data=df_test, silent=True)"
   ]
  },
  {
   "cell_type": "code",
   "execution_count": 39,
   "metadata": {},
   "outputs": [],
   "source": [
    "params = {\n",
    "    \"booster\": \"gbtree\",\n",
    "    \"objective\": \"binary:logistic\",\n",
    "    \"eval_metric\": \"auc\",\n",
    "    \"learning_rate\": 0.1,\n",
    "    \"n_estimators\": 1000,\n",
    "    \"reg_lambda\": 100,\n",
    "    \"max_depth\": 4,\n",
    "    \"gamma\": 10,\n",
    "    \"nthread\": 6,\n",
    "    \"seed\": 27\n",
    "}"
   ]
  },
  {
   "cell_type": "code",
   "execution_count": 40,
   "metadata": {},
   "outputs": [
    {
     "name": "stdout",
     "output_type": "stream",
     "text": [
      "[0]\ttrain-auc:0.6537\tvalid-auc:0.639367\n",
      "Multiple eval metrics have been passed: 'valid-auc' will be used for early stopping.\n",
      "\n",
      "Will train until valid-auc hasn't improved in 10 rounds.\n",
      "[10]\ttrain-auc:0.763017\tvalid-auc:0.760023\n",
      "[20]\ttrain-auc:0.831483\tvalid-auc:0.833147\n",
      "[30]\ttrain-auc:0.86149\tvalid-auc:0.861984\n",
      "[40]\ttrain-auc:0.876341\tvalid-auc:0.875915\n",
      "[50]\ttrain-auc:0.887317\tvalid-auc:0.885726\n",
      "[60]\ttrain-auc:0.89287\tvalid-auc:0.889469\n",
      "[70]\ttrain-auc:0.898636\tvalid-auc:0.895392\n",
      "[80]\ttrain-auc:0.902108\tvalid-auc:0.898889\n",
      "[90]\ttrain-auc:0.905556\tvalid-auc:0.901927\n",
      "[100]\ttrain-auc:0.908816\tvalid-auc:0.904548\n",
      "[110]\ttrain-auc:0.910637\tvalid-auc:0.90614\n",
      "[120]\ttrain-auc:0.912271\tvalid-auc:0.907484\n",
      "[130]\ttrain-auc:0.913878\tvalid-auc:0.908574\n",
      "[140]\ttrain-auc:0.915395\tvalid-auc:0.910088\n",
      "Stopping. Best iteration:\n",
      "[139]\ttrain-auc:0.915395\tvalid-auc:0.910088\n",
      "\n"
     ]
    }
   ],
   "source": [
    "model_xgb = xgb.train(\n",
    "    params=params,\n",
    "    dtrain=dtrain,\n",
    "    num_boost_round=1000,\n",
    "    early_stopping_rounds=10,\n",
    "    evals=[(dtrain, \"train\"), (dvalid, \"valid\")],\n",
    "    verbose_eval=10,\n",
    "    maximize=True,\n",
    ")"
   ]
  },
  {
   "cell_type": "code",
   "execution_count": 41,
   "metadata": {},
   "outputs": [
    {
     "name": "stdout",
     "output_type": "stream",
     "text": [
      "train: 0.9154\n",
      "valid: 0.9101\n",
      "test: 0.8987\n"
     ]
    }
   ],
   "source": [
    "print(f'train: {round(roc_auc_score(y_train, model_xgb.predict(dtrain)), 4)}')\n",
    "print(f'valid: {round(roc_auc_score(y_valid, model_xgb.predict(dvalid)), 4)}')\n",
    "print(f'test: {round(roc_auc_score(y_test, model_xgb.predict(dtest)), 4)}')"
   ]
  },
  {
   "cell_type": "markdown",
   "metadata": {},
   "source": [
    "Аналогично с прошлым выводом."
   ]
  },
  {
   "cell_type": "code",
   "execution_count": 42,
   "metadata": {},
   "outputs": [
    {
     "name": "stdout",
     "output_type": "stream",
     "text": [
      "leader_board: 0.8637\n"
     ]
    }
   ],
   "source": [
    "d_leader_board = xgb.DMatrix(data=df_lb)\n",
    "predict = model_xgb.predict(d_leader_board)\n",
    "print(f'leader_board: {round(roc_auc_score(y_lb, predict), 4)}')"
   ]
  },
  {
   "cell_type": "markdown",
   "metadata": {},
   "source": [
    "Такая же точность, но неудивительно мы на тех же данных учились, что и первый вариант."
   ]
  },
  {
   "cell_type": "markdown",
   "metadata": {},
   "source": [
    "Задание 3: построить доверительный интервал на данных из п.2 на основе бутстреп выборок, оценить качество модели на ЛБ относительно полученного доверительного интервала. Сделать выводы."
   ]
  },
  {
   "cell_type": "code",
   "execution_count": 44,
   "metadata": {},
   "outputs": [],
   "source": [
    "def create_bootstrap_samples(data: np.array, n_samples: int = 1000) -> np.array:\n",
    "    \"\"\"\n",
    "    Создание бутстреп-выборок.\n",
    "\n",
    "    Parameters\n",
    "    ----------\n",
    "    data: np.array\n",
    "        Исходная выборка, которая будет использоваться для\n",
    "        создания бутстреп выборок.\n",
    "\n",
    "    n_samples: int, optional, default = 1000\n",
    "        Количество создаваемых бутстреп выборок.\n",
    "        Опциональный параметр, по умолчанию, равен 1000.\n",
    "\n",
    "    Returns\n",
    "    -------\n",
    "    bootstrap_idx: np.array\n",
    "        Матрица индексов, для создания бутстреп выборок.\n",
    "\n",
    "    \"\"\"\n",
    "    bootstrap_idx = np.random.randint(\n",
    "        low=0, high=len(data), size=(n_samples, len(data))\n",
    "    )\n",
    "    return bootstrap_idx\n",
    "\n",
    "\n",
    "def create_bootstrap_metrics(y_true: np.array,\n",
    "                             y_pred: np.array,\n",
    "                             metric: callable,\n",
    "                             n_samlpes: int = 1000) -> List[float]:\n",
    "    \"\"\"\n",
    "    Вычисление бутстреп оценок.\n",
    "\n",
    "    Parameters\n",
    "    ----------\n",
    "    y_true: np.array\n",
    "        Вектор целевой переменной.\n",
    "\n",
    "    y_pred: np.array\n",
    "        Вектор прогнозов.\n",
    "\n",
    "    metric: callable\n",
    "        Функция для вычисления метрики.\n",
    "        Функция должна принимать 2 аргумента: y_true, y_pred.\n",
    "\n",
    "    n_samples: int, optional, default = 1000\n",
    "        Количество создаваемых бутстреп выборок.\n",
    "        Опциональный параметр, по умолчанию, равен 1000.\n",
    "\n",
    "    Returns\n",
    "    -------\n",
    "    bootstrap_metrics: List[float]\n",
    "        Список со значениями метрики качества на каждой бустреп выборке.\n",
    "\n",
    "    \"\"\"\n",
    "    scores = []\n",
    "\n",
    "    if isinstance(y_true, pd.Series):\n",
    "        y_true = y_true.values\n",
    "\n",
    "    bootstrap_idx = create_bootstrap_samples(y_true)\n",
    "    for idx in bootstrap_idx:\n",
    "        y_true_bootstrap = y_true[idx]\n",
    "        y_pred_bootstrap = y_pred[idx]\n",
    "\n",
    "        score = metric(y_true_bootstrap, y_pred_bootstrap)\n",
    "        scores.append(score)\n",
    "\n",
    "    return scores\n",
    "\n",
    "\n",
    "def calculate_confidence_interval(scores: list, conf_interval: float = 0.95) -> Tuple[float]:\n",
    "    \"\"\"\n",
    "    Вычисление доверительного интервала.\n",
    "\n",
    "    Parameters\n",
    "    ----------\n",
    "    scores: List[float / int]\n",
    "        Список с оценками изучаемой величины.\n",
    "\n",
    "    conf_interval: float, optional, default = 0.95\n",
    "        Уровень доверия для построения интервала.\n",
    "        Опциональный параметр, по умолчанию, равен 0.95.\n",
    "\n",
    "    Returns\n",
    "    -------\n",
    "    conf_interval: Tuple[float]\n",
    "        Кортеж с границами доверительного интервала.\n",
    "\n",
    "    \"\"\"\n",
    "    left_bound = np.percentile(\n",
    "        scores, ((1 - conf_interval) / 2) * 100\n",
    "    )\n",
    "    right_bound = np.percentile(\n",
    "        scores, (conf_interval + ((1 - conf_interval) / 2)) * 100\n",
    "    )\n",
    "\n",
    "    return left_bound, right_bound"
   ]
  },
  {
   "cell_type": "code",
   "execution_count": 45,
   "metadata": {},
   "outputs": [
    {
     "data": {
      "text/plain": [
       "(0.895766417022573, 0.9132492614576624)"
      ]
     },
     "execution_count": 45,
     "metadata": {},
     "output_type": "execute_result"
    }
   ],
   "source": [
    "np.random.seed(27)\n",
    "data = xgb.DMatrix(data=df_test.append(df_valid))\n",
    "predict = model_xgb.predict(data)\n",
    "scores = create_bootstrap_metrics(y_test.append(y_valid).values, predict, roc_auc_score)\n",
    "\n",
    "confidence_interval = calculate_confidence_interval(scores)\n",
    "confidence_interval"
   ]
  },
  {
   "cell_type": "code",
   "execution_count": 46,
   "metadata": {},
   "outputs": [
    {
     "data": {
      "text/plain": [
       "Text(0.5, 0, 'sampel number')"
      ]
     },
     "execution_count": 46,
     "metadata": {},
     "output_type": "execute_result"
    },
    {
     "data": {
      "image/png": "[encoded data removed]",
      "text/plain": [
       "<Figure size 1080x360 with 2 Axes>"
      ]
     },
     "metadata": {
      "needs_background": "light"
     },
     "output_type": "display_data"
    }
   ],
   "source": [
    "import matplotlib.pyplot as plt\n",
    "import seaborn as sns\n",
    "\n",
    "fig, axes = plt.subplots(1, 2, figsize=(15, 5))\n",
    "plt.suptitle(\"Bootstrap for evaluating validation stability\", size=15)\n",
    "\n",
    "axes[1].scatter(range(len(scores)), scores, alpha=0.25, color=\"blue\")\n",
    "axes[1].set_xlabel(\"sampel number\", size=15)\n",
    "axes[1].set_ylabel(\"accuracy score\", size=15)\n",
    "\n",
    "sns.distplot(scores, ax=axes[0], color=\"green\", bins=20)\n",
    "axes[0].set_xlabel(\"sampel number\", size=15)"
   ]
  },
  {
   "cell_type": "markdown",
   "metadata": {},
   "source": [
    "Точность ЛБ лежит за пределами полученного доверительного интервала, а значит имеются отличия в подопытной и ЛБ выборке."
   ]
  },
  {
   "cell_type": "markdown",
   "metadata": {},
   "source": [
    "Задание 4: выполнить Adversarial Validation, подобрать объекты из обучающей выборки, которые сильно похожи на объекты из assignment_2_test.csv, и использовать их в качестве валидационного набора. Оценить качество модели на ЛБ, сделать выводы о полученных результатах."
   ]
  },
  {
   "cell_type": "code",
   "execution_count": 9,
   "metadata": {},
   "outputs": [],
   "source": [
    "df_train = df_main_train_dummy.copy()\n",
    "df_test = df_leader_board_dummy.copy()\n",
    "\n",
    "y_train = df_train['isFraud']\n",
    "y_test = df_test['isFraud']\n",
    "\n",
    "df_train.drop(['isFraud'], axis='columns', inplace=True)\n",
    "df_test.drop(['isFraud'], axis='columns', inplace=True)"
   ]
  },
  {
   "cell_type": "code",
   "execution_count": 10,
   "metadata": {},
   "outputs": [],
   "source": [
    "x_adv = pd.concat([\n",
    "    df_train, df_test], axis=0\n",
    ")\n",
    "y_adv = np.hstack((np.zeros(df_train.shape[0]), np.ones(df_test.shape[0])))\n",
    "assert x_adv.shape[0] == y_adv.shape[0]"
   ]
  },
  {
   "cell_type": "code",
   "execution_count": 11,
   "metadata": {},
   "outputs": [
    {
     "data": {
      "text/plain": [
       "XGBClassifier(base_score=0.5, booster='gbtree', colsample_bylevel=1,\n",
       "              colsample_bynode=1, colsample_bytree=1, gamma=0,\n",
       "              learning_rate=0.1, max_delta_step=0, max_depth=3,\n",
       "              min_child_weight=1, missing=None, n_estimators=25, n_jobs=1,\n",
       "              nthread=None, objective='binary:logistic', random_state=0,\n",
       "              reg_alpha=0, reg_lambda=1, scale_pos_weight=1, seed=None,\n",
       "              silent=None, subsample=1, verbosity=1)"
      ]
     },
     "execution_count": 11,
     "metadata": {},
     "output_type": "execute_result"
    }
   ],
   "source": [
    "model = xgb.XGBClassifier(n_estimators=25)\n",
    "model.fit(x_adv, y_adv)"
   ]
  },
  {
   "cell_type": "code",
   "execution_count": 12,
   "metadata": {},
   "outputs": [
    {
     "name": "stdout",
     "output_type": "stream",
     "text": [
      "0.849\n"
     ]
    }
   ],
   "source": [
    "y_pred_adv = model.predict_proba(x_adv)\n",
    "score = roc_auc_score(y_adv, y_pred_adv[:, 1])\n",
    "print(round(score, 4))"
   ]
  },
  {
   "cell_type": "code",
   "execution_count": 13,
   "metadata": {},
   "outputs": [
    {
     "data": {
      "text/plain": [
       "array([[0.73919415, 0.26080585],\n",
       "       [0.7452433 , 0.25475672],\n",
       "       [0.62347555, 0.37652445],\n",
       "       ...,\n",
       "       [0.616812  , 0.383188  ],\n",
       "       [0.78594035, 0.21405967],\n",
       "       [0.7955502 , 0.2044498 ]], dtype=float32)"
      ]
     },
     "execution_count": 13,
     "metadata": {},
     "output_type": "execute_result"
    }
   ],
   "source": [
    "y_pred = model.predict_proba(df_train)\n",
    "y_pred"
   ]
  },
  {
   "cell_type": "code",
   "execution_count": 14,
   "metadata": {},
   "outputs": [
    {
     "data": {
      "text/plain": [
       "(0.0, 0.1]        0\n",
       "(0.1, 0.2]    52018\n",
       "(0.2, 0.3]    87081\n",
       "(0.3, 0.4]    24420\n",
       "(0.4, 0.5]     6228\n",
       "(0.5, 0.6]    10068\n",
       "(0.6, 0.7]       47\n",
       "(0.7, 0.8]       38\n",
       "(0.8, 0.9]       65\n",
       "(0.9, 1.0]       35\n",
       "dtype: int64"
      ]
     },
     "execution_count": 14,
     "metadata": {},
     "output_type": "execute_result"
    }
   ],
   "source": [
    "pd.cut(\n",
    "    y_pred[:, 1], bins=np.arange(0, 1.01, 0.1)\n",
    ").value_counts().sort_index()"
   ]
  },
  {
   "cell_type": "code",
   "execution_count": 15,
   "metadata": {},
   "outputs": [],
   "source": [
    "df_train = 0\n",
    "df_test = 0"
   ]
  },
  {
   "cell_type": "code",
   "execution_count": null,
   "metadata": {},
   "outputs": [],
   "source": []
  },
  {
   "cell_type": "code",
   "execution_count": 16,
   "metadata": {},
   "outputs": [],
   "source": [
    "y_pred = y_pred[:, 1]"
   ]
  },
  {
   "cell_type": "code",
   "execution_count": 17,
   "metadata": {},
   "outputs": [
    {
     "name": "stdout",
     "output_type": "stream",
     "text": [
      "df_train_best_valid.shape = 163519 rows, 526 cols\n",
      "df_valid_best_valid.shape = 16481 rows, 526 cols\n",
      "df_train_best_valid.shape = 163519 rows, 524 cols\n",
      "df_valid_best_valid.shape = 16481 rows, 524 cols\n"
     ]
    }
   ],
   "source": [
    "valid_lvl_take = 0.4\n",
    "\n",
    "df_train_best_valid = df_main_train_dummy.copy()\n",
    "\n",
    "df_train_best_valid['valid_lvl'] = 0\n",
    "df_train_best_valid['valid_lvl'] = y_pred\n",
    "\n",
    "df_valid_best_valid = df_train_best_valid.loc[df_train_best_valid.loc[:, 'valid_lvl'] >  valid_lvl_take, :]\n",
    "df_train_best_valid = df_train_best_valid.loc[df_train_best_valid.loc[:, 'valid_lvl'] <= valid_lvl_take, :]\n",
    "\n",
    "print(\"df_train_best_valid.shape = {} rows, {} cols\".format(*df_train_best_valid.shape))\n",
    "print(\"df_valid_best_valid.shape = {} rows, {} cols\".format(*df_valid_best_valid.shape))\n",
    "\n",
    "y_train_best_valid = df_train_best_valid['isFraud']\n",
    "y_valid_best_valid = df_valid_best_valid['isFraud']\n",
    "\n",
    "df_train_best_valid.drop(['isFraud', 'valid_lvl'], axis='columns', inplace=True)\n",
    "df_valid_best_valid.drop(['isFraud', 'valid_lvl'], axis='columns', inplace=True)\n",
    "\n",
    "print(\"df_train_best_valid.shape = {} rows, {} cols\".format(*df_train_best_valid.shape))\n",
    "print(\"df_valid_best_valid.shape = {} rows, {} cols\".format(*df_valid_best_valid.shape))"
   ]
  },
  {
   "cell_type": "code",
   "execution_count": 18,
   "metadata": {},
   "outputs": [
    {
     "name": "stdout",
     "output_type": "stream",
     "text": [
      "[0]\ttrain-auc:0.65518\tvalid-auc:0.516695\n",
      "Multiple eval metrics have been passed: 'valid-auc' will be used for early stopping.\n",
      "\n",
      "Will train until valid-auc hasn't improved in 10 rounds.\n",
      "[10]\ttrain-auc:0.800807\tvalid-auc:0.660275\n",
      "[20]\ttrain-auc:0.832708\tvalid-auc:0.696955\n",
      "[30]\ttrain-auc:0.866651\tvalid-auc:0.785094\n",
      "[40]\ttrain-auc:0.876027\tvalid-auc:0.787934\n",
      "[50]\ttrain-auc:0.887312\tvalid-auc:0.798821\n",
      "[60]\ttrain-auc:0.892819\tvalid-auc:0.799784\n",
      "[70]\ttrain-auc:0.897593\tvalid-auc:0.802687\n",
      "[80]\ttrain-auc:0.900343\tvalid-auc:0.803958\n",
      "[90]\ttrain-auc:0.903085\tvalid-auc:0.805569\n",
      "[100]\ttrain-auc:0.90551\tvalid-auc:0.810173\n",
      "[110]\ttrain-auc:0.907057\tvalid-auc:0.811304\n",
      "[120]\ttrain-auc:0.908791\tvalid-auc:0.814466\n",
      "[130]\ttrain-auc:0.910224\tvalid-auc:0.818133\n",
      "[140]\ttrain-auc:0.911568\tvalid-auc:0.820358\n",
      "[150]\ttrain-auc:0.912698\tvalid-auc:0.824235\n",
      "[160]\ttrain-auc:0.913752\tvalid-auc:0.825797\n",
      "[170]\ttrain-auc:0.914795\tvalid-auc:0.827609\n",
      "[180]\ttrain-auc:0.915501\tvalid-auc:0.828456\n",
      "Stopping. Best iteration:\n",
      "[178]\ttrain-auc:0.915326\tvalid-auc:0.828834\n",
      "\n"
     ]
    }
   ],
   "source": [
    "dtrain = xgb.DMatrix(data=df_train_best_valid, label=y_train_best_valid, silent=True)\n",
    "dvalid = xgb.DMatrix(data=df_valid_best_valid, label=y_valid_best_valid, silent=True)\n",
    "#dtest = xgb.DMatrix(data=df_test, silent=True)\n",
    "\n",
    "params = {\n",
    "    \"booster\": \"gbtree\",\n",
    "    \"objective\": \"binary:logistic\",\n",
    "    \"eval_metric\": \"auc\",\n",
    "    \"learning_rate\": 0.1,\n",
    "    \"n_estimators\": 1000,\n",
    "    \"reg_lambda\": 100,\n",
    "    \"max_depth\": 4,\n",
    "    \"gamma\": 10,\n",
    "    \"nthread\": 6,\n",
    "    \"seed\": 27\n",
    "}\n",
    "\n",
    "model_xgb = xgb.train(\n",
    "    params=params,\n",
    "    dtrain=dtrain,\n",
    "    num_boost_round=1000,\n",
    "    early_stopping_rounds=10,\n",
    "    evals=[(dtrain, \"train\"), (dvalid, \"valid\")],\n",
    "    verbose_eval=10,\n",
    "    maximize=True\n",
    ")"
   ]
  },
  {
   "cell_type": "code",
   "execution_count": 22,
   "metadata": {},
   "outputs": [
    {
     "name": "stdout",
     "output_type": "stream",
     "text": [
      "leader_board: 0.8702\n"
     ]
    }
   ],
   "source": [
    "d_leader_board = xgb.DMatrix(data=df_lb)\n",
    "predict = model_xgb.predict(d_leader_board)\n",
    "print(f'leader_board: {round(roc_auc_score(y_lb, predict), 4)}')"
   ]
  },
  {
   "cell_type": "markdown",
   "metadata": {},
   "source": [
    "Можно сказать помогло. Но нужно valid_lvl_take угадывать, а это тяжело, когда у тебя нет известной целевой переменной для данных в ЛБ."
   ]
  },
  {
   "cell_type": "markdown",
   "metadata": {},
   "source": [
    "Задание 5: сделать KFold / StratifiedKFold валидацию (на ваше усмотрение), оценить получаемые качество и разброс по метрике качества. Сделать выводы об устойчивости кросс-валидации, сходимости оценки на кросс-валидации и отложенном наборе данных; Оценить качество на ЛБ, сделать выводы."
   ]
  },
  {
   "cell_type": "code",
   "execution_count": 23,
   "metadata": {},
   "outputs": [],
   "source": [
    "df_train = df_main_train_dummy.copy()\n",
    "\n",
    "y_train = df_train['isFraud']\n",
    "\n",
    "df_train.drop(['isFraud'], axis='columns', inplace=True)"
   ]
  },
  {
   "cell_type": "code",
   "execution_count": 24,
   "metadata": {},
   "outputs": [
    {
     "name": "stdout",
     "output_type": "stream",
     "text": [
      "Wall time: 0 ns\n",
      "[23:38:21] WARNING: src/objective/regression_obj.cu:152: reg:linear is now deprecated in favor of reg:squarederror.\n",
      "[23:39:02] WARNING: src/objective/regression_obj.cu:152: reg:linear is now deprecated in favor of reg:squarederror.\n",
      "[23:39:34] WARNING: src/objective/regression_obj.cu:152: reg:linear is now deprecated in favor of reg:squarederror.\n",
      "[23:40:08] WARNING: src/objective/regression_obj.cu:152: reg:linear is now deprecated in favor of reg:squarederror.\n",
      "[23:40:41] WARNING: src/objective/regression_obj.cu:152: reg:linear is now deprecated in favor of reg:squarederror.\n",
      "[23:41:14] WARNING: src/objective/regression_obj.cu:152: reg:linear is now deprecated in favor of reg:squarederror.\n",
      "[23:41:48] WARNING: src/objective/regression_obj.cu:152: reg:linear is now deprecated in favor of reg:squarederror.\n",
      "[23:42:22] WARNING: src/objective/regression_obj.cu:152: reg:linear is now deprecated in favor of reg:squarederror.\n",
      "[23:42:57] WARNING: src/objective/regression_obj.cu:152: reg:linear is now deprecated in favor of reg:squarederror.\n",
      "[23:43:30] WARNING: src/objective/regression_obj.cu:152: reg:linear is now deprecated in favor of reg:squarederror.\n",
      "CV-results: 0.8295 +/- 0.026\n"
     ]
    }
   ],
   "source": [
    "%time\n",
    "\n",
    "model = xgb.XGBRegressor(n_estimators=25)\n",
    "cv = cross_val_score(\n",
    "    estimator=model,\n",
    "    X=df_train,\n",
    "    y=y_train,\n",
    "    scoring=\"roc_auc\",\n",
    "    cv=10\n",
    ")\n",
    "\n",
    "print(f\"CV-results: {round(np.mean(cv), 4)} +/- {round(np.std(cv), 3)}\")"
   ]
  },
  {
   "cell_type": "code",
   "execution_count": 25,
   "metadata": {},
   "outputs": [
    {
     "data": {
      "text/plain": [
       "array([0.79565114, 0.81904561, 0.82269956, 0.85805723, 0.87849707,\n",
       "       0.81503766, 0.79395842, 0.8441272 , 0.84787698, 0.82018732])"
      ]
     },
     "execution_count": 25,
     "metadata": {},
     "output_type": "execute_result"
    }
   ],
   "source": [
    "cv"
   ]
  },
  {
   "cell_type": "code",
   "execution_count": 26,
   "metadata": {},
   "outputs": [],
   "source": [
    "def make_cross_validation(X: pd.DataFrame,\n",
    "                          y: pd.Series,\n",
    "                          estimator: object,\n",
    "                          metric: callable,\n",
    "                          cv_strategy):\n",
    "    \"\"\"\n",
    "    Кросс-валидация.\n",
    "\n",
    "    Parameters\n",
    "    ----------\n",
    "    X: pd.DataFrame\n",
    "        Матрица признаков.\n",
    "\n",
    "    y: pd.Series\n",
    "        Вектор целевой переменной.\n",
    "\n",
    "    estimator: callable\n",
    "        Объект модели для обучения.\n",
    "\n",
    "    metric: callable\n",
    "        Метрика для оценки качества решения.\n",
    "        Ожидается, что на вход будет передана функция,\n",
    "        которая принимает 2 аргумента: y_true, y_pred.\n",
    "\n",
    "    cv_strategy: cross-validation generator\n",
    "        Объект для описания стратегии кросс-валидации.\n",
    "        Ожидается, что на вход будет передан объект типа\n",
    "        KFold или StratifiedKFold.\n",
    "\n",
    "    Returns\n",
    "    -------\n",
    "    oof_score: float\n",
    "        Значение метрики качества на OOF-прогнозах.\n",
    "\n",
    "    fold_train_scores: List[float]\n",
    "        Значение метрики качества на каждом обучающем датасете кросс-валидации.\n",
    "\n",
    "    fold_valid_scores: List[float]\n",
    "        Значение метрики качества на каждом валидационном датасете кросс-валидации.\n",
    "\n",
    "    oof_predictions: np.array\n",
    "        Прогнозы на OOF.\n",
    "\n",
    "    \"\"\"\n",
    "    estimators, fold_train_scores, fold_valid_scores = [], [], []\n",
    "    oof_predictions = np.zeros(X.shape[0])\n",
    "\n",
    "    for fold_number, (train_idx, valid_idx) in enumerate(cv_strategy.split(X, y)):\n",
    "        x_train, x_valid = X.loc[train_idx], X.loc[valid_idx]\n",
    "        y_train, y_valid = y.loc[train_idx], y.loc[valid_idx]\n",
    "        \n",
    "        estimator.fit(x_train, \n",
    "                      y_train)\n",
    "        \n",
    "        y_train_pred = estimator.predict(x_train)\n",
    "        y_valid_pred = estimator.predict(x_valid)\n",
    "\n",
    "        fold_train_scores.append(metric(y_train, y_train_pred))\n",
    "        fold_valid_scores.append(metric(y_valid, y_valid_pred))\n",
    "        oof_predictions[valid_idx] = y_valid_pred\n",
    "\n",
    "        msg = (\n",
    "            f\"Fold: {fold_number+1}, train-observations = {len(train_idx)}, \"\n",
    "            f\"valid-observations = {len(valid_idx)}\\n\"\n",
    "            f\"train-score = {round(fold_train_scores[fold_number], 4)}, \"\n",
    "            f\"valid-score = {round(fold_valid_scores[fold_number], 4)}\" \n",
    "        )\n",
    "        print(msg)\n",
    "        print(\"=\"*69)\n",
    "        estimators.append(estimator)\n",
    "\n",
    "    oof_score = metric(y, oof_predictions)\n",
    "    print(f\"CV-results train: {round(np.mean(fold_train_scores), 4)} +/- {round(np.std(fold_train_scores), 3)}\")\n",
    "    print(f\"CV-results valid: {round(np.mean(fold_valid_scores), 4)} +/- {round(np.std(fold_valid_scores), 3)}\")\n",
    "    print(f\"OOF-score = {round(oof_score, 4)}\")\n",
    "\n",
    "    return estimators, oof_score, fold_train_scores, fold_valid_scores, oof_predictions"
   ]
  },
  {
   "cell_type": "code",
   "execution_count": 27,
   "metadata": {},
   "outputs": [
    {
     "name": "stdout",
     "output_type": "stream",
     "text": [
      "[23:45:09] WARNING: src/objective/regression_obj.cu:152: reg:linear is now deprecated in favor of reg:squarederror.\n",
      "Fold: 1, train-observations = 144000, valid-observations = 36000\n",
      "train-score = 0.8846, valid-score = 0.874\n",
      "=====================================================================\n",
      "[23:47:05] WARNING: src/objective/regression_obj.cu:152: reg:linear is now deprecated in favor of reg:squarederror.\n",
      "Fold: 2, train-observations = 144000, valid-observations = 36000\n",
      "train-score = 0.8848, valid-score = 0.8852\n",
      "=====================================================================\n",
      "[23:49:08] WARNING: src/objective/regression_obj.cu:152: reg:linear is now deprecated in favor of reg:squarederror.\n",
      "Fold: 3, train-observations = 144000, valid-observations = 36000\n",
      "train-score = 0.8858, valid-score = 0.8782\n",
      "=====================================================================\n",
      "[23:51:01] WARNING: src/objective/regression_obj.cu:152: reg:linear is now deprecated in favor of reg:squarederror.\n",
      "Fold: 4, train-observations = 144000, valid-observations = 36000\n",
      "train-score = 0.8822, valid-score = 0.8819\n",
      "=====================================================================\n",
      "[23:52:54] WARNING: src/objective/regression_obj.cu:152: reg:linear is now deprecated in favor of reg:squarederror.\n",
      "Fold: 5, train-observations = 144000, valid-observations = 36000\n",
      "train-score = 0.8861, valid-score = 0.8818\n",
      "=====================================================================\n",
      "CV-results train: 0.8847 +/- 0.001\n",
      "CV-results valid: 0.8802 +/- 0.004\n",
      "OOF-score = 0.8802\n"
     ]
    }
   ],
   "source": [
    "params = {\n",
    "    \"learning_rate\": 0.1,\n",
    "    \"n_estimators\": 1000,\n",
    "    \"reg_lambda\": 100,\n",
    "    \"max_depth\": 4,\n",
    "    \"gamma\": 10,\n",
    "    \"nthread\": 6,\n",
    "    \"seed\": 27\n",
    "}\n",
    "\n",
    "model = xgb.XGBRegressor(params=params)\n",
    "\n",
    "cv_strategy = StratifiedKFold(n_splits=5, random_state=42, shuffle=True)\n",
    "\n",
    "estimators, oof_score, fold_train_scores, fold_valid_scores, oof_predictions = make_cross_validation(\n",
    "    df_train, y_train, model, metric=roc_auc_score, cv_strategy=cv_strategy\n",
    ")"
   ]
  },
  {
   "cell_type": "code",
   "execution_count": 28,
   "metadata": {},
   "outputs": [
    {
     "name": "stdout",
     "output_type": "stream",
     "text": [
      "0 model df_train: 0.8852608701 df_leader_board: 0.8493360792\n",
      "1 model df_train: 0.8852608701 df_leader_board: 0.8493360792\n",
      "2 model df_train: 0.8852608701 df_leader_board: 0.8493360792\n",
      "3 model df_train: 0.8852608701 df_leader_board: 0.8493360792\n",
      "4 model df_train: 0.8852608701 df_leader_board: 0.8493360792\n"
     ]
    }
   ],
   "source": [
    "for i, estimator in enumerate(estimators):    \n",
    "    predict_train = estimator.predict(df_train)  \n",
    "    predict_lb =    estimator.predict(df_lb) \n",
    "    print(f'{i} model df_train: {round(roc_auc_score(y_train, predict_train), 10)} df_leader_board: {round(roc_auc_score(y_lb, predict_lb), 10)}')"
   ]
  },
  {
   "cell_type": "markdown",
   "metadata": {},
   "source": [
    "Все логично. Мы передали ссылку на модель, а потом обучали не 5 разных моделей, а до обучали одну и туже. и ссылку на одну и туже модель положили в estimators 5 раз."
   ]
  },
  {
   "cell_type": "markdown",
   "metadata": {},
   "source": [
    "Как копировать модель непонял потому просто список сделаю."
   ]
  },
  {
   "cell_type": "code",
   "execution_count": 17,
   "metadata": {},
   "outputs": [],
   "source": [
    "def make_cross_validation(X: pd.DataFrame,\n",
    "                          y: pd.Series,\n",
    "                          estimators_in: list,\n",
    "                          metric: callable,\n",
    "                          cv_strategy):\n",
    "    \"\"\"\n",
    "    Кросс-валидация.\n",
    "\n",
    "    Parameters\n",
    "    ----------\n",
    "    X: pd.DataFrame\n",
    "        Матрица признаков.\n",
    "\n",
    "    y: pd.Series\n",
    "        Вектор целевой переменной.\n",
    "\n",
    "    estimator: callable\n",
    "        Объект модели для обучения.\n",
    "\n",
    "    metric: callable\n",
    "        Метрика для оценки качества решения.\n",
    "        Ожидается, что на вход будет передана функция,\n",
    "        которая принимает 2 аргумента: y_true, y_pred.\n",
    "\n",
    "    cv_strategy: cross-validation generator\n",
    "        Объект для описания стратегии кросс-валидации.\n",
    "        Ожидается, что на вход будет передан объект типа\n",
    "        KFold или StratifiedKFold.\n",
    "\n",
    "    Returns\n",
    "    -------\n",
    "    oof_score: float\n",
    "        Значение метрики качества на OOF-прогнозах.\n",
    "\n",
    "    fold_train_scores: List[float]\n",
    "        Значение метрики качества на каждом обучающем датасете кросс-валидации.\n",
    "\n",
    "    fold_valid_scores: List[float]\n",
    "        Значение метрики качества на каждом валидационном датасете кросс-валидации.\n",
    "\n",
    "    oof_predictions: np.array\n",
    "        Прогнозы на OOF.\n",
    "\n",
    "    \"\"\"\n",
    "    estimators, fold_train_scores, fold_valid_scores = [], [], []\n",
    "    oof_predictions = np.zeros(X.shape[0])\n",
    "\n",
    "    for fold_number, (train_idx, valid_idx) in enumerate(cv_strategy.split(X, y)):\n",
    "        estimator = estimators_in[fold_number]\n",
    "        \n",
    "        x_train, x_valid = X.loc[train_idx], X.loc[valid_idx]\n",
    "        y_train, y_valid = y.loc[train_idx], y.loc[valid_idx]\n",
    "        \n",
    "        estimator.fit(x_train, \n",
    "                      y_train)\n",
    "        \n",
    "        y_train_pred = estimator.predict(x_train)\n",
    "        y_valid_pred = estimator.predict(x_valid)\n",
    "\n",
    "        fold_train_scores.append(metric(y_train, y_train_pred))\n",
    "        fold_valid_scores.append(metric(y_valid, y_valid_pred))\n",
    "        oof_predictions[valid_idx] = y_valid_pred\n",
    "\n",
    "        msg = (\n",
    "            f\"Fold: {fold_number+1}, train-observations = {len(train_idx)}, \"\n",
    "            f\"valid-observations = {len(valid_idx)}\\n\"\n",
    "            f\"train-score = {round(fold_train_scores[fold_number], 4)}, \"\n",
    "            f\"valid-score = {round(fold_valid_scores[fold_number], 4)}\" \n",
    "        )\n",
    "        print(msg)\n",
    "        print(\"=\"*69)\n",
    "        estimators.append(estimator)\n",
    "\n",
    "    oof_score = metric(y, oof_predictions)\n",
    "    print(f\"CV-results train: {round(np.mean(fold_train_scores), 4)} +/- {round(np.std(fold_train_scores), 3)}\")\n",
    "    print(f\"CV-results valid: {round(np.mean(fold_valid_scores), 4)} +/- {round(np.std(fold_valid_scores), 3)}\")\n",
    "    print(f\"OOF-score = {round(oof_score, 4)}\")\n",
    "\n",
    "    return estimators, oof_score, fold_train_scores, fold_valid_scores, oof_predictions"
   ]
  },
  {
   "cell_type": "code",
   "execution_count": 18,
   "metadata": {},
   "outputs": [
    {
     "name": "stdout",
     "output_type": "stream",
     "text": [
      "[22:56:47] WARNING: src/objective/regression_obj.cu:152: reg:linear is now deprecated in favor of reg:squarederror.\n",
      "Fold: 1, train-observations = 144000, valid-observations = 36000\n",
      "train-score = 0.8915, valid-score = 0.8808\n",
      "=====================================================================\n",
      "[22:58:42] WARNING: src/objective/regression_obj.cu:152: reg:linear is now deprecated in favor of reg:squarederror.\n",
      "Fold: 2, train-observations = 144000, valid-observations = 36000\n",
      "train-score = 0.8903, valid-score = 0.8898\n",
      "=====================================================================\n",
      "[23:00:32] WARNING: src/objective/regression_obj.cu:152: reg:linear is now deprecated in favor of reg:squarederror.\n",
      "Fold: 3, train-observations = 144000, valid-observations = 36000\n",
      "train-score = 0.8908, valid-score = 0.8812\n",
      "=====================================================================\n",
      "[23:02:33] WARNING: src/objective/regression_obj.cu:152: reg:linear is now deprecated in favor of reg:squarederror.\n",
      "Fold: 4, train-observations = 144000, valid-observations = 36000\n",
      "train-score = 0.8886, valid-score = 0.8886\n",
      "=====================================================================\n",
      "[23:04:25] WARNING: src/objective/regression_obj.cu:152: reg:linear is now deprecated in favor of reg:squarederror.\n",
      "Fold: 5, train-observations = 144000, valid-observations = 36000\n",
      "train-score = 0.8908, valid-score = 0.8837\n",
      "=====================================================================\n",
      "CV-results train: 0.8904 +/- 0.001\n",
      "CV-results valid: 0.8848 +/- 0.004\n",
      "OOF-score = 0.8847\n"
     ]
    }
   ],
   "source": [
    "params = {\n",
    "    \"learning_rate\": 0.1,\n",
    "    \"n_estimators\": 1000,\n",
    "    \"reg_lambda\": 100,\n",
    "    \"max_depth\": 4,\n",
    "    \"gamma\": 10,\n",
    "    \"nthread\": 6,\n",
    "    \"seed\": 27\n",
    "}\n",
    "\n",
    "models = list()\n",
    "for i in range(5):\n",
    "    model = xgb.XGBRegressor(params=params)\n",
    "    models.append(model)\n",
    "\n",
    "cv_strategy = StratifiedKFold(n_splits=5, random_state=42, shuffle=True)\n",
    "\n",
    "estimators, oof_score, fold_train_scores, fold_valid_scores, oof_predictions = make_cross_validation(\n",
    "    df_train, y_train, models, metric=roc_auc_score, cv_strategy=cv_strategy\n",
    ")"
   ]
  },
  {
   "cell_type": "markdown",
   "metadata": {},
   "source": [
    "Не хватает ресурсов. вот результат работы ячейки (запускал без целого ноутбука):"
   ]
  },
  {
   "cell_type": "code",
   "execution_count": null,
   "metadata": {},
   "outputs": [],
   "source": [
    "# [22:56:47] WARNING: src/objective/regression_obj.cu:152: reg:linear is now deprecated in favor of reg:squarederror.\n",
    "# Fold: 1, train-observations = 144000, valid-observations = 36000\n",
    "# train-score = 0.8915, valid-score = 0.8808\n",
    "# =====================================================================\n",
    "# [22:58:42] WARNING: src/objective/regression_obj.cu:152: reg:linear is now deprecated in favor of reg:squarederror.\n",
    "# Fold: 2, train-observations = 144000, valid-observations = 36000\n",
    "# train-score = 0.8903, valid-score = 0.8898\n",
    "# =====================================================================\n",
    "# [23:00:32] WARNING: src/objective/regression_obj.cu:152: reg:linear is now deprecated in favor of reg:squarederror.\n",
    "# Fold: 3, train-observations = 144000, valid-observations = 36000\n",
    "# train-score = 0.8908, valid-score = 0.8812\n",
    "# =====================================================================\n",
    "# [23:02:33] WARNING: src/objective/regression_obj.cu:152: reg:linear is now deprecated in favor of reg:squarederror.\n",
    "# Fold: 4, train-observations = 144000, valid-observations = 36000\n",
    "# train-score = 0.8886, valid-score = 0.8886\n",
    "# =====================================================================\n",
    "# [23:04:25] WARNING: src/objective/regression_obj.cu:152: reg:linear is now deprecated in favor of reg:squarederror.\n",
    "# Fold: 5, train-observations = 144000, valid-observations = 36000\n",
    "# train-score = 0.8908, valid-score = 0.8837\n",
    "# =====================================================================\n",
    "# CV-results train: 0.8904 +/- 0.001\n",
    "# CV-results valid: 0.8848 +/- 0.004\n",
    "# OOF-score = 0.8847\n"
   ]
  },
  {
   "cell_type": "code",
   "execution_count": 19,
   "metadata": {},
   "outputs": [
    {
     "name": "stdout",
     "output_type": "stream",
     "text": [
      "0 model df_train: 0.8893597582 df_leader_board: 0.8478882774\n",
      "1 model df_train: 0.8901987781 df_leader_board: 0.8468752693\n",
      "2 model df_train: 0.8888658682 df_leader_board: 0.8464260482\n",
      "3 model df_train: 0.8886217251 df_leader_board: 0.8506207201\n",
      "4 model df_train: 0.8893883572 df_leader_board: 0.8502839949\n"
     ]
    }
   ],
   "source": [
    "for i, estimator in enumerate(estimators):    \n",
    "    predict_train = estimator.predict(df_train)  \n",
    "    predict_lb =    estimator.predict(df_lb) \n",
    "    print(f'{i} model df_train: {round(roc_auc_score(y_train, predict_train), 10)} df_leader_board: {round(roc_auc_score(y_lb, predict_lb), 10)}')\n",
    "    \n",
    "# 0 model df_train: 0.8893597582 df_leader_board: 0.8478882774\n",
    "# 1 model df_train: 0.8901987781 df_leader_board: 0.8468752693\n",
    "# 2 model df_train: 0.8888658682 df_leader_board: 0.8464260482\n",
    "# 3 model df_train: 0.8886217251 df_leader_board: 0.8506207201\n",
    "# 4 model df_train: 0.8893883572 df_leader_board: 0.8502839949\n"
   ]
  },
  {
   "cell_type": "code",
   "execution_count": null,
   "metadata": {},
   "outputs": [],
   "source": []
  },
  {
   "cell_type": "code",
   "execution_count": null,
   "metadata": {},
   "outputs": [],
   "source": [
    "# Получается дисбаланса данных по выборке особого и нету. \n",
    "# Есть огромный дисбаланс целевой переменной, что и проявлялось при других методах и как бы намекало на \n",
    "# неравномерность выборки.\n",
    "# Но Stratified KFold, который производит разделение данных на фолды \n",
    "# так, чтобы в каждом фолде было одинаковое распределение целевой переменной показал, что особого отличия среди данных\n",
    "# по выборке не наблюдается.\n",
    "# Отличия между трайном и ЛБ не особо велики.\n",
    "# Точность на моделях от CV ниже получилась, но тут я похоже не добил параметры модели.\n",
    "\n"
   ]
  }
 ],
 "metadata": {
  "kernelspec": {
   "display_name": "Python 3",
   "language": "python",
   "name": "python3"
  },
  "language_info": {
   "codemirror_mode": {
    "name": "ipython",
    "version": 3
   },
   "file_extension": ".py",
   "mimetype": "text/x-python",
   "name": "python",
   "nbconvert_exporter": "python",
   "pygments_lexer": "ipython3",
   "version": "3.7.6"
  }
 },
 "nbformat": 4,
 "nbformat_minor": 4
}
