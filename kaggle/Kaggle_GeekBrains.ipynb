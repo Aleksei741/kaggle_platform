{
 "cells": [
  {
   "cell_type": "code",
   "execution_count": 1,
   "metadata": {},
   "outputs": [],
   "source": [
    "import numpy as np\n",
    "import pandas as pd\n",
    "\n",
    "import matplotlib as mpl\n",
    "import matplotlib.pyplot as plt\n",
    "import seaborn as sns\n",
    "from sklearn.model_selection import train_test_split\n",
    "from sklearn.preprocessing import StandardScaler\n",
    "from sklearn.cluster import KMeans\n",
    "\n",
    "import lightgbm as lgb\n",
    "import xgboost as xgb\n",
    "import missingno as msno"
   ]
  },
  {
   "cell_type": "code",
   "execution_count": 2,
   "metadata": {},
   "outputs": [],
   "source": [
    "pd.options.display.max_rows = 222\n",
    "pd.set_option(\"display.max_columns\", 50)"
   ]
  },
  {
   "cell_type": "code",
   "execution_count": 3,
   "metadata": {},
   "outputs": [
    {
     "name": "stdout",
     "output_type": "stream",
     "text": [
      "gf_train.shape = 110093 rows, 3 cols\n",
      "df_test.shape = 165141 rows, 2 cols\n"
     ]
    }
   ],
   "source": [
    "df_train = pd.read_csv(\n",
    "    \"../geekbrains-competitive-data-analysis/train.csv\"\n",
    ")\n",
    "\n",
    "df_test = pd.read_csv(\n",
    "    \"../geekbrains-competitive-data-analysis/test.csv\"\n",
    ")\n",
    "\n",
    "print(\"gf_train.shape = {} rows, {} cols\".format(*df_train.shape))\n",
    "print(\"df_test.shape = {} rows, {} cols\".format(*df_test.shape))"
   ]
  },
  {
   "cell_type": "code",
   "execution_count": 45,
   "metadata": {},
   "outputs": [],
   "source": [
    "#df_train = create_dummie(df_train)\n",
    "#df_test = create_dummie(df_test)\n",
    "\n",
    "df_train['NAME_CONTRACT_TYPE'] = (df_train['NAME_CONTRACT_TYPE'] == 'Cash').astype(int)\n",
    "df_test['NAME_CONTRACT_TYPE'] = (df_test['NAME_CONTRACT_TYPE'] == 'Cash').astype(int)"
   ]
  },
  {
   "cell_type": "code",
   "execution_count": 4,
   "metadata": {},
   "outputs": [],
   "source": [
    "# df_sample_submit = pd.read_csv(\n",
    "#     \"../geekbrains-competitive-data-analysis/sample_submit.csv\"\n",
    "# )\n",
    "\n",
    "# print(\"sample_submit.shape = {} rows, {} cols\".format(*df_sample_submit.shape))\n",
    "# df_sample_submit.head()"
   ]
  },
  {
   "cell_type": "markdown",
   "metadata": {},
   "source": [
    "# функции"
   ]
  },
  {
   "cell_type": "code",
   "execution_count": 5,
   "metadata": {},
   "outputs": [],
   "source": [
    "def create_freq_feature(data: pd.DataFrame,\n",
    "                        feature: str\n",
    "                       ) -> pd.DataFrame:\n",
    "    freq = data[feature].value_counts()\n",
    "    data[feature] = data[feature].map(freq).astype('float')\n",
    "    data[feature] = data[feature].fillna(0.0).astype('float')\n",
    "    data[feature] = data[feature] / data.shape[0]\n",
    "    \n",
    "    return data"
   ]
  },
  {
   "cell_type": "code",
   "execution_count": 6,
   "metadata": {},
   "outputs": [],
   "source": [
    "def numeric_feature_preprocessing(data: pd.DataFrame,\n",
    "                         numeric_feature=list()) -> pd.DataFrame:\n",
    "    \n",
    "    if len(numeric_feature) == 0:\n",
    "        numeric_feature = data.select_dtypes(include=[np.number]).columns\n",
    "    \n",
    "    for feature in numeric_feature:\n",
    "        max_ = data[feature].quantile(.99)\n",
    "        min_ = data[feature].quantile(.01)\n",
    "        data.loc[data[feature] > max_, [feature]] = max_\n",
    "        data.loc[data[feature] < min_, [feature]] = min_\n",
    "        \n",
    "    return data"
   ]
  },
  {
   "cell_type": "code",
   "execution_count": 7,
   "metadata": {},
   "outputs": [],
   "source": [
    "def create_dummie(data: pd.DataFrame) -> pd.DataFrame:\n",
    "    \"\"\"\n",
    "    \n",
    "\n",
    "    \"\"\"\n",
    "    numeric_feature = data.select_dtypes(include=[np.number]).columns\n",
    "\n",
    "    сategorical_feature = list(set(data.columns) - set(numeric_feature))\n",
    "\n",
    "    data_copy = data.copy()\n",
    "\n",
    "    for i in range(len(сategorical_feature)):\n",
    "        print(f'feature {сategorical_feature[i]}')\n",
    "        сategorical_values = data_copy[сategorical_feature[i]].unique()\n",
    "        print(f'сategorical values {сategorical_values}')\n",
    "\n",
    "        for cat in сategorical_values:\n",
    "            dummie_feature_name = f'{сategorical_feature[i]}_{cat}'\n",
    "\n",
    "            if str(cat) != 'nan':\n",
    "                print(f'    dummie feature name: {dummie_feature_name}')\n",
    "                data_copy[f'{сategorical_feature[i]}_{cat}'] = 0\n",
    "                data_copy.loc[data_copy.loc[:,сategorical_feature[i]]==cat, \n",
    "                                                 [dummie_feature_name]] = 1      \n",
    "\n",
    "        data_copy.drop([сategorical_feature[i]], axis='columns', inplace=True)\n",
    "\n",
    "    print(f\"count of data {data_copy.shape}\")\n",
    "    return data_copy"
   ]
  },
  {
   "cell_type": "markdown",
   "metadata": {},
   "source": [
    "# история предыдущих заявок клиента.\n",
    "df_applications_history"
   ]
  },
  {
   "cell_type": "code",
   "execution_count": 8,
   "metadata": {},
   "outputs": [
    {
     "name": "stdout",
     "output_type": "stream",
     "text": [
      "applications_history.shape = 1670214 rows, 26 cols\n"
     ]
    },
    {
     "data": {
      "text/html": [
       "<div>\n",
       "<style scoped>\n",
       "    .dataframe tbody tr th:only-of-type {\n",
       "        vertical-align: middle;\n",
       "    }\n",
       "\n",
       "    .dataframe tbody tr th {\n",
       "        vertical-align: top;\n",
       "    }\n",
       "\n",
       "    .dataframe thead th {\n",
       "        text-align: right;\n",
       "    }\n",
       "</style>\n",
       "<table border=\"1\" class=\"dataframe\">\n",
       "  <thead>\n",
       "    <tr style=\"text-align: right;\">\n",
       "      <th></th>\n",
       "      <th>PREV_APPLICATION_NUMBER</th>\n",
       "      <th>APPLICATION_NUMBER</th>\n",
       "      <th>NAME_CONTRACT_TYPE</th>\n",
       "      <th>AMOUNT_ANNUITY</th>\n",
       "      <th>AMT_APPLICATION</th>\n",
       "      <th>AMOUNT_CREDIT</th>\n",
       "      <th>AMOUNT_PAYMENT</th>\n",
       "      <th>AMOUNT_GOODS_PAYMENT</th>\n",
       "      <th>NAME_CONTRACT_STATUS</th>\n",
       "      <th>DAYS_DECISION</th>\n",
       "      <th>NAME_PAYMENT_TYPE</th>\n",
       "      <th>CODE_REJECT_REASON</th>\n",
       "      <th>NAME_TYPE_SUITE</th>\n",
       "      <th>NAME_CLIENT_TYPE</th>\n",
       "      <th>NAME_GOODS_CATEGORY</th>\n",
       "      <th>NAME_PORTFOLIO</th>\n",
       "      <th>NAME_PRODUCT_TYPE</th>\n",
       "      <th>SELLERPLACE_AREA</th>\n",
       "      <th>CNT_PAYMENT</th>\n",
       "      <th>NAME_YIELD_GROUP</th>\n",
       "      <th>DAYS_FIRST_DRAWING</th>\n",
       "      <th>DAYS_FIRST_DUE</th>\n",
       "      <th>DAYS_LAST_DUE_1ST_VERSION</th>\n",
       "      <th>DAYS_LAST_DUE</th>\n",
       "      <th>DAYS_TERMINATION</th>\n",
       "      <th>NFLAG_INSURED_ON_APPROVAL</th>\n",
       "    </tr>\n",
       "  </thead>\n",
       "  <tbody>\n",
       "    <tr>\n",
       "      <th>0</th>\n",
       "      <td>49298709</td>\n",
       "      <td>123595216</td>\n",
       "      <td>NaN</td>\n",
       "      <td>1730.430</td>\n",
       "      <td>17145.0</td>\n",
       "      <td>17145.0</td>\n",
       "      <td>0.0</td>\n",
       "      <td>17145.0</td>\n",
       "      <td>Approved</td>\n",
       "      <td>73</td>\n",
       "      <td>Cash through the bank</td>\n",
       "      <td>XAP</td>\n",
       "      <td>NaN</td>\n",
       "      <td>Repeater</td>\n",
       "      <td>Mobile</td>\n",
       "      <td>POS</td>\n",
       "      <td>XNA</td>\n",
       "      <td>35</td>\n",
       "      <td>12.0</td>\n",
       "      <td>middle</td>\n",
       "      <td>365243.0</td>\n",
       "      <td>42.0</td>\n",
       "      <td>300.0</td>\n",
       "      <td>42.0</td>\n",
       "      <td>37.0</td>\n",
       "      <td>0.0</td>\n",
       "    </tr>\n",
       "    <tr>\n",
       "      <th>1</th>\n",
       "      <td>50070639</td>\n",
       "      <td>123431468</td>\n",
       "      <td>Cash</td>\n",
       "      <td>25188.615</td>\n",
       "      <td>607500.0</td>\n",
       "      <td>679671.0</td>\n",
       "      <td>NaN</td>\n",
       "      <td>607500.0</td>\n",
       "      <td>Approved</td>\n",
       "      <td>164</td>\n",
       "      <td>XNA</td>\n",
       "      <td>XAP</td>\n",
       "      <td>Unaccompanied</td>\n",
       "      <td>Repeater</td>\n",
       "      <td>XNA</td>\n",
       "      <td>Cash</td>\n",
       "      <td>x-sell</td>\n",
       "      <td>-1</td>\n",
       "      <td>36.0</td>\n",
       "      <td>low_action</td>\n",
       "      <td>365243.0</td>\n",
       "      <td>134.0</td>\n",
       "      <td>916.0</td>\n",
       "      <td>365243.0</td>\n",
       "      <td>365243.0</td>\n",
       "      <td>1.0</td>\n",
       "    </tr>\n",
       "    <tr>\n",
       "      <th>2</th>\n",
       "      <td>49791680</td>\n",
       "      <td>123445379</td>\n",
       "      <td>Cash</td>\n",
       "      <td>15060.735</td>\n",
       "      <td>112500.0</td>\n",
       "      <td>136444.5</td>\n",
       "      <td>NaN</td>\n",
       "      <td>112500.0</td>\n",
       "      <td>Approved</td>\n",
       "      <td>301</td>\n",
       "      <td>Cash through the bank</td>\n",
       "      <td>XAP</td>\n",
       "      <td>Spouse, partner</td>\n",
       "      <td>Repeater</td>\n",
       "      <td>XNA</td>\n",
       "      <td>Cash</td>\n",
       "      <td>x-sell</td>\n",
       "      <td>-1</td>\n",
       "      <td>12.0</td>\n",
       "      <td>high</td>\n",
       "      <td>365243.0</td>\n",
       "      <td>271.0</td>\n",
       "      <td>59.0</td>\n",
       "      <td>365243.0</td>\n",
       "      <td>365243.0</td>\n",
       "      <td>1.0</td>\n",
       "    </tr>\n",
       "    <tr>\n",
       "      <th>3</th>\n",
       "      <td>50087457</td>\n",
       "      <td>123499497</td>\n",
       "      <td>Cash</td>\n",
       "      <td>47041.335</td>\n",
       "      <td>450000.0</td>\n",
       "      <td>470790.0</td>\n",
       "      <td>NaN</td>\n",
       "      <td>450000.0</td>\n",
       "      <td>Approved</td>\n",
       "      <td>512</td>\n",
       "      <td>Cash through the bank</td>\n",
       "      <td>XAP</td>\n",
       "      <td>NaN</td>\n",
       "      <td>Repeater</td>\n",
       "      <td>XNA</td>\n",
       "      <td>Cash</td>\n",
       "      <td>x-sell</td>\n",
       "      <td>-1</td>\n",
       "      <td>12.0</td>\n",
       "      <td>middle</td>\n",
       "      <td>365243.0</td>\n",
       "      <td>482.0</td>\n",
       "      <td>152.0</td>\n",
       "      <td>182.0</td>\n",
       "      <td>177.0</td>\n",
       "      <td>1.0</td>\n",
       "    </tr>\n",
       "    <tr>\n",
       "      <th>4</th>\n",
       "      <td>49052479</td>\n",
       "      <td>123525393</td>\n",
       "      <td>Cash</td>\n",
       "      <td>31924.395</td>\n",
       "      <td>337500.0</td>\n",
       "      <td>404055.0</td>\n",
       "      <td>NaN</td>\n",
       "      <td>337500.0</td>\n",
       "      <td>Refused</td>\n",
       "      <td>781</td>\n",
       "      <td>Cash through the bank</td>\n",
       "      <td>HC</td>\n",
       "      <td>NaN</td>\n",
       "      <td>Repeater</td>\n",
       "      <td>XNA</td>\n",
       "      <td>Cash</td>\n",
       "      <td>walk-in</td>\n",
       "      <td>-1</td>\n",
       "      <td>24.0</td>\n",
       "      <td>high</td>\n",
       "      <td>NaN</td>\n",
       "      <td>NaN</td>\n",
       "      <td>NaN</td>\n",
       "      <td>NaN</td>\n",
       "      <td>NaN</td>\n",
       "      <td>NaN</td>\n",
       "    </tr>\n",
       "  </tbody>\n",
       "</table>\n",
       "</div>"
      ],
      "text/plain": [
       "   PREV_APPLICATION_NUMBER  APPLICATION_NUMBER NAME_CONTRACT_TYPE  \\\n",
       "0                 49298709           123595216                NaN   \n",
       "1                 50070639           123431468               Cash   \n",
       "2                 49791680           123445379               Cash   \n",
       "3                 50087457           123499497               Cash   \n",
       "4                 49052479           123525393               Cash   \n",
       "\n",
       "   AMOUNT_ANNUITY  AMT_APPLICATION  AMOUNT_CREDIT  AMOUNT_PAYMENT  \\\n",
       "0        1730.430          17145.0        17145.0             0.0   \n",
       "1       25188.615         607500.0       679671.0             NaN   \n",
       "2       15060.735         112500.0       136444.5             NaN   \n",
       "3       47041.335         450000.0       470790.0             NaN   \n",
       "4       31924.395         337500.0       404055.0             NaN   \n",
       "\n",
       "   AMOUNT_GOODS_PAYMENT NAME_CONTRACT_STATUS  DAYS_DECISION  \\\n",
       "0               17145.0             Approved             73   \n",
       "1              607500.0             Approved            164   \n",
       "2              112500.0             Approved            301   \n",
       "3              450000.0             Approved            512   \n",
       "4              337500.0              Refused            781   \n",
       "\n",
       "       NAME_PAYMENT_TYPE CODE_REJECT_REASON  NAME_TYPE_SUITE NAME_CLIENT_TYPE  \\\n",
       "0  Cash through the bank                XAP              NaN         Repeater   \n",
       "1                    XNA                XAP    Unaccompanied         Repeater   \n",
       "2  Cash through the bank                XAP  Spouse, partner         Repeater   \n",
       "3  Cash through the bank                XAP              NaN         Repeater   \n",
       "4  Cash through the bank                 HC              NaN         Repeater   \n",
       "\n",
       "  NAME_GOODS_CATEGORY NAME_PORTFOLIO NAME_PRODUCT_TYPE  SELLERPLACE_AREA  \\\n",
       "0              Mobile            POS               XNA                35   \n",
       "1                 XNA           Cash            x-sell                -1   \n",
       "2                 XNA           Cash            x-sell                -1   \n",
       "3                 XNA           Cash            x-sell                -1   \n",
       "4                 XNA           Cash           walk-in                -1   \n",
       "\n",
       "   CNT_PAYMENT NAME_YIELD_GROUP  DAYS_FIRST_DRAWING  DAYS_FIRST_DUE  \\\n",
       "0         12.0           middle            365243.0            42.0   \n",
       "1         36.0       low_action            365243.0           134.0   \n",
       "2         12.0             high            365243.0           271.0   \n",
       "3         12.0           middle            365243.0           482.0   \n",
       "4         24.0             high                 NaN             NaN   \n",
       "\n",
       "   DAYS_LAST_DUE_1ST_VERSION  DAYS_LAST_DUE  DAYS_TERMINATION  \\\n",
       "0                      300.0           42.0              37.0   \n",
       "1                      916.0       365243.0          365243.0   \n",
       "2                       59.0       365243.0          365243.0   \n",
       "3                      152.0          182.0             177.0   \n",
       "4                        NaN            NaN               NaN   \n",
       "\n",
       "   NFLAG_INSURED_ON_APPROVAL  \n",
       "0                        0.0  \n",
       "1                        1.0  \n",
       "2                        1.0  \n",
       "3                        1.0  \n",
       "4                        NaN  "
      ]
     },
     "execution_count": 8,
     "metadata": {},
     "output_type": "execute_result"
    }
   ],
   "source": [
    "#!!!!!!!!!!!!!!!!!!!!!!!!!!!!!!!!!!!!!!!!!!!!!!!!!!!!!!!!!!!!!!!!!!!!!!!\n",
    "# история предыдущих заявок клиента.\n",
    "df_applications_history = pd.read_csv(\n",
    "    \"../geekbrains-competitive-data-analysis/applications_history.csv\"\n",
    ")\n",
    "\n",
    "print(\"applications_history.shape = {} rows, {} cols\".format(*df_applications_history.shape))\n",
    "df_applications_history.head()"
   ]
  },
  {
   "cell_type": "code",
   "execution_count": 9,
   "metadata": {},
   "outputs": [
    {
     "data": {
      "text/plain": [
       "<AxesSubplot:>"
      ]
     },
     "execution_count": 9,
     "metadata": {},
     "output_type": "execute_result"
    },
    {
     "data": {
      "image/png": "[encoded data removed]",
      "text/plain": [
       "<Figure size 1800x720 with 2 Axes>"
      ]
     },
     "metadata": {
      "needs_background": "light"
     },
     "output_type": "display_data"
    }
   ],
   "source": [
    "msno.matrix(df_applications_history)"
   ]
  },
  {
   "cell_type": "code",
   "execution_count": 10,
   "metadata": {},
   "outputs": [
    {
     "data": {
      "text/plain": [
       "Index(['AMOUNT_ANNUITY', 'AMT_APPLICATION', 'AMOUNT_CREDIT', 'AMOUNT_PAYMENT',\n",
       "       'AMOUNT_GOODS_PAYMENT', 'DAYS_DECISION', 'SELLERPLACE_AREA',\n",
       "       'CNT_PAYMENT', 'DAYS_FIRST_DRAWING', 'DAYS_FIRST_DUE',\n",
       "       'DAYS_LAST_DUE_1ST_VERSION', 'DAYS_LAST_DUE', 'DAYS_TERMINATION',\n",
       "       'NFLAG_INSURED_ON_APPROVAL'],\n",
       "      dtype='object')"
      ]
     },
     "execution_count": 10,
     "metadata": {},
     "output_type": "execute_result"
    }
   ],
   "source": [
    "numerical_features_df_applications_history = df_applications_history.select_dtypes(include=[np.number]).columns\n",
    "numerical_features_df_applications_history = numerical_features_df_applications_history.drop('APPLICATION_NUMBER')\n",
    "numerical_features_df_applications_history = numerical_features_df_applications_history.drop('PREV_APPLICATION_NUMBER')\n",
    "numerical_features_df_applications_history"
   ]
  },
  {
   "cell_type": "markdown",
   "metadata": {},
   "source": [
    "NAME_CONTRACT_TYPE"
   ]
  },
  {
   "cell_type": "code",
   "execution_count": 11,
   "metadata": {},
   "outputs": [
    {
     "data": {
      "text/plain": [
       "Cash           747553\n",
       "Credit Card    193164\n",
       "Name: NAME_CONTRACT_TYPE, dtype: int64"
      ]
     },
     "execution_count": 11,
     "metadata": {},
     "output_type": "execute_result"
    }
   ],
   "source": [
    "df_applications_history['NAME_CONTRACT_TYPE'].value_counts()"
   ]
  },
  {
   "cell_type": "code",
   "execution_count": 12,
   "metadata": {},
   "outputs": [],
   "source": [
    "df_applications_history = create_freq_feature(df_applications_history, 'NAME_CONTRACT_TYPE')"
   ]
  },
  {
   "cell_type": "markdown",
   "metadata": {},
   "source": [
    "AMOUNT_ANNUITY, AMOUNT_GOODS_PAYMENT"
   ]
  },
  {
   "cell_type": "code",
   "execution_count": 13,
   "metadata": {},
   "outputs": [],
   "source": [
    "df_applications_history = df_applications_history.fillna(value=\n",
    "                                                         {'AMOUNT_ANNUITY': 0, \n",
    "                                                          'AMOUNT_GOODS_PAYMENT': 0})"
   ]
  },
  {
   "cell_type": "markdown",
   "metadata": {},
   "source": [
    "AMOUNT_PAYMENT"
   ]
  },
  {
   "cell_type": "code",
   "execution_count": 14,
   "metadata": {},
   "outputs": [],
   "source": [
    "df_applications_history.drop(['AMOUNT_PAYMENT'], axis='columns', inplace=True)\n",
    "numerical_features_df_applications_history = numerical_features_df_applications_history.drop('AMOUNT_PAYMENT')"
   ]
  },
  {
   "cell_type": "markdown",
   "metadata": {},
   "source": [
    "NAME_TYPE_SUITE"
   ]
  },
  {
   "cell_type": "code",
   "execution_count": 15,
   "metadata": {},
   "outputs": [
    {
     "data": {
      "text/plain": [
       "Unaccompanied      508970\n",
       "Family             213263\n",
       "Spouse, partner     67069\n",
       "Children            31566\n",
       "Other_B             17624\n",
       "Other_A              9077\n",
       "Group of people      2240\n",
       "Name: NAME_TYPE_SUITE, dtype: int64"
      ]
     },
     "execution_count": 15,
     "metadata": {},
     "output_type": "execute_result"
    }
   ],
   "source": [
    "df_applications_history['NAME_TYPE_SUITE'].value_counts()"
   ]
  },
  {
   "cell_type": "code",
   "execution_count": 16,
   "metadata": {},
   "outputs": [],
   "source": [
    "df_applications_history = create_freq_feature(df_applications_history, 'NAME_TYPE_SUITE')"
   ]
  },
  {
   "cell_type": "markdown",
   "metadata": {},
   "source": [
    "NAME_CONTRACT_STATUS"
   ]
  },
  {
   "cell_type": "code",
   "execution_count": 17,
   "metadata": {},
   "outputs": [
    {
     "data": {
      "text/plain": [
       "Approved        1036781\n",
       "Canceled         316319\n",
       "Refused          290678\n",
       "Unused offer      26436\n",
       "Name: NAME_CONTRACT_STATUS, dtype: int64"
      ]
     },
     "execution_count": 17,
     "metadata": {},
     "output_type": "execute_result"
    }
   ],
   "source": [
    "df_applications_history['NAME_CONTRACT_STATUS'].value_counts()"
   ]
  },
  {
   "cell_type": "code",
   "execution_count": 18,
   "metadata": {},
   "outputs": [],
   "source": [
    "freq = pd.Series(data=[1, 0, 0.5, 0.5], index=['Approved', 'Canceled', 'Refused', 'Unused offer'], dtype='float')\n",
    "df_applications_history['NAME_CONTRACT_STATUS'] = df_applications_history['NAME_CONTRACT_STATUS'].map(freq).astype('float')"
   ]
  },
  {
   "cell_type": "markdown",
   "metadata": {},
   "source": [
    "NAME_PAYMENT_TYPE"
   ]
  },
  {
   "cell_type": "code",
   "execution_count": 19,
   "metadata": {},
   "outputs": [
    {
     "data": {
      "text/plain": [
       "Cash through the bank                        1033552\n",
       "XNA                                           627384\n",
       "Non-cash from your account                      8193\n",
       "Cashless from the account of the employer       1085\n",
       "Name: NAME_PAYMENT_TYPE, dtype: int64"
      ]
     },
     "execution_count": 19,
     "metadata": {},
     "output_type": "execute_result"
    }
   ],
   "source": [
    "df_applications_history['NAME_PAYMENT_TYPE'].value_counts()"
   ]
  },
  {
   "cell_type": "code",
   "execution_count": 20,
   "metadata": {},
   "outputs": [],
   "source": [
    "df_applications_history = create_freq_feature(df_applications_history, 'NAME_PAYMENT_TYPE')"
   ]
  },
  {
   "cell_type": "markdown",
   "metadata": {},
   "source": [
    "CODE_REJECT_REASON"
   ]
  },
  {
   "cell_type": "code",
   "execution_count": 21,
   "metadata": {},
   "outputs": [
    {
     "data": {
      "text/plain": [
       "XAP       1353093\n",
       "HC         175231\n",
       "LIMIT       55680\n",
       "SCO         37467\n",
       "CLIENT      26436\n",
       "SCOFR       12811\n",
       "XNA          5244\n",
       "VERIF        3535\n",
       "SYSTEM        717\n",
       "Name: CODE_REJECT_REASON, dtype: int64"
      ]
     },
     "execution_count": 21,
     "metadata": {},
     "output_type": "execute_result"
    }
   ],
   "source": [
    "df_applications_history['CODE_REJECT_REASON'].value_counts()"
   ]
  },
  {
   "cell_type": "code",
   "execution_count": 22,
   "metadata": {},
   "outputs": [],
   "source": [
    "df_applications_history = create_freq_feature(df_applications_history, 'CODE_REJECT_REASON')"
   ]
  },
  {
   "cell_type": "markdown",
   "metadata": {},
   "source": [
    "NAME_CLIENT_TYPE"
   ]
  },
  {
   "cell_type": "code",
   "execution_count": 23,
   "metadata": {},
   "outputs": [
    {
     "data": {
      "text/plain": [
       "Repeater     1231261\n",
       "New           301363\n",
       "Refreshed     135649\n",
       "XNA             1941\n",
       "Name: NAME_CLIENT_TYPE, dtype: int64"
      ]
     },
     "execution_count": 23,
     "metadata": {},
     "output_type": "execute_result"
    }
   ],
   "source": [
    "df_applications_history['NAME_CLIENT_TYPE'].value_counts()"
   ]
  },
  {
   "cell_type": "code",
   "execution_count": 24,
   "metadata": {},
   "outputs": [],
   "source": [
    "df_applications_history = create_freq_feature(df_applications_history, 'NAME_CLIENT_TYPE')"
   ]
  },
  {
   "cell_type": "markdown",
   "metadata": {},
   "source": [
    "NAME_GOODS_CATEGORY"
   ]
  },
  {
   "cell_type": "code",
   "execution_count": 25,
   "metadata": {},
   "outputs": [
    {
     "data": {
      "text/plain": [
       "XNA                         950809\n",
       "Mobile                      224708\n",
       "Consumer Electronics        121576\n",
       "Computers                   105769\n",
       "Audio/Video                  99441\n",
       "Furniture                    53656\n",
       "Photo / Cinema Equipment     25021\n",
       "Construction Materials       24995\n",
       "Clothing and Accessories     23554\n",
       "Auto Accessories              7381\n",
       "Jewelry                       6290\n",
       "Homewares                     5023\n",
       "Medical Supplies              3843\n",
       "Vehicles                      3370\n",
       "Sport and Leisure             2981\n",
       "Gardening                     2668\n",
       "Other                         2554\n",
       "Office Appliances             2333\n",
       "Tourism                       1659\n",
       "Medicine                      1550\n",
       "Direct Sales                   446\n",
       "Fitness                        209\n",
       "Additional Service             128\n",
       "Education                      107\n",
       "Weapon                          77\n",
       "Insurance                       64\n",
       "Animals                          1\n",
       "House Construction               1\n",
       "Name: NAME_GOODS_CATEGORY, dtype: int64"
      ]
     },
     "execution_count": 25,
     "metadata": {},
     "output_type": "execute_result"
    }
   ],
   "source": [
    "df_applications_history['NAME_GOODS_CATEGORY'].value_counts()"
   ]
  },
  {
   "cell_type": "code",
   "execution_count": 26,
   "metadata": {},
   "outputs": [],
   "source": [
    "df_applications_history = create_freq_feature(df_applications_history, 'NAME_GOODS_CATEGORY')"
   ]
  },
  {
   "cell_type": "markdown",
   "metadata": {},
   "source": [
    "NAME_PORTFOLIO, NAME_PRODUCT_TYPE, NAME_YIELD_GROUP"
   ]
  },
  {
   "cell_type": "code",
   "execution_count": 27,
   "metadata": {},
   "outputs": [],
   "source": [
    "df_applications_history = create_freq_feature(df_applications_history, 'NAME_PORTFOLIO')\n",
    "df_applications_history = create_freq_feature(df_applications_history, 'NAME_PRODUCT_TYPE')\n",
    "df_applications_history = create_freq_feature(df_applications_history, 'NAME_YIELD_GROUP')"
   ]
  },
  {
   "cell_type": "markdown",
   "metadata": {},
   "source": [
    "Other"
   ]
  },
  {
   "cell_type": "code",
   "execution_count": 28,
   "metadata": {},
   "outputs": [],
   "source": [
    "df_applications_history = df_applications_history.fillna(0)"
   ]
  },
  {
   "cell_type": "markdown",
   "metadata": {},
   "source": [
    "numeric"
   ]
  },
  {
   "cell_type": "code",
   "execution_count": 29,
   "metadata": {},
   "outputs": [],
   "source": [
    "df_applications_history = numeric_feature_preprocessing(df_applications_history, \n",
    "                                                        numeric_feature=numerical_features_df_applications_history)"
   ]
  },
  {
   "cell_type": "markdown",
   "metadata": {},
   "source": [
    "visual"
   ]
  },
  {
   "cell_type": "code",
   "execution_count": 30,
   "metadata": {},
   "outputs": [],
   "source": [
    "standard_scaler = StandardScaler()\n",
    "df_applications_history_scale = \\\n",
    "            pd.DataFrame(standard_scaler.fit_transform(df_applications_history), \n",
    "                         columns=df_applications_history.columns)"
   ]
  },
  {
   "cell_type": "code",
   "execution_count": 31,
   "metadata": {},
   "outputs": [],
   "source": [
    "from sklearn.manifold import TSNE\n",
    "tsne = TSNE(n_components=3, learning_rate=250, random_state=42)"
   ]
  },
  {
   "cell_type": "code",
   "execution_count": 32,
   "metadata": {},
   "outputs": [],
   "source": [
    "df_applications_history_scale.drop(['PREV_APPLICATION_NUMBER', 'APPLICATION_NUMBER'], axis='columns', inplace=True)"
   ]
  },
  {
   "cell_type": "code",
   "execution_count": 33,
   "metadata": {},
   "outputs": [
    {
     "data": {
      "text/html": [
       "<div>\n",
       "<style scoped>\n",
       "    .dataframe tbody tr th:only-of-type {\n",
       "        vertical-align: middle;\n",
       "    }\n",
       "\n",
       "    .dataframe tbody tr th {\n",
       "        vertical-align: top;\n",
       "    }\n",
       "\n",
       "    .dataframe thead th {\n",
       "        text-align: right;\n",
       "    }\n",
       "</style>\n",
       "<table border=\"1\" class=\"dataframe\">\n",
       "  <thead>\n",
       "    <tr style=\"text-align: right;\">\n",
       "      <th></th>\n",
       "      <th>NAME_CONTRACT_TYPE</th>\n",
       "      <th>AMOUNT_ANNUITY</th>\n",
       "      <th>AMT_APPLICATION</th>\n",
       "      <th>AMOUNT_CREDIT</th>\n",
       "      <th>AMOUNT_GOODS_PAYMENT</th>\n",
       "      <th>NAME_CONTRACT_STATUS</th>\n",
       "      <th>DAYS_DECISION</th>\n",
       "      <th>NAME_PAYMENT_TYPE</th>\n",
       "      <th>CODE_REJECT_REASON</th>\n",
       "      <th>NAME_TYPE_SUITE</th>\n",
       "      <th>NAME_CLIENT_TYPE</th>\n",
       "      <th>NAME_GOODS_CATEGORY</th>\n",
       "      <th>NAME_PORTFOLIO</th>\n",
       "      <th>NAME_PRODUCT_TYPE</th>\n",
       "      <th>SELLERPLACE_AREA</th>\n",
       "      <th>CNT_PAYMENT</th>\n",
       "      <th>NAME_YIELD_GROUP</th>\n",
       "      <th>DAYS_FIRST_DRAWING</th>\n",
       "      <th>DAYS_FIRST_DUE</th>\n",
       "      <th>DAYS_LAST_DUE_1ST_VERSION</th>\n",
       "      <th>DAYS_LAST_DUE</th>\n",
       "      <th>DAYS_TERMINATION</th>\n",
       "      <th>NFLAG_INSURED_ON_APPROVAL</th>\n",
       "    </tr>\n",
       "  </thead>\n",
       "  <tbody>\n",
       "    <tr>\n",
       "      <th>0</th>\n",
       "      <td>-1.001409</td>\n",
       "      <td>-0.772169</td>\n",
       "      <td>-0.573747</td>\n",
       "      <td>-0.592945</td>\n",
       "      <td>-0.573784</td>\n",
       "      <td>0.719819</td>\n",
       "      <td>-1.037762</td>\n",
       "      <td>0.765301</td>\n",
       "      <td>0.483189</td>\n",
       "      <td>-0.827814</td>\n",
       "      <td>0.594529</td>\n",
       "      <td>-0.903277</td>\n",
       "      <td>1.049797</td>\n",
       "      <td>0.733906</td>\n",
       "      <td>-0.326416</td>\n",
       "      <td>-0.032795</td>\n",
       "      <td>-0.052810</td>\n",
       "      <td>0.887348</td>\n",
       "      <td>-0.168728</td>\n",
       "      <td>-0.246329</td>\n",
       "      <td>-0.384563</td>\n",
       "      <td>-0.399381</td>\n",
       "      <td>-0.497734</td>\n",
       "    </tr>\n",
       "    <tr>\n",
       "      <th>1</th>\n",
       "      <td>1.095945</td>\n",
       "      <td>0.956742</td>\n",
       "      <td>1.629294</td>\n",
       "      <td>1.654545</td>\n",
       "      <td>1.629080</td>\n",
       "      <td>0.719819</td>\n",
       "      <td>-0.920786</td>\n",
       "      <td>-1.198692</td>\n",
       "      <td>0.483189</td>\n",
       "      <td>1.439133</td>\n",
       "      <td>0.594529</td>\n",
       "      <td>0.863737</td>\n",
       "      <td>-0.273491</td>\n",
       "      <td>-1.062749</td>\n",
       "      <td>-0.381112</td>\n",
       "      <td>1.625877</td>\n",
       "      <td>-2.840878</td>\n",
       "      <td>0.887348</td>\n",
       "      <td>-0.167090</td>\n",
       "      <td>-0.238996</td>\n",
       "      <td>2.628155</td>\n",
       "      <td>2.528435</td>\n",
       "      <td>2.009104</td>\n",
       "    </tr>\n",
       "    <tr>\n",
       "      <th>2</th>\n",
       "      <td>1.095945</td>\n",
       "      <td>0.210299</td>\n",
       "      <td>-0.217909</td>\n",
       "      <td>-0.188245</td>\n",
       "      <td>-0.217974</td>\n",
       "      <td>0.719819</td>\n",
       "      <td>-0.744680</td>\n",
       "      <td>0.765301</td>\n",
       "      <td>0.483189</td>\n",
       "      <td>-0.529089</td>\n",
       "      <td>0.594529</td>\n",
       "      <td>0.863737</td>\n",
       "      <td>-0.273491</td>\n",
       "      <td>-1.062749</td>\n",
       "      <td>-0.381112</td>\n",
       "      <td>-0.032795</td>\n",
       "      <td>-0.358708</td>\n",
       "      <td>0.887348</td>\n",
       "      <td>-0.164652</td>\n",
       "      <td>-0.249198</td>\n",
       "      <td>2.628155</td>\n",
       "      <td>2.528435</td>\n",
       "      <td>2.009104</td>\n",
       "    </tr>\n",
       "    <tr>\n",
       "      <th>3</th>\n",
       "      <td>1.095945</td>\n",
       "      <td>2.567328</td>\n",
       "      <td>1.041547</td>\n",
       "      <td>0.945957</td>\n",
       "      <td>1.041381</td>\n",
       "      <td>0.719819</td>\n",
       "      <td>-0.473451</td>\n",
       "      <td>0.765301</td>\n",
       "      <td>0.483189</td>\n",
       "      <td>-0.827814</td>\n",
       "      <td>0.594529</td>\n",
       "      <td>0.863737</td>\n",
       "      <td>-0.273491</td>\n",
       "      <td>-1.062749</td>\n",
       "      <td>-0.381112</td>\n",
       "      <td>-0.032795</td>\n",
       "      <td>-0.052810</td>\n",
       "      <td>0.887348</td>\n",
       "      <td>-0.160896</td>\n",
       "      <td>-0.248091</td>\n",
       "      <td>-0.383408</td>\n",
       "      <td>-0.398259</td>\n",
       "      <td>2.009104</td>\n",
       "    </tr>\n",
       "    <tr>\n",
       "      <th>4</th>\n",
       "      <td>1.095945</td>\n",
       "      <td>1.453182</td>\n",
       "      <td>0.621729</td>\n",
       "      <td>0.719571</td>\n",
       "      <td>0.621596</td>\n",
       "      <td>-0.546039</td>\n",
       "      <td>-0.127667</td>\n",
       "      <td>0.765301</td>\n",
       "      <td>-1.935679</td>\n",
       "      <td>-0.827814</td>\n",
       "      <td>0.594529</td>\n",
       "      <td>0.863737</td>\n",
       "      <td>-0.273491</td>\n",
       "      <td>-1.967988</td>\n",
       "      <td>-0.381112</td>\n",
       "      <td>0.796541</td>\n",
       "      <td>-0.358708</td>\n",
       "      <td>-1.127438</td>\n",
       "      <td>-0.169475</td>\n",
       "      <td>-0.249900</td>\n",
       "      <td>-0.384909</td>\n",
       "      <td>-0.399678</td>\n",
       "      <td>-0.497734</td>\n",
       "    </tr>\n",
       "  </tbody>\n",
       "</table>\n",
       "</div>"
      ],
      "text/plain": [
       "   NAME_CONTRACT_TYPE  AMOUNT_ANNUITY  AMT_APPLICATION  AMOUNT_CREDIT  \\\n",
       "0           -1.001409       -0.772169        -0.573747      -0.592945   \n",
       "1            1.095945        0.956742         1.629294       1.654545   \n",
       "2            1.095945        0.210299        -0.217909      -0.188245   \n",
       "3            1.095945        2.567328         1.041547       0.945957   \n",
       "4            1.095945        1.453182         0.621729       0.719571   \n",
       "\n",
       "   AMOUNT_GOODS_PAYMENT  NAME_CONTRACT_STATUS  DAYS_DECISION  \\\n",
       "0             -0.573784              0.719819      -1.037762   \n",
       "1              1.629080              0.719819      -0.920786   \n",
       "2             -0.217974              0.719819      -0.744680   \n",
       "3              1.041381              0.719819      -0.473451   \n",
       "4              0.621596             -0.546039      -0.127667   \n",
       "\n",
       "   NAME_PAYMENT_TYPE  CODE_REJECT_REASON  NAME_TYPE_SUITE  NAME_CLIENT_TYPE  \\\n",
       "0           0.765301            0.483189        -0.827814          0.594529   \n",
       "1          -1.198692            0.483189         1.439133          0.594529   \n",
       "2           0.765301            0.483189        -0.529089          0.594529   \n",
       "3           0.765301            0.483189        -0.827814          0.594529   \n",
       "4           0.765301           -1.935679        -0.827814          0.594529   \n",
       "\n",
       "   NAME_GOODS_CATEGORY  NAME_PORTFOLIO  NAME_PRODUCT_TYPE  SELLERPLACE_AREA  \\\n",
       "0            -0.903277        1.049797           0.733906         -0.326416   \n",
       "1             0.863737       -0.273491          -1.062749         -0.381112   \n",
       "2             0.863737       -0.273491          -1.062749         -0.381112   \n",
       "3             0.863737       -0.273491          -1.062749         -0.381112   \n",
       "4             0.863737       -0.273491          -1.967988         -0.381112   \n",
       "\n",
       "   CNT_PAYMENT  NAME_YIELD_GROUP  DAYS_FIRST_DRAWING  DAYS_FIRST_DUE  \\\n",
       "0    -0.032795         -0.052810            0.887348       -0.168728   \n",
       "1     1.625877         -2.840878            0.887348       -0.167090   \n",
       "2    -0.032795         -0.358708            0.887348       -0.164652   \n",
       "3    -0.032795         -0.052810            0.887348       -0.160896   \n",
       "4     0.796541         -0.358708           -1.127438       -0.169475   \n",
       "\n",
       "   DAYS_LAST_DUE_1ST_VERSION  DAYS_LAST_DUE  DAYS_TERMINATION  \\\n",
       "0                  -0.246329      -0.384563         -0.399381   \n",
       "1                  -0.238996       2.628155          2.528435   \n",
       "2                  -0.249198       2.628155          2.528435   \n",
       "3                  -0.248091      -0.383408         -0.398259   \n",
       "4                  -0.249900      -0.384909         -0.399678   \n",
       "\n",
       "   NFLAG_INSURED_ON_APPROVAL  \n",
       "0                  -0.497734  \n",
       "1                   2.009104  \n",
       "2                   2.009104  \n",
       "3                   2.009104  \n",
       "4                  -0.497734  "
      ]
     },
     "execution_count": 33,
     "metadata": {},
     "output_type": "execute_result"
    }
   ],
   "source": [
    "df_applications_history_scale.head()"
   ]
  },
  {
   "cell_type": "code",
   "execution_count": 34,
   "metadata": {},
   "outputs": [
    {
     "name": "stdout",
     "output_type": "stream",
     "text": [
      "Wall time: 11.9 s\n"
     ]
    }
   ],
   "source": [
    "%%time\n",
    "\n",
    "applications_history_tsne = tsne.fit_transform(df_applications_history_scale.sample(2000))"
   ]
  },
  {
   "cell_type": "code",
   "execution_count": 35,
   "metadata": {},
   "outputs": [
    {
     "data": {
      "text/plain": [
       "<mpl_toolkits.mplot3d.art3d.Path3DCollection at 0x26588113b08>"
      ]
     },
     "execution_count": 35,
     "metadata": {},
     "output_type": "execute_result"
    },
    {
     "data": {
      "image/png": "[encoded data removed]",
      "text/plain": [
       "<Figure size 720x720 with 1 Axes>"
      ]
     },
     "metadata": {
      "needs_background": "light"
     },
     "output_type": "display_data"
    }
   ],
   "source": [
    "from mpl_toolkits.mplot3d import Axes3D\n",
    "plt.rcParams['figure.figsize'] = [10, 10]\n",
    "\n",
    "fig = plt.figure()\n",
    "ax = fig.add_subplot(111, projection='3d')\n",
    "ax.scatter(applications_history_tsne[:, 0],\n",
    "        applications_history_tsne[:, 1],\n",
    "        applications_history_tsne[:, 2])"
   ]
  },
  {
   "cell_type": "markdown",
   "metadata": {},
   "source": [
    "result"
   ]
  },
  {
   "cell_type": "code",
   "execution_count": 48,
   "metadata": {},
   "outputs": [],
   "source": [
    "kmeans_n_clusters_df_applications_history = 20\n",
    "\n",
    "kmeans = KMeans(n_clusters=kmeans_n_clusters_df_applications_history,\n",
    "                max_iter=10000, random_state=1)"
   ]
  },
  {
   "cell_type": "code",
   "execution_count": 49,
   "metadata": {},
   "outputs": [
    {
     "name": "stdout",
     "output_type": "stream",
     "text": [
      "Wall time: 1min 58s\n"
     ]
    }
   ],
   "source": [
    "%%time\n",
    "\n",
    "kmeans_train = kmeans.fit_predict(df_applications_history_scale)"
   ]
  },
  {
   "cell_type": "code",
   "execution_count": 50,
   "metadata": {},
   "outputs": [],
   "source": [
    "df_applications_history_result = pd.DataFrame(pd.get_dummies(kmeans_train, prefix='applications_history'))\n",
    "df_applications_history_result_columns = df_applications_history_result.columns\n",
    "df_applications_history_result['APPLICATION_NUMBER'] = df_applications_history['APPLICATION_NUMBER']"
   ]
  },
  {
   "cell_type": "code",
   "execution_count": 51,
   "metadata": {},
   "outputs": [],
   "source": [
    "df_applications_history_result = pd.pivot_table(df_applications_history_result, \n",
    "                                                values=df_applications_history_result_columns, \n",
    "                                                index=['APPLICATION_NUMBER'], aggfunc=np.sum)"
   ]
  },
  {
   "cell_type": "code",
   "execution_count": 52,
   "metadata": {},
   "outputs": [],
   "source": [
    "df_applications_history_result['sum'] = df_applications_history_result.sum(axis=1)\n",
    "for col in df_applications_history_result_columns:\n",
    "    df_applications_history_result[col] = df_applications_history_result[col] / df_applications_history_result['sum']\n",
    "df_applications_history_result.drop(['sum'], axis='columns', inplace=True)  "
   ]
  },
  {
   "cell_type": "markdown",
   "metadata": {},
   "source": [
    "## model"
   ]
  },
  {
   "cell_type": "code",
   "execution_count": 59,
   "metadata": {},
   "outputs": [],
   "source": [
    "# df_applications_history_result = pd.pivot_table(df_applications_history, \n",
    "#                                                 values=df_applications_history.columns, \n",
    "#                                                 index=['APPLICATION_NUMBER'], aggfunc=np.sum)"
   ]
  },
  {
   "cell_type": "code",
   "execution_count": 60,
   "metadata": {},
   "outputs": [
    {
     "name": "stdout",
     "output_type": "stream",
     "text": [
      "df_train_applications_history.shape = 73259 rows, 25 cols\n",
      "df_valid_applications_history.shape = 31397 rows, 25 cols\n"
     ]
    }
   ],
   "source": [
    "df_train_applications_history = df_train.merge(df_applications_history_result, \n",
    "                                               left_on='APPLICATION_NUMBER', \n",
    "                                               right_on='APPLICATION_NUMBER', \n",
    "                                               how='inner')\n",
    "\n",
    "cor = df_train_applications_history.corr()\n",
    "\n",
    "df_train_applications_history, df_valid_applications_history = train_test_split(df_train_applications_history, \n",
    "                                                                                test_size=0.3,  \n",
    "                                                                                random_state=42)\n",
    "\n",
    "y_train_applications_history = df_train_applications_history[\"TARGET\"]\n",
    "y_valid_applications_history = df_valid_applications_history[\"TARGET\"]\n",
    "\n",
    "df_train_applications_history.drop([\"TARGET\", 'APPLICATION_NUMBER'], axis='columns', inplace=True)\n",
    "df_valid_applications_history.drop([\"TARGET\", 'APPLICATION_NUMBER'], axis='columns', inplace=True)\n",
    "\n",
    "print(\"df_train_applications_history.shape = {} rows, {} cols\".format(*df_train_applications_history.shape))\n",
    "print(\"df_valid_applications_history.shape = {} rows, {} cols\".format(*df_valid_applications_history.shape))"
   ]
  },
  {
   "cell_type": "code",
   "execution_count": 61,
   "metadata": {},
   "outputs": [
    {
     "name": "stderr",
     "output_type": "stream",
     "text": [
      "C:\\ProgramData\\Anaconda3\\lib\\site-packages\\lightgbm\\engine.py:148: UserWarning: Found `n_estimators` in params. Will use it instead of argument\n",
      "  warnings.warn(\"Found `{}` in params. Will use it instead of argument\".format(alias))\n"
     ]
    },
    {
     "name": "stdout",
     "output_type": "stream",
     "text": [
      "Training until validation scores don't improve for 100 rounds\n",
      "Early stopping, best iteration is:\n",
      "[81]\ttraining's auc: 0.550569\tvalid_1's auc: 0.515411\n",
      "Wall time: 1.6 s\n"
     ]
    }
   ],
   "source": [
    "%%time\n",
    "dtrain = lgb.Dataset(data=df_train_applications_history, label=y_train_applications_history)\n",
    "dvalid = lgb.Dataset(data=df_valid_applications_history, label=y_valid_applications_history)\n",
    "\n",
    "params = {\n",
    "    \"boosting_type\": \"goss\",\n",
    "    \"objective\": \"binary\",\n",
    "    \"metric\": \"auc\",\n",
    "    \"learning_rate\": 0.001,\n",
    "    \"n_estimators\": 10000,\n",
    "    \"n_jobs\": 4,\n",
    "    \"seed\": 20\n",
    "}\n",
    "\n",
    "model_lgb = lgb.train(\n",
    "    params=params,\n",
    "    train_set=dtrain,\n",
    "    num_boost_round=10000,\n",
    "    valid_sets=[dtrain, dvalid],\n",
    "    categorical_feature=\"auto\",\n",
    "    early_stopping_rounds=100,\n",
    "    verbose_eval=500\n",
    ")"
   ]
  },
  {
   "cell_type": "code",
   "execution_count": 62,
   "metadata": {},
   "outputs": [
    {
     "data": {
      "text/plain": [
       "<AxesSubplot:title={'center':'Correlation of Numeric Features with Sale Price'}>"
      ]
     },
     "execution_count": 62,
     "metadata": {},
     "output_type": "execute_result"
    },
    {
     "data": {
      "image/png": "[encoded data removed]",
      "text/plain": [
       "<Figure size 1800x1800 with 2 Axes>"
      ]
     },
     "metadata": {
      "needs_background": "light"
     },
     "output_type": "display_data"
    }
   ],
   "source": [
    "fig, axes = plt.subplots(figsize = (25,25))\n",
    "plt.title(\"Correlation of Numeric Features with Sale Price\", y=1, size=16)\n",
    "sns.heatmap(cor, square=True, vmax=1, cmap=\"viridis\")"
   ]
  },
  {
   "cell_type": "markdown",
   "metadata": {},
   "source": [
    "# данные БКИ о предыдущих кредитах клиента;\n",
    "df_bki"
   ]
  },
  {
   "cell_type": "code",
   "execution_count": null,
   "metadata": {},
   "outputs": [],
   "source": [
    "#!!!!!!!!!!!!!!!!!!!!!!!!!!!!!!!!!!!!!!!!!!!!!!!!!!!!!!!!!!!!!!!!!!!!!!!!\n",
    "# данные БКИ о предыдущих кредитах клиента;\n",
    "df_bki = pd.read_csv(\n",
    "    \"../geekbrains-competitive-data-analysis/bki.csv\"\n",
    ")\n",
    "\n",
    "print(\"bki.shape = {} rows, {} cols\".format(*df_bki.shape))\n",
    "df_bki.head()"
   ]
  },
  {
   "cell_type": "code",
   "execution_count": null,
   "metadata": {},
   "outputs": [],
   "source": [
    "df_bki.info()"
   ]
  },
  {
   "cell_type": "code",
   "execution_count": null,
   "metadata": {},
   "outputs": [],
   "source": [
    "msno.matrix(df_bki)"
   ]
  },
  {
   "cell_type": "code",
   "execution_count": null,
   "metadata": {},
   "outputs": [],
   "source": [
    "numerical_features_df_bki = df_bki.select_dtypes(include=[np.number]).columns\n",
    "numerical_features_df_bki = numerical_features_df_bki.drop('APPLICATION_NUMBER')\n",
    "\n",
    "numerical_features_df_bki"
   ]
  },
  {
   "cell_type": "markdown",
   "metadata": {},
   "source": [
    "CREDIT_ACTIVE, CREDIT_CURRENCY, CREDIT_TYPE"
   ]
  },
  {
   "cell_type": "code",
   "execution_count": null,
   "metadata": {},
   "outputs": [],
   "source": [
    "df_bki['CREDIT_ACTIVE'].value_counts()"
   ]
  },
  {
   "cell_type": "code",
   "execution_count": null,
   "metadata": {},
   "outputs": [],
   "source": [
    "df_bki['CREDIT_CURRENCY'].value_counts()"
   ]
  },
  {
   "cell_type": "code",
   "execution_count": null,
   "metadata": {},
   "outputs": [],
   "source": [
    "df_bki['CREDIT_TYPE'].value_counts()"
   ]
  },
  {
   "cell_type": "code",
   "execution_count": null,
   "metadata": {},
   "outputs": [],
   "source": [
    "df_bki = create_freq_feature(df_bki, 'CREDIT_ACTIVE')\n",
    "df_bki = create_freq_feature(df_bki, 'CREDIT_CURRENCY')\n",
    "df_bki = create_freq_feature(df_bki, 'CREDIT_TYPE')"
   ]
  },
  {
   "cell_type": "markdown",
   "metadata": {},
   "source": [
    "DAYS_CREDIT_ENDDATE"
   ]
  },
  {
   "cell_type": "code",
   "execution_count": null,
   "metadata": {},
   "outputs": [],
   "source": [
    "mean = df_bki.loc[df_bki['DAYS_CREDIT_ENDDATE'].notnull(), ['DAYS_CREDIT_ENDDATE']].mean()\n",
    "df_bki['DAYS_CREDIT_ENDDATE'] = df_bki['DAYS_CREDIT_ENDDATE'].fillna(mean[0])"
   ]
  },
  {
   "cell_type": "markdown",
   "metadata": {},
   "source": [
    "DAYS_ENDDATE_FACT"
   ]
  },
  {
   "cell_type": "code",
   "execution_count": null,
   "metadata": {},
   "outputs": [],
   "source": [
    "df_bki.loc[df_bki['DAYS_ENDDATE_FACT'].isnull(), ['DAYS_ENDDATE_FACT']] = df_bki['DAYS_CREDIT_ENDDATE']"
   ]
  },
  {
   "cell_type": "markdown",
   "metadata": {},
   "source": [
    "AMT_CREDIT_MAX_OVERDUE"
   ]
  },
  {
   "cell_type": "code",
   "execution_count": null,
   "metadata": {},
   "outputs": [],
   "source": [
    "df_bki['AMT_CREDIT_MAX_OVERDUE'] = df_bki['AMT_CREDIT_MAX_OVERDUE'].fillna(0)"
   ]
  },
  {
   "cell_type": "markdown",
   "metadata": {},
   "source": [
    "other"
   ]
  },
  {
   "cell_type": "code",
   "execution_count": null,
   "metadata": {},
   "outputs": [],
   "source": [
    "df_bki.drop(['AMT_ANNUITY'], axis='columns', inplace=True)\n",
    "numerical_features_df_bki = numerical_features_df_bki.drop('AMT_ANNUITY')"
   ]
  },
  {
   "cell_type": "code",
   "execution_count": null,
   "metadata": {},
   "outputs": [],
   "source": [
    "df_bki = df_bki.fillna(0)"
   ]
  },
  {
   "cell_type": "markdown",
   "metadata": {},
   "source": [
    "num"
   ]
  },
  {
   "cell_type": "code",
   "execution_count": null,
   "metadata": {},
   "outputs": [],
   "source": [
    "df_bki = numeric_feature_preprocessing(df_bki, \n",
    "                                       numeric_feature=numerical_features_df_bki)"
   ]
  },
  {
   "cell_type": "markdown",
   "metadata": {},
   "source": [
    "scale"
   ]
  },
  {
   "cell_type": "code",
   "execution_count": null,
   "metadata": {},
   "outputs": [],
   "source": [
    "df_bki_scale = pd.DataFrame(standard_scaler.fit_transform(df_bki), \n",
    "               columns=df_bki.columns)"
   ]
  },
  {
   "cell_type": "code",
   "execution_count": null,
   "metadata": {},
   "outputs": [],
   "source": [
    "df_bki_scale.drop(['APPLICATION_NUMBER', 'BUREAU_ID'], axis='columns', inplace=True)"
   ]
  },
  {
   "cell_type": "code",
   "execution_count": null,
   "metadata": {},
   "outputs": [],
   "source": [
    "kmeans_bki = KMeans(n_clusters=10, max_iter=10000, random_state=1)"
   ]
  },
  {
   "cell_type": "code",
   "execution_count": null,
   "metadata": {},
   "outputs": [],
   "source": [
    "%%time\n",
    "\n",
    "kmeans_train_bki = kmeans_bki.fit_predict(df_bki_scale)"
   ]
  },
  {
   "cell_type": "code",
   "execution_count": null,
   "metadata": {},
   "outputs": [],
   "source": [
    "df_bki_result = pd.DataFrame(pd.get_dummies(kmeans_train_bki, prefix='bki'))\n",
    "df_bki_result_columns = df_bki_result.columns\n",
    "df_bki_result['APPLICATION_NUMBER'] = df_bki['APPLICATION_NUMBER']"
   ]
  },
  {
   "cell_type": "code",
   "execution_count": null,
   "metadata": {},
   "outputs": [],
   "source": [
    "df_bki_result = pd.pivot_table(df_bki_result, values=df_bki_result_columns, index=['APPLICATION_NUMBER'], aggfunc=np.sum)"
   ]
  },
  {
   "cell_type": "code",
   "execution_count": null,
   "metadata": {},
   "outputs": [],
   "source": [
    "df_bki_result['sum'] = df_bki_result.sum(axis=1)\n",
    "for col in df_bki_result_columns:\n",
    "    df_bki_result[col] = df_bki_result[col] / df_bki_result['sum']\n",
    "df_bki_result.drop(['sum'], axis='columns', inplace=True)  "
   ]
  },
  {
   "cell_type": "markdown",
   "metadata": {},
   "source": [
    "# история платежей клиента;\n",
    "df_payments"
   ]
  },
  {
   "cell_type": "code",
   "execution_count": 63,
   "metadata": {},
   "outputs": [
    {
     "name": "stdout",
     "output_type": "stream",
     "text": [
      "payments.shape = 1023932 rows, 8 cols\n"
     ]
    },
    {
     "data": {
      "text/html": [
       "<div>\n",
       "<style scoped>\n",
       "    .dataframe tbody tr th:only-of-type {\n",
       "        vertical-align: middle;\n",
       "    }\n",
       "\n",
       "    .dataframe tbody tr th {\n",
       "        vertical-align: top;\n",
       "    }\n",
       "\n",
       "    .dataframe thead th {\n",
       "        text-align: right;\n",
       "    }\n",
       "</style>\n",
       "<table border=\"1\" class=\"dataframe\">\n",
       "  <thead>\n",
       "    <tr style=\"text-align: right;\">\n",
       "      <th></th>\n",
       "      <th>PREV_APPLICATION_NUMBER</th>\n",
       "      <th>APPLICATION_NUMBER</th>\n",
       "      <th>NUM_INSTALMENT_VERSION</th>\n",
       "      <th>NUM_INSTALMENT_NUMBER</th>\n",
       "      <th>DAYS_INSTALMENT</th>\n",
       "      <th>DAYS_ENTRY_PAYMENT</th>\n",
       "      <th>AMT_INSTALMENT</th>\n",
       "      <th>AMT_PAYMENT</th>\n",
       "    </tr>\n",
       "  </thead>\n",
       "  <tbody>\n",
       "    <tr>\n",
       "      <th>0</th>\n",
       "      <td>49011181</td>\n",
       "      <td>123664960</td>\n",
       "      <td>1.0</td>\n",
       "      <td>5</td>\n",
       "      <td>1002.0</td>\n",
       "      <td>1015.0</td>\n",
       "      <td>12156.615</td>\n",
       "      <td>12156.615</td>\n",
       "    </tr>\n",
       "    <tr>\n",
       "      <th>1</th>\n",
       "      <td>48683432</td>\n",
       "      <td>123497205</td>\n",
       "      <td>1.0</td>\n",
       "      <td>13</td>\n",
       "      <td>442.0</td>\n",
       "      <td>432.0</td>\n",
       "      <td>18392.535</td>\n",
       "      <td>10047.645</td>\n",
       "    </tr>\n",
       "    <tr>\n",
       "      <th>2</th>\n",
       "      <td>48652024</td>\n",
       "      <td>123749925</td>\n",
       "      <td>1.0</td>\n",
       "      <td>10</td>\n",
       "      <td>8.0</td>\n",
       "      <td>23.0</td>\n",
       "      <td>5499.945</td>\n",
       "      <td>5499.945</td>\n",
       "    </tr>\n",
       "    <tr>\n",
       "      <th>3</th>\n",
       "      <td>48398897</td>\n",
       "      <td>123550846</td>\n",
       "      <td>0.0</td>\n",
       "      <td>82</td>\n",
       "      <td>398.0</td>\n",
       "      <td>398.0</td>\n",
       "      <td>7082.145</td>\n",
       "      <td>7082.145</td>\n",
       "    </tr>\n",
       "    <tr>\n",
       "      <th>4</th>\n",
       "      <td>49867197</td>\n",
       "      <td>123562174</td>\n",
       "      <td>0.0</td>\n",
       "      <td>63</td>\n",
       "      <td>1359.0</td>\n",
       "      <td>1359.0</td>\n",
       "      <td>156.735</td>\n",
       "      <td>156.735</td>\n",
       "    </tr>\n",
       "  </tbody>\n",
       "</table>\n",
       "</div>"
      ],
      "text/plain": [
       "   PREV_APPLICATION_NUMBER  APPLICATION_NUMBER  NUM_INSTALMENT_VERSION  \\\n",
       "0                 49011181           123664960                     1.0   \n",
       "1                 48683432           123497205                     1.0   \n",
       "2                 48652024           123749925                     1.0   \n",
       "3                 48398897           123550846                     0.0   \n",
       "4                 49867197           123562174                     0.0   \n",
       "\n",
       "   NUM_INSTALMENT_NUMBER  DAYS_INSTALMENT  DAYS_ENTRY_PAYMENT  AMT_INSTALMENT  \\\n",
       "0                      5           1002.0              1015.0       12156.615   \n",
       "1                     13            442.0               432.0       18392.535   \n",
       "2                     10              8.0                23.0        5499.945   \n",
       "3                     82            398.0               398.0        7082.145   \n",
       "4                     63           1359.0              1359.0         156.735   \n",
       "\n",
       "   AMT_PAYMENT  \n",
       "0    12156.615  \n",
       "1    10047.645  \n",
       "2     5499.945  \n",
       "3     7082.145  \n",
       "4      156.735  "
      ]
     },
     "execution_count": 63,
     "metadata": {},
     "output_type": "execute_result"
    }
   ],
   "source": [
    "#!!!!!!!!!!!!!!!!!!!!!!!!!!!!!!!!!!!!!!!!!!!!!!!!!!!!!!!!!!!!!!!!!!!!!!!!\n",
    "# история платежей клиента;\n",
    "df_payments = pd.read_csv(\n",
    "    \"../geekbrains-competitive-data-analysis/payments.csv\"\n",
    ")\n",
    "\n",
    "print(\"payments.shape = {} rows, {} cols\".format(*df_payments.shape))\n",
    "df_payments.head()"
   ]
  },
  {
   "cell_type": "code",
   "execution_count": 64,
   "metadata": {},
   "outputs": [
    {
     "name": "stdout",
     "output_type": "stream",
     "text": [
      "<class 'pandas.core.frame.DataFrame'>\n",
      "RangeIndex: 1023932 entries, 0 to 1023931\n",
      "Data columns (total 8 columns):\n",
      " #   Column                   Non-Null Count    Dtype  \n",
      "---  ------                   --------------    -----  \n",
      " 0   PREV_APPLICATION_NUMBER  1023932 non-null  int64  \n",
      " 1   APPLICATION_NUMBER       1023932 non-null  int64  \n",
      " 2   NUM_INSTALMENT_VERSION   1023932 non-null  float64\n",
      " 3   NUM_INSTALMENT_NUMBER    1023932 non-null  int64  \n",
      " 4   DAYS_INSTALMENT          1023932 non-null  float64\n",
      " 5   DAYS_ENTRY_PAYMENT       1023729 non-null  float64\n",
      " 6   AMT_INSTALMENT           1023932 non-null  float64\n",
      " 7   AMT_PAYMENT              1023729 non-null  float64\n",
      "dtypes: float64(5), int64(3)\n",
      "memory usage: 62.5 MB\n"
     ]
    }
   ],
   "source": [
    "df_payments.info()"
   ]
  },
  {
   "cell_type": "code",
   "execution_count": 65,
   "metadata": {},
   "outputs": [
    {
     "data": {
      "text/plain": [
       "Index(['NUM_INSTALMENT_VERSION', 'NUM_INSTALMENT_NUMBER', 'DAYS_INSTALMENT',\n",
       "       'DAYS_ENTRY_PAYMENT', 'AMT_INSTALMENT', 'AMT_PAYMENT'],\n",
       "      dtype='object')"
      ]
     },
     "execution_count": 65,
     "metadata": {},
     "output_type": "execute_result"
    }
   ],
   "source": [
    "numerical_features_df_payments = df_payments.select_dtypes(include=[np.number]).columns\n",
    "numerical_features_df_payments = numerical_features_df_payments.drop('APPLICATION_NUMBER')\n",
    "numerical_features_df_payments = numerical_features_df_payments.drop('PREV_APPLICATION_NUMBER')\n",
    "\n",
    "numerical_features_df_payments"
   ]
  },
  {
   "cell_type": "code",
   "execution_count": 66,
   "metadata": {},
   "outputs": [],
   "source": [
    "df_payments = df_payments.fillna(0)"
   ]
  },
  {
   "cell_type": "code",
   "execution_count": 67,
   "metadata": {},
   "outputs": [],
   "source": [
    "# df_payments = numeric_feature_preprocessing(df_payments, \n",
    "#                                             numeric_feature=numerical_features_df_payments)"
   ]
  },
  {
   "cell_type": "code",
   "execution_count": 68,
   "metadata": {},
   "outputs": [],
   "source": [
    "df_payments_scale = pd.DataFrame(standard_scaler.fit_transform(df_payments), \n",
    "               columns=df_payments.columns)\n",
    "\n",
    "df_payments_scale.drop(['APPLICATION_NUMBER', 'PREV_APPLICATION_NUMBER'], axis='columns', inplace=True)"
   ]
  },
  {
   "cell_type": "code",
   "execution_count": 69,
   "metadata": {},
   "outputs": [],
   "source": [
    "kmeans_payments = KMeans(n_clusters=10, max_iter=10000, random_state=1)"
   ]
  },
  {
   "cell_type": "code",
   "execution_count": 70,
   "metadata": {},
   "outputs": [
    {
     "name": "stdout",
     "output_type": "stream",
     "text": [
      "Wall time: 28.8 s\n"
     ]
    }
   ],
   "source": [
    "%%time\n",
    "\n",
    "kmeans_train_payments = kmeans_payments.fit_predict(df_payments_scale)"
   ]
  },
  {
   "cell_type": "code",
   "execution_count": 71,
   "metadata": {},
   "outputs": [],
   "source": [
    "df_payments_result = pd.DataFrame(pd.get_dummies(kmeans_train_payments, prefix='payments'))\n",
    "df_payments_result_columns = df_payments_result.columns\n",
    "df_payments_result['APPLICATION_NUMBER'] = df_payments['APPLICATION_NUMBER']"
   ]
  },
  {
   "cell_type": "code",
   "execution_count": 72,
   "metadata": {},
   "outputs": [],
   "source": [
    "df_payments_result = pd.pivot_table(df_payments_result, values=df_payments_result_columns, index=['APPLICATION_NUMBER'], aggfunc=np.sum)"
   ]
  },
  {
   "cell_type": "code",
   "execution_count": 73,
   "metadata": {},
   "outputs": [],
   "source": [
    "df_payments_result['sum'] = df_payments_result.sum(axis=1)\n",
    "for col in df_payments_result_columns:\n",
    "    df_payments_result[col] = df_payments_result[col] / df_payments_result['sum']\n",
    "df_payments_result.drop(['sum'], axis='columns', inplace=True)  "
   ]
  },
  {
   "cell_type": "code",
   "execution_count": 74,
   "metadata": {},
   "outputs": [
    {
     "name": "stdout",
     "output_type": "stream",
     "text": [
      "df_train_payments = 57376 rows, 11 cols\n",
      "df_valid_payments.shape = 24591 rows, 11 cols\n"
     ]
    }
   ],
   "source": [
    "df_train_payments = df_train.merge(df_payments_result, \n",
    "                                   left_on='APPLICATION_NUMBER', \n",
    "                                   right_on='APPLICATION_NUMBER', \n",
    "                                   how='inner')\n",
    "\n",
    "cor = df_train_payments.corr()\n",
    "\n",
    "df_train_payments, df_valid_payments = train_test_split(df_train_payments, \n",
    "                                                        test_size=0.3,  \n",
    "                                                        random_state=42)\n",
    "\n",
    "y_train_payments = df_train_payments[\"TARGET\"]\n",
    "y_valid_payments = df_valid_payments[\"TARGET\"]\n",
    "\n",
    "df_train_payments.drop([\"TARGET\", 'APPLICATION_NUMBER'], axis='columns', inplace=True)\n",
    "df_valid_payments.drop([\"TARGET\", 'APPLICATION_NUMBER'], axis='columns', inplace=True)\n",
    "\n",
    "print(\"df_train_payments = {} rows, {} cols\".format(*df_train_payments.shape))\n",
    "print(\"df_valid_payments.shape = {} rows, {} cols\".format(*df_valid_payments.shape))"
   ]
  },
  {
   "cell_type": "code",
   "execution_count": 75,
   "metadata": {},
   "outputs": [
    {
     "name": "stderr",
     "output_type": "stream",
     "text": [
      "C:\\ProgramData\\Anaconda3\\lib\\site-packages\\lightgbm\\engine.py:148: UserWarning: Found `n_estimators` in params. Will use it instead of argument\n",
      "  warnings.warn(\"Found `{}` in params. Will use it instead of argument\".format(alias))\n"
     ]
    },
    {
     "name": "stdout",
     "output_type": "stream",
     "text": [
      "Training until validation scores don't improve for 100 rounds\n",
      "Early stopping, best iteration is:\n",
      "[65]\ttraining's auc: 0.548633\tvalid_1's auc: 0.526684\n",
      "Wall time: 908 ms\n"
     ]
    }
   ],
   "source": [
    "%%time\n",
    "dtrain = lgb.Dataset(data=df_train_payments, label=y_train_payments)\n",
    "dvalid = lgb.Dataset(data=df_valid_payments, label=y_valid_payments)\n",
    "\n",
    "params = {\n",
    "    \"boosting_type\": \"goss\",\n",
    "    \"objective\": \"binary\",\n",
    "    \"metric\": \"auc\",\n",
    "    \"learning_rate\": 0.001,\n",
    "    \"n_estimators\": 10000,\n",
    "    \"n_jobs\": 4,\n",
    "    \"seed\": 20\n",
    "}\n",
    "\n",
    "model_lgb = lgb.train(\n",
    "    params=params,\n",
    "    train_set=dtrain,\n",
    "    num_boost_round=10000,\n",
    "    valid_sets=[dtrain, dvalid],\n",
    "    categorical_feature=\"auto\",\n",
    "    early_stopping_rounds=100,\n",
    "    verbose_eval=500\n",
    ")"
   ]
  },
  {
   "cell_type": "code",
   "execution_count": 76,
   "metadata": {},
   "outputs": [
    {
     "data": {
      "text/plain": [
       "<AxesSubplot:title={'center':'Correlation of Numeric Features with Sale Price'}>"
      ]
     },
     "execution_count": 76,
     "metadata": {},
     "output_type": "execute_result"
    },
    {
     "data": {
      "image/png": "[encoded data removed]",
      "text/plain": [
       "<Figure size 1800x1800 with 2 Axes>"
      ]
     },
     "metadata": {
      "needs_background": "light"
     },
     "output_type": "display_data"
    }
   ],
   "source": [
    "fig, axes = plt.subplots(figsize = (25,25))\n",
    "plt.title(\"Correlation of Numeric Features with Sale Price\", y=1, size=16)\n",
    "sns.heatmap(cor, square=True, vmax=1, cmap=\"viridis\")"
   ]
  },
  {
   "cell_type": "markdown",
   "metadata": {},
   "source": [
    "# клиентский профиль, некоторые знания, которые есть у компании о клиенте;\n",
    "df_client_profile"
   ]
  },
  {
   "cell_type": "code",
   "execution_count": null,
   "metadata": {},
   "outputs": [],
   "source": [
    "# клиентский профиль, некоторые знания, которые есть у компании о клиенте;\n",
    "df_client_profile = pd.read_csv(\n",
    "    \"../geekbrains-competitive-data-analysis/client_profile.csv\"\n",
    ")\n",
    "\n",
    "print(\"client_profile.shape = {} rows, {} cols\".format(*df_client_profile.shape))\n",
    "df_client_profile.head()"
   ]
  },
  {
   "cell_type": "code",
   "execution_count": null,
   "metadata": {},
   "outputs": [],
   "source": [
    "df_client_profile.info()"
   ]
  },
  {
   "cell_type": "code",
   "execution_count": null,
   "metadata": {},
   "outputs": [],
   "source": [
    "msno.matrix(df_client_profile)"
   ]
  },
  {
   "cell_type": "markdown",
   "metadata": {},
   "source": [
    "GENDER"
   ]
  },
  {
   "cell_type": "code",
   "execution_count": null,
   "metadata": {},
   "outputs": [],
   "source": [
    "df_client_profile['GENDER'].value_counts()"
   ]
  },
  {
   "cell_type": "code",
   "execution_count": null,
   "metadata": {},
   "outputs": [],
   "source": [
    "df_client_profile['GENDER'] = (df_client_profile['GENDER'] == 'F').astype(int)"
   ]
  },
  {
   "cell_type": "markdown",
   "metadata": {},
   "source": [
    "FAMILY_STATUS,EDUCATION_LEVEL"
   ]
  },
  {
   "cell_type": "code",
   "execution_count": null,
   "metadata": {},
   "outputs": [],
   "source": [
    "df_client_profile['FAMILY_STATUS'].value_counts()"
   ]
  },
  {
   "cell_type": "code",
   "execution_count": null,
   "metadata": {},
   "outputs": [],
   "source": [
    "df_client_profile['EDUCATION_LEVEL'].value_counts()"
   ]
  },
  {
   "cell_type": "code",
   "execution_count": null,
   "metadata": {},
   "outputs": [],
   "source": [
    "df_client_profile = create_freq_feature(df_client_profile, 'FAMILY_STATUS')\n",
    "df_client_profile = create_freq_feature(df_client_profile, 'EDUCATION_LEVEL')"
   ]
  },
  {
   "cell_type": "code",
   "execution_count": null,
   "metadata": {},
   "outputs": [],
   "source": [
    "df_client_profile = df_client_profile.fillna(value=\n",
    "                                             {'OWN_CAR_AGE': 0, \n",
    "                                              'EXTERNAL_SCORING_RATING_1': df_client_profile['EXTERNAL_SCORING_RATING_1'].min(),\n",
    "                                              'EXTERNAL_SCORING_RATING_3': df_client_profile['EXTERNAL_SCORING_RATING_3'].min()\n",
    "                                             })\n",
    "\n",
    "df_client_profile = df_client_profile.fillna(0)"
   ]
  },
  {
   "cell_type": "markdown",
   "metadata": {},
   "source": [
    "# Объединение"
   ]
  },
  {
   "cell_type": "code",
   "execution_count": null,
   "metadata": {},
   "outputs": [],
   "source": [
    "df_train = pd.read_csv(\n",
    "    \"../geekbrains-competitive-data-analysis/train.csv\"\n",
    ")\n",
    "\n",
    "df_test = pd.read_csv(\n",
    "    \"../geekbrains-competitive-data-analysis/test.csv\"\n",
    ")\n",
    "\n",
    "print(\"gf_train.shape = {} rows, {} cols\".format(*df_train.shape))\n",
    "print(\"df_test.shape = {} rows, {} cols\".format(*df_test.shape))"
   ]
  },
  {
   "cell_type": "code",
   "execution_count": null,
   "metadata": {},
   "outputs": [],
   "source": [
    "#df_train = create_dummie(df_train)\n",
    "#df_test = create_dummie(df_test)\n",
    "\n",
    "df_train['NAME_CONTRACT_TYPE'] = (df_train['NAME_CONTRACT_TYPE'] == 'Cash').astype(int)\n",
    "df_test['NAME_CONTRACT_TYPE'] = (df_test['NAME_CONTRACT_TYPE'] == 'Cash').astype(int)"
   ]
  },
  {
   "cell_type": "markdown",
   "metadata": {},
   "source": [
    "## Профиль клиента"
   ]
  },
  {
   "cell_type": "code",
   "execution_count": null,
   "metadata": {},
   "outputs": [],
   "source": [
    "df_train_client_profile = df_train.merge(df_client_profile, \n",
    "                                         left_on='APPLICATION_NUMBER', \n",
    "                                         right_on='APPLICATION_NUMBER', \n",
    "                                         how='inner')"
   ]
  },
  {
   "cell_type": "code",
   "execution_count": null,
   "metadata": {},
   "outputs": [],
   "source": [
    "df_train_client_profile, df_valid_client_profile = train_test_split(df_train_client_profile, test_size=0.3,  random_state=42)"
   ]
  },
  {
   "cell_type": "code",
   "execution_count": null,
   "metadata": {},
   "outputs": [],
   "source": [
    "y_train_client_profile = df_train_client_profile[\"TARGET\"]\n",
    "y_valid_client_profile = df_valid_client_profile[\"TARGET\"]\n",
    "\n",
    "df_train_client_profile.drop([\"TARGET\", 'APPLICATION_NUMBER'], axis='columns', inplace=True)\n",
    "df_valid_client_profile.drop([\"TARGET\", 'APPLICATION_NUMBER'], axis='columns', inplace=True)\n",
    "\n",
    "print(\"df_train_client_profile.shape = {} rows, {} cols\".format(*df_train_client_profile.shape))\n",
    "print(\"df_valid_client_profile.shape = {} rows, {} cols\".format(*df_valid_client_profile.shape))"
   ]
  },
  {
   "cell_type": "code",
   "execution_count": null,
   "metadata": {},
   "outputs": [],
   "source": [
    "%%time\n",
    "dtrain = lgb.Dataset(data=df_train_client_profile, label=y_train_client_profile)\n",
    "dvalid = lgb.Dataset(data=df_valid_client_profile, label=y_valid_client_profile)\n",
    "\n",
    "params = {\n",
    "    \"boosting_type\": \"goss\",\n",
    "    \"objective\": \"binary\",\n",
    "    \"metric\": \"auc\",\n",
    "    \"learning_rate\": 0.001,\n",
    "    \"n_estimators\": 10000,\n",
    "    \"n_jobs\": 4,\n",
    "    \"seed\": 20\n",
    "}\n",
    "\n",
    "model_lgb = lgb.train(\n",
    "    params=params,\n",
    "    train_set=dtrain,\n",
    "    num_boost_round=10000,\n",
    "    valid_sets=[dtrain, dvalid],\n",
    "    categorical_feature=\"auto\",\n",
    "    early_stopping_rounds=50,\n",
    "    verbose_eval=500\n",
    ")"
   ]
  },
  {
   "cell_type": "code",
   "execution_count": null,
   "metadata": {},
   "outputs": [],
   "source": [
    "df_test_client_profile = df_test.merge(df_client_profile, \n",
    "                                       left_on='APPLICATION_NUMBER', \n",
    "                                       right_on='APPLICATION_NUMBER', \n",
    "                                       how='inner')\n",
    "test_client_profile_application_number = df_test_client_profile['APPLICATION_NUMBER']\n",
    "df_test_client_profile.drop(['APPLICATION_NUMBER'], axis='columns', inplace=True)\n",
    "\n",
    "pred = model_lgb.predict(df_test_client_profile)\n",
    "\n",
    "application_number_pred = pd.DataFrame(pred, columns=['client_profile'])\n",
    "application_number_pred['APPLICATION_NUMBER'] = test_client_profile_application_number"
   ]
  },
  {
   "cell_type": "code",
   "execution_count": null,
   "metadata": {},
   "outputs": [],
   "source": []
  },
  {
   "cell_type": "markdown",
   "metadata": {},
   "source": [
    "## БКИ"
   ]
  },
  {
   "cell_type": "code",
   "execution_count": null,
   "metadata": {},
   "outputs": [],
   "source": [
    "df_train_bki = df_train.merge(df_applications_history_result, \n",
    "                                               left_on='APPLICATION_NUMBER', \n",
    "                                               right_on='APPLICATION_NUMBER', \n",
    "                                               how='inner')\n",
    "\n",
    "df_train_bki, df_valid_bki = train_test_split(df_train_bki, \n",
    "                                              test_size=0.3,  \n",
    "                                              random_state=42)\n",
    "\n",
    "y_train_bki = df_train_bki[\"TARGET\"]\n",
    "y_valid_bki = df_valid_bki[\"TARGET\"]\n",
    "\n",
    "df_train_bki.drop([\"TARGET\", 'APPLICATION_NUMBER'], axis='columns', inplace=True)\n",
    "df_valid_bki.drop([\"TARGET\", 'APPLICATION_NUMBER'], axis='columns', inplace=True)\n",
    "\n",
    "print(\"df_train_bki.shape = {} rows, {} cols\".format(*df_train_bki.shape))\n",
    "print(\"df_valid_bki.shape = {} rows, {} cols\".format(*df_valid_bki.shape))"
   ]
  },
  {
   "cell_type": "code",
   "execution_count": null,
   "metadata": {},
   "outputs": [],
   "source": [
    "%%time\n",
    "dtrain = lgb.Dataset(data=df_train_bki, label=y_train_bki)\n",
    "dvalid = lgb.Dataset(data=df_valid_bki, label=y_valid_bki)\n",
    "\n",
    "params = {\n",
    "    \"boosting_type\": \"goss\",\n",
    "    \"objective\": \"binary\",\n",
    "    \"metric\": \"auc\",\n",
    "    \"learning_rate\": 0.001,\n",
    "    \"n_estimators\": 10000,\n",
    "    \"n_jobs\": 4,\n",
    "    \"seed\": 20\n",
    "}\n",
    "\n",
    "model_lgb = lgb.train(\n",
    "    params=params,\n",
    "    train_set=dtrain,\n",
    "    num_boost_round=10000,\n",
    "    valid_sets=[dtrain, dvalid],\n",
    "    categorical_feature=\"auto\",\n",
    "    early_stopping_rounds=100,\n",
    "    verbose_eval=500\n",
    ")"
   ]
  },
  {
   "cell_type": "code",
   "execution_count": null,
   "metadata": {},
   "outputs": [],
   "source": [
    "df_bki"
   ]
  },
  {
   "cell_type": "code",
   "execution_count": null,
   "metadata": {},
   "outputs": [],
   "source": []
  },
  {
   "cell_type": "code",
   "execution_count": null,
   "metadata": {},
   "outputs": [],
   "source": []
  },
  {
   "cell_type": "code",
   "execution_count": null,
   "metadata": {},
   "outputs": [],
   "source": [
    "print(\"gf_train.shape = {} rows, {} cols\".format(*df_train.shape))\n",
    "print(\"df_valid.shape = {} rows, {} cols\".format(*df_valid.shape))\n",
    "print(\"df_test.shape = {} rows, {} cols\".format(*df_test.shape))"
   ]
  },
  {
   "cell_type": "code",
   "execution_count": null,
   "metadata": {},
   "outputs": [],
   "source": [
    "df_train = df_train.merge(df_applications_history_result, left_on='APPLICATION_NUMBER', right_on='APPLICATION_NUMBER', how='left')\n",
    "df_valid = df_valid.merge(df_applications_history_result, left_on='APPLICATION_NUMBER', right_on='APPLICATION_NUMBER', how='left')\n",
    "df_test = df_test.merge(df_applications_history_result, left_on='APPLICATION_NUMBER', right_on='APPLICATION_NUMBER', how='left')"
   ]
  },
  {
   "cell_type": "code",
   "execution_count": null,
   "metadata": {},
   "outputs": [],
   "source": [
    "df_train = df_train.merge(df_bki_result, left_on='APPLICATION_NUMBER', right_on='APPLICATION_NUMBER', how='left')\n",
    "df_valid = df_valid.merge(df_bki_result, left_on='APPLICATION_NUMBER', right_on='APPLICATION_NUMBER', how='left')\n",
    "df_test = df_test.merge(df_bki_result, left_on='APPLICATION_NUMBER', right_on='APPLICATION_NUMBER', how='left')"
   ]
  },
  {
   "cell_type": "code",
   "execution_count": null,
   "metadata": {},
   "outputs": [],
   "source": [
    "df_train = df_train.merge(df_payments_result, left_on='APPLICATION_NUMBER', right_on='APPLICATION_NUMBER', how='left')\n",
    "df_valid = df_valid.merge(df_payments_result, left_on='APPLICATION_NUMBER', right_on='APPLICATION_NUMBER', how='left')\n",
    "df_test = df_test.merge(df_payments_result, left_on='APPLICATION_NUMBER', right_on='APPLICATION_NUMBER', how='left')"
   ]
  },
  {
   "cell_type": "code",
   "execution_count": null,
   "metadata": {},
   "outputs": [],
   "source": [
    "cor = df_train.corr()\n",
    "fig, axes = plt.subplots(figsize = (25,25))\n",
    "plt.title(\"Correlation of Numeric Features with Sale Price\", y=1, size=16)\n",
    "sns.heatmap(cor, square=True, vmax=1, cmap=\"viridis\")"
   ]
  },
  {
   "cell_type": "code",
   "execution_count": null,
   "metadata": {},
   "outputs": [],
   "source": [
    "y_train = df_train[\"TARGET\"]\n",
    "y_valid = df_valid[\"TARGET\"]\n",
    "\n",
    "df_train.drop([\"TARGET\", 'APPLICATION_NUMBER'], axis='columns', inplace=True)\n",
    "df_valid.drop([\"TARGET\", 'APPLICATION_NUMBER'], axis='columns', inplace=True)"
   ]
  },
  {
   "cell_type": "code",
   "execution_count": null,
   "metadata": {},
   "outputs": [],
   "source": [
    "df_test.drop(['APPLICATION_NUMBER'], axis='columns', inplace=True)"
   ]
  },
  {
   "cell_type": "code",
   "execution_count": null,
   "metadata": {},
   "outputs": [],
   "source": [
    "print(\"df_train.shape = {} rows, {} cols\".format(*df_train.shape))\n",
    "print(\"df_valid.shape = {} rows, {} cols\".format(*df_valid.shape))\n",
    "print(\"df_test.shape = {} rows, {} cols\".format(*df_test.shape))"
   ]
  },
  {
   "cell_type": "code",
   "execution_count": null,
   "metadata": {},
   "outputs": [],
   "source": [
    "df_train.describe().T"
   ]
  },
  {
   "cell_type": "code",
   "execution_count": null,
   "metadata": {},
   "outputs": [],
   "source": [
    "msno.matrix(df_train)"
   ]
  },
  {
   "cell_type": "code",
   "execution_count": null,
   "metadata": {},
   "outputs": [],
   "source": [
    "msno.matrix(df_test)"
   ]
  },
  {
   "cell_type": "code",
   "execution_count": null,
   "metadata": {},
   "outputs": [],
   "source": [
    "# %%time\n",
    "\n",
    "# dtrain = xgb.DMatrix(data=df_train.fillna(0), label=y_train)\n",
    "# print('*')\n",
    "# dvalid = xgb.DMatrix(data=df_valid.fillna(0), label=y_valid)\n",
    "# print('*')\n",
    "# dtest = xgb.DMatrix(data=df_test.fillna(0))"
   ]
  },
  {
   "cell_type": "code",
   "execution_count": null,
   "metadata": {},
   "outputs": [],
   "source": [
    "# %%time\n",
    "\n",
    "# params = {\n",
    "#     \"booster\": \"gbtree\",\n",
    "#     \"objective\": \"binary:logistic\",\n",
    "#     \"eval_metric\": \"auc\",\n",
    "#     \"learning_rate\": 0.01,\n",
    "#     \"n_estimators\": 1000,\n",
    "#     \"reg_lambda\": 100,\n",
    "#     \"max_depth\": 10,\n",
    "#     \"gamma\": 10,\n",
    "#     \"nthread\": 6,\n",
    "#     \"seed\": 27\n",
    "# }\n",
    "\n",
    "# model_xgb = xgb.train(\n",
    "#     params=params,\n",
    "#     dtrain=dtrain,\n",
    "#     num_boost_round=1000,\n",
    "#     early_stopping_rounds=50,\n",
    "#     evals=[(dtrain, \"train\"), (dvalid, \"valid\")],\n",
    "#     verbose_eval=100,\n",
    "#     maximize=True,\n",
    "# )"
   ]
  },
  {
   "cell_type": "code",
   "execution_count": null,
   "metadata": {},
   "outputs": [],
   "source": [
    "%%time\n",
    "\n",
    "dtrain = lgb.Dataset(data=df_train.fillna(0), label=y_train)\n",
    "dvalid = lgb.Dataset(data=df_valid.fillna(0), label=y_valid)\n",
    "dtest = lgb.Dataset(data=df_test.fillna(0))"
   ]
  },
  {
   "cell_type": "code",
   "execution_count": null,
   "metadata": {},
   "outputs": [],
   "source": [
    "%%time\n",
    "\n",
    "params = {\n",
    "    \"boosting_type\": \"goss\",\n",
    "    \"objective\": \"binary\",\n",
    "    \"metric\": \"auc\",\n",
    "    \"learning_rate\": 0.01,\n",
    "    \"n_estimators\": 5000,\n",
    "    \"n_jobs\": 6,\n",
    "    \"seed\": 27\n",
    "}\n",
    "\n",
    "model_lgb = lgb.train(\n",
    "    params=params,\n",
    "    train_set=dtrain,\n",
    "    num_boost_round=10000,\n",
    "    valid_sets=[dtrain, dvalid],\n",
    "    categorical_feature=\"auto\",\n",
    "    early_stopping_rounds=50,\n",
    "    verbose_eval=100\n",
    ")"
   ]
  },
  {
   "cell_type": "code",
   "execution_count": null,
   "metadata": {},
   "outputs": [],
   "source": [
    "result = model_lgb.predict(df_test.fillna(0))\n",
    "result"
   ]
  },
  {
   "cell_type": "code",
   "execution_count": null,
   "metadata": {},
   "outputs": [],
   "source": [
    "df_sample_submit[\"TARGET\"] = df_sample_submit[\"TARGET\"].astype('float')"
   ]
  },
  {
   "cell_type": "code",
   "execution_count": null,
   "metadata": {},
   "outputs": [],
   "source": [
    "df_sample_submit[\"TARGET\"] = result"
   ]
  },
  {
   "cell_type": "code",
   "execution_count": null,
   "metadata": {},
   "outputs": [],
   "source": [
    "df_sample_submit.to_csv('result.csv', index=False) "
   ]
  },
  {
   "cell_type": "code",
   "execution_count": null,
   "metadata": {},
   "outputs": [],
   "source": [
    "model_lgb.feature_importance()"
   ]
  },
  {
   "cell_type": "code",
   "execution_count": null,
   "metadata": {},
   "outputs": [],
   "source": [
    "feature = pd.DataFrame(data=[model_lgb.feature_importance()], columns=model_lgb.feature_name())"
   ]
  },
  {
   "cell_type": "code",
   "execution_count": null,
   "metadata": {},
   "outputs": [],
   "source": [
    "feature"
   ]
  },
  {
   "cell_type": "code",
   "execution_count": null,
   "metadata": {},
   "outputs": [],
   "source": []
  }
 ],
 "metadata": {
  "kernelspec": {
   "display_name": "Python 3",
   "language": "python",
   "name": "python3"
  },
  "language_info": {
   "codemirror_mode": {
    "name": "ipython",
    "version": 3
   },
   "file_extension": ".py",
   "mimetype": "text/x-python",
   "name": "python",
   "nbconvert_exporter": "python",
   "pygments_lexer": "ipython3",
   "version": "3.7.6"
  }
 },
 "nbformat": 4,
 "nbformat_minor": 4
}
