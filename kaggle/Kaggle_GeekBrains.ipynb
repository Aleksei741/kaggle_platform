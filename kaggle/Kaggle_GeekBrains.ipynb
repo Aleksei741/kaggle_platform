{
 "cells": [
  {
   "cell_type": "code",
   "execution_count": 1,
   "metadata": {},
   "outputs": [],
   "source": [
    "import numpy as np\n",
    "import pandas as pd\n",
    "\n",
    "import matplotlib as mpl\n",
    "import matplotlib.pyplot as plt\n",
    "import seaborn as sns\n",
    "from sklearn.model_selection import train_test_split\n",
    "from sklearn.preprocessing import StandardScaler\n",
    "from sklearn.cluster import KMeans\n",
    "\n",
    "import lightgbm as lgb\n",
    "import xgboost as xgb\n",
    "import missingno as msno\n",
    "from sklearn.metrics import roc_auc_score\n",
    "from sklearn.metrics import roc_curve, auc"
   ]
  },
  {
   "cell_type": "code",
   "execution_count": 2,
   "metadata": {},
   "outputs": [
    {
     "ename": "KeyboardInterrupt",
     "evalue": "",
     "output_type": "error",
     "traceback": [
      "\u001b[1;31m---------------------------------------------------------------------------\u001b[0m",
      "\u001b[1;31mKeyboardInterrupt\u001b[0m                         Traceback (most recent call last)",
      "\u001b[1;32m_ctypes/callbacks.c\u001b[0m in \u001b[0;36m'calling callback function'\u001b[1;34m()\u001b[0m\n",
      "\u001b[1;32mC:\\ProgramData\\Anaconda3\\lib\\site-packages\\llvmlite\\binding\\executionengine.py\u001b[0m in \u001b[0;36m_raw_object_cache_notify\u001b[1;34m(self, data)\u001b[0m\n\u001b[0;32m    169\u001b[0m         \u001b[0mffi\u001b[0m\u001b[1;33m.\u001b[0m\u001b[0mlib\u001b[0m\u001b[1;33m.\u001b[0m\u001b[0mLLVMPY_SetObjectCache\u001b[0m\u001b[1;33m(\u001b[0m\u001b[0mself\u001b[0m\u001b[1;33m,\u001b[0m \u001b[0mself\u001b[0m\u001b[1;33m.\u001b[0m\u001b[0m_object_cache\u001b[0m\u001b[1;33m)\u001b[0m\u001b[1;33m\u001b[0m\u001b[1;33m\u001b[0m\u001b[0m\n\u001b[0;32m    170\u001b[0m \u001b[1;33m\u001b[0m\u001b[0m\n\u001b[1;32m--> 171\u001b[1;33m     \u001b[1;32mdef\u001b[0m \u001b[0m_raw_object_cache_notify\u001b[0m\u001b[1;33m(\u001b[0m\u001b[0mself\u001b[0m\u001b[1;33m,\u001b[0m \u001b[0mdata\u001b[0m\u001b[1;33m)\u001b[0m\u001b[1;33m:\u001b[0m\u001b[1;33m\u001b[0m\u001b[1;33m\u001b[0m\u001b[0m\n\u001b[0m\u001b[0;32m    172\u001b[0m         \"\"\"\n\u001b[0;32m    173\u001b[0m         \u001b[0mLow\u001b[0m\u001b[1;33m-\u001b[0m\u001b[0mlevel\u001b[0m \u001b[0mnotify\u001b[0m \u001b[0mhook\u001b[0m\u001b[1;33m.\u001b[0m\u001b[1;33m\u001b[0m\u001b[1;33m\u001b[0m\u001b[0m\n",
      "\u001b[1;31mKeyboardInterrupt\u001b[0m: "
     ]
    }
   ],
   "source": [
    "import shap"
   ]
  },
  {
   "cell_type": "code",
   "execution_count": 3,
   "metadata": {},
   "outputs": [],
   "source": [
    "pd.options.display.max_rows = 222\n",
    "pd.set_option(\"display.max_columns\", 50)"
   ]
  },
  {
   "cell_type": "code",
   "execution_count": 4,
   "metadata": {},
   "outputs": [
    {
     "name": "stdout",
     "output_type": "stream",
     "text": [
      "gf_train.shape = 110093 rows, 3 cols\n",
      "df_test.shape = 165141 rows, 2 cols\n"
     ]
    }
   ],
   "source": [
    "df_train = pd.read_csv(\n",
    "    \"../geekbrains-competitive-data-analysis/train.csv\"\n",
    ")\n",
    "\n",
    "df_test = pd.read_csv(\n",
    "    \"../geekbrains-competitive-data-analysis/test.csv\"\n",
    ")\n",
    "\n",
    "print(\"gf_train.shape = {} rows, {} cols\".format(*df_train.shape))\n",
    "print(\"df_test.shape = {} rows, {} cols\".format(*df_test.shape))"
   ]
  },
  {
   "cell_type": "code",
   "execution_count": 5,
   "metadata": {},
   "outputs": [],
   "source": [
    "#df_train = create_dummie(df_train)\n",
    "#df_test = create_dummie(df_test)\n",
    "\n",
    "df_train['NAME_CONTRACT_TYPE'] = (df_train['NAME_CONTRACT_TYPE'] == 'Cash').astype(int)\n",
    "df_test['NAME_CONTRACT_TYPE'] = (df_test['NAME_CONTRACT_TYPE'] == 'Cash').astype(int)"
   ]
  },
  {
   "cell_type": "code",
   "execution_count": 6,
   "metadata": {},
   "outputs": [
    {
     "name": "stdout",
     "output_type": "stream",
     "text": [
      "sample_submit.shape = 165141 rows, 2 cols\n"
     ]
    },
    {
     "data": {
      "text/html": [
       "<div>\n",
       "<style scoped>\n",
       "    .dataframe tbody tr th:only-of-type {\n",
       "        vertical-align: middle;\n",
       "    }\n",
       "\n",
       "    .dataframe tbody tr th {\n",
       "        vertical-align: top;\n",
       "    }\n",
       "\n",
       "    .dataframe thead th {\n",
       "        text-align: right;\n",
       "    }\n",
       "</style>\n",
       "<table border=\"1\" class=\"dataframe\">\n",
       "  <thead>\n",
       "    <tr style=\"text-align: right;\">\n",
       "      <th></th>\n",
       "      <th>APPLICATION_NUMBER</th>\n",
       "      <th>TARGET</th>\n",
       "    </tr>\n",
       "  </thead>\n",
       "  <tbody>\n",
       "    <tr>\n",
       "      <th>0</th>\n",
       "      <td>123724268</td>\n",
       "      <td>0</td>\n",
       "    </tr>\n",
       "    <tr>\n",
       "      <th>1</th>\n",
       "      <td>123456549</td>\n",
       "      <td>0</td>\n",
       "    </tr>\n",
       "    <tr>\n",
       "      <th>2</th>\n",
       "      <td>123428178</td>\n",
       "      <td>0</td>\n",
       "    </tr>\n",
       "    <tr>\n",
       "      <th>3</th>\n",
       "      <td>123619984</td>\n",
       "      <td>0</td>\n",
       "    </tr>\n",
       "    <tr>\n",
       "      <th>4</th>\n",
       "      <td>123671104</td>\n",
       "      <td>0</td>\n",
       "    </tr>\n",
       "  </tbody>\n",
       "</table>\n",
       "</div>"
      ],
      "text/plain": [
       "   APPLICATION_NUMBER  TARGET\n",
       "0           123724268       0\n",
       "1           123456549       0\n",
       "2           123428178       0\n",
       "3           123619984       0\n",
       "4           123671104       0"
      ]
     },
     "execution_count": 6,
     "metadata": {},
     "output_type": "execute_result"
    }
   ],
   "source": [
    "df_sample_submit = pd.read_csv(\n",
    "    \"../geekbrains-competitive-data-analysis/sample_submit.csv\"\n",
    ")\n",
    "\n",
    "print(\"sample_submit.shape = {} rows, {} cols\".format(*df_sample_submit.shape))\n",
    "df_sample_submit.head()"
   ]
  },
  {
   "cell_type": "markdown",
   "metadata": {},
   "source": [
    "# функции"
   ]
  },
  {
   "cell_type": "code",
   "execution_count": 7,
   "metadata": {},
   "outputs": [],
   "source": [
    "def create_freq_feature(data: pd.DataFrame,\n",
    "                        feature: str\n",
    "                       ) -> pd.DataFrame:\n",
    "    freq = data[feature].value_counts()\n",
    "    data[feature] = data[feature].map(freq).astype('float')\n",
    "    data[feature] = data[feature].fillna(0.0).astype('float')\n",
    "    data[feature] = data[feature] / data.shape[0]\n",
    "    \n",
    "    return data"
   ]
  },
  {
   "cell_type": "code",
   "execution_count": 8,
   "metadata": {},
   "outputs": [],
   "source": [
    "def numeric_feature_preprocessing(data: pd.DataFrame,\n",
    "                         numeric_feature=list()) -> pd.DataFrame:\n",
    "    \n",
    "    if len(numeric_feature) == 0:\n",
    "        numeric_feature = data.select_dtypes(include=[np.number]).columns\n",
    "    \n",
    "    for feature in numeric_feature:\n",
    "        max_ = data[feature].quantile(.99)\n",
    "        min_ = data[feature].quantile(.01)\n",
    "        data.loc[data[feature] > max_, [feature]] = max_\n",
    "        data.loc[data[feature] < min_, [feature]] = min_\n",
    "        \n",
    "    return data"
   ]
  },
  {
   "cell_type": "code",
   "execution_count": 9,
   "metadata": {},
   "outputs": [],
   "source": [
    "def create_dummie(data: pd.DataFrame) -> pd.DataFrame:\n",
    "    \"\"\"\n",
    "    \n",
    "\n",
    "    \"\"\"\n",
    "    numeric_feature = data.select_dtypes(include=[np.number]).columns\n",
    "\n",
    "    сategorical_feature = list(set(data.columns) - set(numeric_feature))\n",
    "\n",
    "    data_copy = data.copy()\n",
    "\n",
    "    for i in range(len(сategorical_feature)):\n",
    "        print(f'feature {сategorical_feature[i]}')\n",
    "        сategorical_values = data_copy[сategorical_feature[i]].unique()\n",
    "        print(f'сategorical values {сategorical_values}')\n",
    "\n",
    "        for cat in сategorical_values:\n",
    "            dummie_feature_name = f'{сategorical_feature[i]}_{cat}'\n",
    "\n",
    "            if str(cat) != 'nan':\n",
    "                print(f'    dummie feature name: {dummie_feature_name}')\n",
    "                data_copy[f'{сategorical_feature[i]}_{cat}'] = 0\n",
    "                data_copy.loc[data_copy.loc[:,сategorical_feature[i]]==cat, \n",
    "                                                 [dummie_feature_name]] = 1      \n",
    "\n",
    "        data_copy.drop([сategorical_feature[i]], axis='columns', inplace=True)\n",
    "\n",
    "    print(f\"count of data {data_copy.shape}\")\n",
    "    return data_copy"
   ]
  },
  {
   "cell_type": "markdown",
   "metadata": {},
   "source": [
    "# история предыдущих заявок клиента.\n",
    "df_applications_history"
   ]
  },
  {
   "cell_type": "code",
   "execution_count": 10,
   "metadata": {},
   "outputs": [
    {
     "name": "stdout",
     "output_type": "stream",
     "text": [
      "applications_history.shape = 1670214 rows, 26 cols\n"
     ]
    },
    {
     "data": {
      "text/html": [
       "<div>\n",
       "<style scoped>\n",
       "    .dataframe tbody tr th:only-of-type {\n",
       "        vertical-align: middle;\n",
       "    }\n",
       "\n",
       "    .dataframe tbody tr th {\n",
       "        vertical-align: top;\n",
       "    }\n",
       "\n",
       "    .dataframe thead th {\n",
       "        text-align: right;\n",
       "    }\n",
       "</style>\n",
       "<table border=\"1\" class=\"dataframe\">\n",
       "  <thead>\n",
       "    <tr style=\"text-align: right;\">\n",
       "      <th></th>\n",
       "      <th>PREV_APPLICATION_NUMBER</th>\n",
       "      <th>APPLICATION_NUMBER</th>\n",
       "      <th>NAME_CONTRACT_TYPE</th>\n",
       "      <th>AMOUNT_ANNUITY</th>\n",
       "      <th>AMT_APPLICATION</th>\n",
       "      <th>AMOUNT_CREDIT</th>\n",
       "      <th>AMOUNT_PAYMENT</th>\n",
       "      <th>AMOUNT_GOODS_PAYMENT</th>\n",
       "      <th>NAME_CONTRACT_STATUS</th>\n",
       "      <th>DAYS_DECISION</th>\n",
       "      <th>NAME_PAYMENT_TYPE</th>\n",
       "      <th>CODE_REJECT_REASON</th>\n",
       "      <th>NAME_TYPE_SUITE</th>\n",
       "      <th>NAME_CLIENT_TYPE</th>\n",
       "      <th>NAME_GOODS_CATEGORY</th>\n",
       "      <th>NAME_PORTFOLIO</th>\n",
       "      <th>NAME_PRODUCT_TYPE</th>\n",
       "      <th>SELLERPLACE_AREA</th>\n",
       "      <th>CNT_PAYMENT</th>\n",
       "      <th>NAME_YIELD_GROUP</th>\n",
       "      <th>DAYS_FIRST_DRAWING</th>\n",
       "      <th>DAYS_FIRST_DUE</th>\n",
       "      <th>DAYS_LAST_DUE_1ST_VERSION</th>\n",
       "      <th>DAYS_LAST_DUE</th>\n",
       "      <th>DAYS_TERMINATION</th>\n",
       "      <th>NFLAG_INSURED_ON_APPROVAL</th>\n",
       "    </tr>\n",
       "  </thead>\n",
       "  <tbody>\n",
       "    <tr>\n",
       "      <th>0</th>\n",
       "      <td>49298709</td>\n",
       "      <td>123595216</td>\n",
       "      <td>NaN</td>\n",
       "      <td>1730.430</td>\n",
       "      <td>17145.0</td>\n",
       "      <td>17145.0</td>\n",
       "      <td>0.0</td>\n",
       "      <td>17145.0</td>\n",
       "      <td>Approved</td>\n",
       "      <td>73</td>\n",
       "      <td>Cash through the bank</td>\n",
       "      <td>XAP</td>\n",
       "      <td>NaN</td>\n",
       "      <td>Repeater</td>\n",
       "      <td>Mobile</td>\n",
       "      <td>POS</td>\n",
       "      <td>XNA</td>\n",
       "      <td>35</td>\n",
       "      <td>12.0</td>\n",
       "      <td>middle</td>\n",
       "      <td>365243.0</td>\n",
       "      <td>42.0</td>\n",
       "      <td>300.0</td>\n",
       "      <td>42.0</td>\n",
       "      <td>37.0</td>\n",
       "      <td>0.0</td>\n",
       "    </tr>\n",
       "    <tr>\n",
       "      <th>1</th>\n",
       "      <td>50070639</td>\n",
       "      <td>123431468</td>\n",
       "      <td>Cash</td>\n",
       "      <td>25188.615</td>\n",
       "      <td>607500.0</td>\n",
       "      <td>679671.0</td>\n",
       "      <td>NaN</td>\n",
       "      <td>607500.0</td>\n",
       "      <td>Approved</td>\n",
       "      <td>164</td>\n",
       "      <td>XNA</td>\n",
       "      <td>XAP</td>\n",
       "      <td>Unaccompanied</td>\n",
       "      <td>Repeater</td>\n",
       "      <td>XNA</td>\n",
       "      <td>Cash</td>\n",
       "      <td>x-sell</td>\n",
       "      <td>-1</td>\n",
       "      <td>36.0</td>\n",
       "      <td>low_action</td>\n",
       "      <td>365243.0</td>\n",
       "      <td>134.0</td>\n",
       "      <td>916.0</td>\n",
       "      <td>365243.0</td>\n",
       "      <td>365243.0</td>\n",
       "      <td>1.0</td>\n",
       "    </tr>\n",
       "    <tr>\n",
       "      <th>2</th>\n",
       "      <td>49791680</td>\n",
       "      <td>123445379</td>\n",
       "      <td>Cash</td>\n",
       "      <td>15060.735</td>\n",
       "      <td>112500.0</td>\n",
       "      <td>136444.5</td>\n",
       "      <td>NaN</td>\n",
       "      <td>112500.0</td>\n",
       "      <td>Approved</td>\n",
       "      <td>301</td>\n",
       "      <td>Cash through the bank</td>\n",
       "      <td>XAP</td>\n",
       "      <td>Spouse, partner</td>\n",
       "      <td>Repeater</td>\n",
       "      <td>XNA</td>\n",
       "      <td>Cash</td>\n",
       "      <td>x-sell</td>\n",
       "      <td>-1</td>\n",
       "      <td>12.0</td>\n",
       "      <td>high</td>\n",
       "      <td>365243.0</td>\n",
       "      <td>271.0</td>\n",
       "      <td>59.0</td>\n",
       "      <td>365243.0</td>\n",
       "      <td>365243.0</td>\n",
       "      <td>1.0</td>\n",
       "    </tr>\n",
       "    <tr>\n",
       "      <th>3</th>\n",
       "      <td>50087457</td>\n",
       "      <td>123499497</td>\n",
       "      <td>Cash</td>\n",
       "      <td>47041.335</td>\n",
       "      <td>450000.0</td>\n",
       "      <td>470790.0</td>\n",
       "      <td>NaN</td>\n",
       "      <td>450000.0</td>\n",
       "      <td>Approved</td>\n",
       "      <td>512</td>\n",
       "      <td>Cash through the bank</td>\n",
       "      <td>XAP</td>\n",
       "      <td>NaN</td>\n",
       "      <td>Repeater</td>\n",
       "      <td>XNA</td>\n",
       "      <td>Cash</td>\n",
       "      <td>x-sell</td>\n",
       "      <td>-1</td>\n",
       "      <td>12.0</td>\n",
       "      <td>middle</td>\n",
       "      <td>365243.0</td>\n",
       "      <td>482.0</td>\n",
       "      <td>152.0</td>\n",
       "      <td>182.0</td>\n",
       "      <td>177.0</td>\n",
       "      <td>1.0</td>\n",
       "    </tr>\n",
       "    <tr>\n",
       "      <th>4</th>\n",
       "      <td>49052479</td>\n",
       "      <td>123525393</td>\n",
       "      <td>Cash</td>\n",
       "      <td>31924.395</td>\n",
       "      <td>337500.0</td>\n",
       "      <td>404055.0</td>\n",
       "      <td>NaN</td>\n",
       "      <td>337500.0</td>\n",
       "      <td>Refused</td>\n",
       "      <td>781</td>\n",
       "      <td>Cash through the bank</td>\n",
       "      <td>HC</td>\n",
       "      <td>NaN</td>\n",
       "      <td>Repeater</td>\n",
       "      <td>XNA</td>\n",
       "      <td>Cash</td>\n",
       "      <td>walk-in</td>\n",
       "      <td>-1</td>\n",
       "      <td>24.0</td>\n",
       "      <td>high</td>\n",
       "      <td>NaN</td>\n",
       "      <td>NaN</td>\n",
       "      <td>NaN</td>\n",
       "      <td>NaN</td>\n",
       "      <td>NaN</td>\n",
       "      <td>NaN</td>\n",
       "    </tr>\n",
       "  </tbody>\n",
       "</table>\n",
       "</div>"
      ],
      "text/plain": [
       "   PREV_APPLICATION_NUMBER  APPLICATION_NUMBER NAME_CONTRACT_TYPE  \\\n",
       "0                 49298709           123595216                NaN   \n",
       "1                 50070639           123431468               Cash   \n",
       "2                 49791680           123445379               Cash   \n",
       "3                 50087457           123499497               Cash   \n",
       "4                 49052479           123525393               Cash   \n",
       "\n",
       "   AMOUNT_ANNUITY  AMT_APPLICATION  AMOUNT_CREDIT  AMOUNT_PAYMENT  \\\n",
       "0        1730.430          17145.0        17145.0             0.0   \n",
       "1       25188.615         607500.0       679671.0             NaN   \n",
       "2       15060.735         112500.0       136444.5             NaN   \n",
       "3       47041.335         450000.0       470790.0             NaN   \n",
       "4       31924.395         337500.0       404055.0             NaN   \n",
       "\n",
       "   AMOUNT_GOODS_PAYMENT NAME_CONTRACT_STATUS  DAYS_DECISION  \\\n",
       "0               17145.0             Approved             73   \n",
       "1              607500.0             Approved            164   \n",
       "2              112500.0             Approved            301   \n",
       "3              450000.0             Approved            512   \n",
       "4              337500.0              Refused            781   \n",
       "\n",
       "       NAME_PAYMENT_TYPE CODE_REJECT_REASON  NAME_TYPE_SUITE NAME_CLIENT_TYPE  \\\n",
       "0  Cash through the bank                XAP              NaN         Repeater   \n",
       "1                    XNA                XAP    Unaccompanied         Repeater   \n",
       "2  Cash through the bank                XAP  Spouse, partner         Repeater   \n",
       "3  Cash through the bank                XAP              NaN         Repeater   \n",
       "4  Cash through the bank                 HC              NaN         Repeater   \n",
       "\n",
       "  NAME_GOODS_CATEGORY NAME_PORTFOLIO NAME_PRODUCT_TYPE  SELLERPLACE_AREA  \\\n",
       "0              Mobile            POS               XNA                35   \n",
       "1                 XNA           Cash            x-sell                -1   \n",
       "2                 XNA           Cash            x-sell                -1   \n",
       "3                 XNA           Cash            x-sell                -1   \n",
       "4                 XNA           Cash           walk-in                -1   \n",
       "\n",
       "   CNT_PAYMENT NAME_YIELD_GROUP  DAYS_FIRST_DRAWING  DAYS_FIRST_DUE  \\\n",
       "0         12.0           middle            365243.0            42.0   \n",
       "1         36.0       low_action            365243.0           134.0   \n",
       "2         12.0             high            365243.0           271.0   \n",
       "3         12.0           middle            365243.0           482.0   \n",
       "4         24.0             high                 NaN             NaN   \n",
       "\n",
       "   DAYS_LAST_DUE_1ST_VERSION  DAYS_LAST_DUE  DAYS_TERMINATION  \\\n",
       "0                      300.0           42.0              37.0   \n",
       "1                      916.0       365243.0          365243.0   \n",
       "2                       59.0       365243.0          365243.0   \n",
       "3                      152.0          182.0             177.0   \n",
       "4                        NaN            NaN               NaN   \n",
       "\n",
       "   NFLAG_INSURED_ON_APPROVAL  \n",
       "0                        0.0  \n",
       "1                        1.0  \n",
       "2                        1.0  \n",
       "3                        1.0  \n",
       "4                        NaN  "
      ]
     },
     "execution_count": 10,
     "metadata": {},
     "output_type": "execute_result"
    }
   ],
   "source": [
    "#!!!!!!!!!!!!!!!!!!!!!!!!!!!!!!!!!!!!!!!!!!!!!!!!!!!!!!!!!!!!!!!!!!!!!!!\n",
    "# история предыдущих заявок клиента.\n",
    "df_applications_history = pd.read_csv(\n",
    "    \"../geekbrains-competitive-data-analysis/applications_history.csv\"\n",
    ")\n",
    "\n",
    "print(\"applications_history.shape = {} rows, {} cols\".format(*df_applications_history.shape))\n",
    "df_applications_history.head()"
   ]
  },
  {
   "cell_type": "code",
   "execution_count": 11,
   "metadata": {},
   "outputs": [
    {
     "ename": "KeyboardInterrupt",
     "evalue": "",
     "output_type": "error",
     "traceback": [
      "\u001b[1;31m---------------------------------------------------------------------------\u001b[0m",
      "\u001b[1;31mKeyboardInterrupt\u001b[0m                         Traceback (most recent call last)",
      "\u001b[1;32m<ipython-input-11-b08aa9942cac>\u001b[0m in \u001b[0;36m<module>\u001b[1;34m\u001b[0m\n\u001b[1;32m----> 1\u001b[1;33m \u001b[0mmsno\u001b[0m\u001b[1;33m.\u001b[0m\u001b[0mmatrix\u001b[0m\u001b[1;33m(\u001b[0m\u001b[0mdf_applications_history\u001b[0m\u001b[1;33m)\u001b[0m\u001b[1;33m\u001b[0m\u001b[1;33m\u001b[0m\u001b[0m\n\u001b[0m",
      "\u001b[1;32mC:\\ProgramData\\Anaconda3\\lib\\site-packages\\missingno\\missingno.py\u001b[0m in \u001b[0;36mmatrix\u001b[1;34m(df, filter, n, p, sort, figsize, width_ratios, color, fontsize, labels, sparkline, inline, freq, ax)\u001b[0m\n\u001b[0;32m     48\u001b[0m     \u001b[1;31m# Set up the matplotlib grid layout. A unary subplot if no sparkline, a left-right splot if yes sparkline.\u001b[0m\u001b[1;33m\u001b[0m\u001b[1;33m\u001b[0m\u001b[1;33m\u001b[0m\u001b[0m\n\u001b[0;32m     49\u001b[0m     \u001b[1;32mif\u001b[0m \u001b[0max\u001b[0m \u001b[1;32mis\u001b[0m \u001b[1;32mNone\u001b[0m\u001b[1;33m:\u001b[0m\u001b[1;33m\u001b[0m\u001b[1;33m\u001b[0m\u001b[0m\n\u001b[1;32m---> 50\u001b[1;33m         \u001b[0mplt\u001b[0m\u001b[1;33m.\u001b[0m\u001b[0mfigure\u001b[0m\u001b[1;33m(\u001b[0m\u001b[0mfigsize\u001b[0m\u001b[1;33m=\u001b[0m\u001b[0mfigsize\u001b[0m\u001b[1;33m)\u001b[0m\u001b[1;33m\u001b[0m\u001b[1;33m\u001b[0m\u001b[0m\n\u001b[0m\u001b[0;32m     51\u001b[0m         \u001b[1;32mif\u001b[0m \u001b[0msparkline\u001b[0m\u001b[1;33m:\u001b[0m\u001b[1;33m\u001b[0m\u001b[1;33m\u001b[0m\u001b[0m\n\u001b[0;32m     52\u001b[0m             \u001b[0mgs\u001b[0m \u001b[1;33m=\u001b[0m \u001b[0mgridspec\u001b[0m\u001b[1;33m.\u001b[0m\u001b[0mGridSpec\u001b[0m\u001b[1;33m(\u001b[0m\u001b[1;36m1\u001b[0m\u001b[1;33m,\u001b[0m \u001b[1;36m2\u001b[0m\u001b[1;33m,\u001b[0m \u001b[0mwidth_ratios\u001b[0m\u001b[1;33m=\u001b[0m\u001b[0mwidth_ratios\u001b[0m\u001b[1;33m)\u001b[0m\u001b[1;33m\u001b[0m\u001b[1;33m\u001b[0m\u001b[0m\n",
      "\u001b[1;31mKeyboardInterrupt\u001b[0m: "
     ]
    }
   ],
   "source": [
    "msno.matrix(df_applications_history)"
   ]
  },
  {
   "cell_type": "code",
   "execution_count": null,
   "metadata": {},
   "outputs": [],
   "source": [
    "numerical_features_df_applications_history = df_applications_history.select_dtypes(include=[np.number]).columns\n",
    "numerical_features_df_applications_history = numerical_features_df_applications_history.drop('APPLICATION_NUMBER')\n",
    "numerical_features_df_applications_history = numerical_features_df_applications_history.drop('PREV_APPLICATION_NUMBER')\n",
    "numerical_features_df_applications_history"
   ]
  },
  {
   "cell_type": "markdown",
   "metadata": {},
   "source": [
    "NAME_CONTRACT_TYPE"
   ]
  },
  {
   "cell_type": "code",
   "execution_count": null,
   "metadata": {},
   "outputs": [],
   "source": [
    "df_applications_history['NAME_CONTRACT_TYPE'].value_counts()"
   ]
  },
  {
   "cell_type": "code",
   "execution_count": null,
   "metadata": {},
   "outputs": [],
   "source": [
    "df_applications_history['NAME_CONTRACT_TYPE'] = (df_applications_history['NAME_CONTRACT_TYPE'] == 'Cash').astype(int)"
   ]
  },
  {
   "cell_type": "markdown",
   "metadata": {},
   "source": [
    "AMOUNT_ANNUITY, AMOUNT_GOODS_PAYMENT"
   ]
  },
  {
   "cell_type": "code",
   "execution_count": null,
   "metadata": {},
   "outputs": [],
   "source": [
    "df_applications_history = df_applications_history.fillna(value=\n",
    "                                                         {'AMOUNT_ANNUITY': 0, \n",
    "                                                          'AMOUNT_GOODS_PAYMENT': 0})"
   ]
  },
  {
   "cell_type": "markdown",
   "metadata": {},
   "source": [
    "AMOUNT_PAYMENT"
   ]
  },
  {
   "cell_type": "code",
   "execution_count": null,
   "metadata": {},
   "outputs": [],
   "source": [
    "df_applications_history.drop(['AMOUNT_PAYMENT'], axis='columns', inplace=True)\n",
    "numerical_features_df_applications_history = numerical_features_df_applications_history.drop('AMOUNT_PAYMENT')"
   ]
  },
  {
   "cell_type": "markdown",
   "metadata": {},
   "source": [
    "NAME_TYPE_SUITE"
   ]
  },
  {
   "cell_type": "code",
   "execution_count": null,
   "metadata": {},
   "outputs": [],
   "source": [
    "df_applications_history['NAME_TYPE_SUITE'].value_counts()"
   ]
  },
  {
   "cell_type": "code",
   "execution_count": null,
   "metadata": {},
   "outputs": [],
   "source": [
    "df_applications_history = create_freq_feature(df_applications_history, 'NAME_TYPE_SUITE')"
   ]
  },
  {
   "cell_type": "markdown",
   "metadata": {},
   "source": [
    "NAME_CONTRACT_STATUS"
   ]
  },
  {
   "cell_type": "code",
   "execution_count": null,
   "metadata": {},
   "outputs": [],
   "source": [
    "df_applications_history['NAME_CONTRACT_STATUS'].value_counts()"
   ]
  },
  {
   "cell_type": "code",
   "execution_count": null,
   "metadata": {},
   "outputs": [],
   "source": [
    "freq = pd.Series(data=[1, 0, 0.5, 0.5], index=['Approved', 'Canceled', 'Refused', 'Unused offer'], dtype='float')\n",
    "df_applications_history['NAME_CONTRACT_STATUS'] = df_applications_history['NAME_CONTRACT_STATUS'].map(freq).astype('float')"
   ]
  },
  {
   "cell_type": "markdown",
   "metadata": {},
   "source": [
    "NAME_PAYMENT_TYPE"
   ]
  },
  {
   "cell_type": "code",
   "execution_count": null,
   "metadata": {},
   "outputs": [],
   "source": [
    "df_applications_history['NAME_PAYMENT_TYPE'].value_counts()"
   ]
  },
  {
   "cell_type": "code",
   "execution_count": null,
   "metadata": {},
   "outputs": [],
   "source": [
    "df_applications_history = create_freq_feature(df_applications_history, 'NAME_PAYMENT_TYPE')"
   ]
  },
  {
   "cell_type": "markdown",
   "metadata": {},
   "source": [
    "CODE_REJECT_REASON"
   ]
  },
  {
   "cell_type": "code",
   "execution_count": null,
   "metadata": {},
   "outputs": [],
   "source": [
    "df_applications_history['CODE_REJECT_REASON'].value_counts()"
   ]
  },
  {
   "cell_type": "code",
   "execution_count": null,
   "metadata": {},
   "outputs": [],
   "source": [
    "df_applications_history = create_freq_feature(df_applications_history, 'CODE_REJECT_REASON')"
   ]
  },
  {
   "cell_type": "markdown",
   "metadata": {},
   "source": [
    "NAME_CLIENT_TYPE"
   ]
  },
  {
   "cell_type": "code",
   "execution_count": null,
   "metadata": {},
   "outputs": [],
   "source": [
    "df_applications_history['NAME_CLIENT_TYPE'].value_counts()"
   ]
  },
  {
   "cell_type": "code",
   "execution_count": null,
   "metadata": {},
   "outputs": [],
   "source": [
    "df_applications_history = create_freq_feature(df_applications_history, 'NAME_CLIENT_TYPE')"
   ]
  },
  {
   "cell_type": "markdown",
   "metadata": {},
   "source": [
    "NAME_GOODS_CATEGORY"
   ]
  },
  {
   "cell_type": "code",
   "execution_count": null,
   "metadata": {},
   "outputs": [],
   "source": [
    "df_applications_history['NAME_GOODS_CATEGORY'].value_counts()"
   ]
  },
  {
   "cell_type": "code",
   "execution_count": null,
   "metadata": {},
   "outputs": [],
   "source": [
    "df_applications_history = create_freq_feature(df_applications_history, 'NAME_GOODS_CATEGORY')"
   ]
  },
  {
   "cell_type": "markdown",
   "metadata": {},
   "source": [
    "NAME_PORTFOLIO, NAME_PRODUCT_TYPE, NAME_YIELD_GROUP"
   ]
  },
  {
   "cell_type": "code",
   "execution_count": null,
   "metadata": {},
   "outputs": [],
   "source": [
    "df_applications_history = create_freq_feature(df_applications_history, 'NAME_PORTFOLIO')\n",
    "df_applications_history = create_freq_feature(df_applications_history, 'NAME_PRODUCT_TYPE')\n",
    "df_applications_history = create_freq_feature(df_applications_history, 'NAME_YIELD_GROUP')"
   ]
  },
  {
   "cell_type": "markdown",
   "metadata": {},
   "source": [
    "Other"
   ]
  },
  {
   "cell_type": "code",
   "execution_count": null,
   "metadata": {},
   "outputs": [],
   "source": [
    "df_applications_history = df_applications_history.fillna(0)"
   ]
  },
  {
   "cell_type": "markdown",
   "metadata": {},
   "source": [
    "numeric"
   ]
  },
  {
   "cell_type": "code",
   "execution_count": null,
   "metadata": {},
   "outputs": [],
   "source": [
    "# df_applications_history = numeric_feature_preprocessing(df_applications_history, \n",
    "#                                                         numeric_feature=numerical_features_df_applications_history)"
   ]
  },
  {
   "cell_type": "markdown",
   "metadata": {},
   "source": [
    "visual"
   ]
  },
  {
   "cell_type": "code",
   "execution_count": null,
   "metadata": {},
   "outputs": [],
   "source": [
    "standard_scaler = StandardScaler()\n",
    "df_applications_history_scale = \\\n",
    "            pd.DataFrame(standard_scaler.fit_transform(df_applications_history), \n",
    "                         columns=df_applications_history.columns)"
   ]
  },
  {
   "cell_type": "code",
   "execution_count": null,
   "metadata": {},
   "outputs": [],
   "source": [
    "from sklearn.manifold import TSNE\n",
    "tsne = TSNE(n_components=3, learning_rate=250, random_state=42)"
   ]
  },
  {
   "cell_type": "code",
   "execution_count": null,
   "metadata": {},
   "outputs": [],
   "source": [
    "df_applications_history_scale.drop(['PREV_APPLICATION_NUMBER', 'APPLICATION_NUMBER'], axis='columns', inplace=True)"
   ]
  },
  {
   "cell_type": "code",
   "execution_count": null,
   "metadata": {},
   "outputs": [],
   "source": [
    "%%time\n",
    "\n",
    "applications_history_tsne = tsne.fit_transform(df_applications_history_scale.sample(2000))"
   ]
  },
  {
   "cell_type": "code",
   "execution_count": null,
   "metadata": {},
   "outputs": [],
   "source": [
    "from mpl_toolkits.mplot3d import Axes3D\n",
    "plt.rcParams['figure.figsize'] = [10, 10]\n",
    "\n",
    "fig = plt.figure()\n",
    "ax = fig.add_subplot(111, projection='3d')\n",
    "ax.scatter(applications_history_tsne[:, 0],\n",
    "        applications_history_tsne[:, 1],\n",
    "        applications_history_tsne[:, 2])"
   ]
  },
  {
   "cell_type": "markdown",
   "metadata": {},
   "source": [
    "## model"
   ]
  },
  {
   "cell_type": "code",
   "execution_count": null,
   "metadata": {},
   "outputs": [],
   "source": [
    "%%time\n",
    "df_train_applications_history = df_applications_history.copy()\n",
    "\n",
    "df_train_applications_history = pd.pivot_table(df_train_applications_history,  \n",
    "                                                index=['APPLICATION_NUMBER'], aggfunc=np.max)\n",
    "\n",
    "\n",
    "df_train_applications_history = df_train.loc[:, ['APPLICATION_NUMBER', 'TARGET']].merge(\n",
    "                                               df_train_applications_history, \n",
    "                                               left_on='APPLICATION_NUMBER', \n",
    "                                               right_on='APPLICATION_NUMBER', \n",
    "                                               how='inner')\n",
    "\n",
    "cor = df_train_applications_history.corr()\n",
    "\n",
    "# df_train_applications_history, df_valid_applications_history = train_test_split(df_train_applications_history, \n",
    "#                                                                                 test_size=0.3,  \n",
    "#                                                                                 random_state=42)\n",
    "\n",
    "y_train_applications_history = df_train_applications_history[\"TARGET\"]\n",
    "# y_valid_applications_history = df_valid_applications_history[\"TARGET\"]\n",
    "\n",
    "df_train_applications_history.drop([\"TARGET\", 'APPLICATION_NUMBER', 'PREV_APPLICATION_NUMBER'], axis='columns', inplace=True)\n",
    "# df_valid_applications_history.drop([\"TARGET\",'APPLICATION_NUMBER', 'PREV_APPLICATION_NUMBER'], axis='columns', inplace=True)\n",
    "\n",
    "print(\"df_train_applications_history.shape = {} rows, {} cols\".format(*df_train_applications_history.shape))\n",
    "# print(\"df_valid_applications_history.shape = {} rows, {} cols\".format(*df_valid_applications_history.shape))\n",
    "\n",
    "dtrain = lgb.Dataset(data=df_train_applications_history, label=y_train_applications_history)\n",
    "# dvalid = lgb.Dataset(data=df_valid_applications_history, label=y_valid_applications_history)\n",
    "\n",
    "params = {\n",
    "    \"boosting_type\": \"goss\",\n",
    "    \"objective\": \"binary\",\n",
    "    \"metric\": \"auc\",\n",
    "    \"learning_rate\": 0.01,\n",
    "    \"n_estimators\": 2000,\n",
    "    \"n_jobs\": 6,\n",
    "    \"seed\": 20\n",
    "}\n",
    "\n",
    "model_lgb = lgb.train(\n",
    "    params=params,\n",
    "    train_set=dtrain,\n",
    "    num_boost_round=1000,\n",
    "    valid_sets=[dtrain],\n",
    "    early_stopping_rounds=50,\n",
    "    verbose_eval=500\n",
    ")"
   ]
  },
  {
   "cell_type": "code",
   "execution_count": null,
   "metadata": {},
   "outputs": [],
   "source": [
    "feature_importances = pd.DataFrame(model_lgb.feature_importance().reshape(-1,len(model_lgb.feature_importance())), columns=model_lgb.feature_name(), index=['importances'])\n",
    "feature_high_importances = feature_importances.loc[:, \n",
    "                                                   feature_importances.loc['importances', :] > feature_importances.loc['importances', :].mean()\n",
    "                                                  ].columns\n",
    "feature_importances"
   ]
  },
  {
   "cell_type": "code",
   "execution_count": null,
   "metadata": {},
   "outputs": [],
   "source": [
    "df_train_applications_history[\"TARGET\"] = y_train_applications_history\n",
    "\n",
    "df_train_applications_history, df_valid_applications_history = train_test_split(df_train_applications_history, \n",
    "                                                                                test_size=0.3,  \n",
    "                                                                                random_state=42)\n",
    "\n",
    "y_train_applications_history = df_train_applications_history[\"TARGET\"]\n",
    "y_valid_applications_history = df_valid_applications_history[\"TARGET\"]\n",
    "\n",
    "df_train_applications_history.drop([\"TARGET\"], axis='columns', inplace=True)\n",
    "df_valid_applications_history.drop([\"TARGET\"], axis='columns', inplace=True)\n",
    "\n",
    "print(\"df_train_applications_history.shape = {} rows, {} cols\".format(*df_train_applications_history.shape))\n",
    "print(\"df_valid_applications_history.shape = {} rows, {} cols\".format(*df_valid_applications_history.shape))\n",
    "\n",
    "dtrain = lgb.Dataset(data=df_train_applications_history, label=y_train_applications_history)\n",
    "dvalid = lgb.Dataset(data=df_valid_applications_history, label=y_valid_applications_history)\n",
    "\n",
    "dtrain = lgb.Dataset(data=df_train_applications_history[feature_high_importances], label=y_train_applications_history)\n",
    "dvalid = lgb.Dataset(data=df_valid_applications_history[feature_high_importances], label=y_valid_applications_history)\n",
    "\n",
    "params = {\n",
    "    \"boosting_type\": \"goss\",\n",
    "    \"objective\": \"binary\",\n",
    "    \"metric\": \"auc\",\n",
    "    \"learning_rate\": 0.01,\n",
    "    \"n_estimators\": 50000,\n",
    "    \"n_jobs\": 6,\n",
    "    \"seed\": 20\n",
    "}\n",
    "\n",
    "model_lgb = lgb.train(\n",
    "    params=params,\n",
    "    train_set=dtrain,\n",
    "    num_boost_round=1000,\n",
    "    valid_sets=[ dtrain, dvalid ],\n",
    "    early_stopping_rounds=1000,\n",
    "    verbose_eval=500\n",
    ")"
   ]
  },
  {
   "cell_type": "markdown",
   "metadata": {},
   "source": [
    "result"
   ]
  },
  {
   "cell_type": "code",
   "execution_count": null,
   "metadata": {},
   "outputs": [],
   "source": [
    "kmeans_n_clusters_df_applications_history = 10\n",
    "\n",
    "kmeans = KMeans(n_clusters=kmeans_n_clusters_df_applications_history,\n",
    "                max_iter=10000, random_state=1)"
   ]
  },
  {
   "cell_type": "code",
   "execution_count": null,
   "metadata": {},
   "outputs": [],
   "source": [
    "%%time\n",
    "\n",
    "kmeans_train = kmeans.fit_predict(df_applications_history_scale[feature_high_importances])"
   ]
  },
  {
   "cell_type": "code",
   "execution_count": null,
   "metadata": {},
   "outputs": [],
   "source": [
    "df_applications_history_result = pd.DataFrame(pd.get_dummies(kmeans_train, prefix='applications_history'))\n",
    "df_applications_history_result_columns = df_applications_history_result.columns\n",
    "df_applications_history_result['APPLICATION_NUMBER'] = df_applications_history['APPLICATION_NUMBER']"
   ]
  },
  {
   "cell_type": "code",
   "execution_count": null,
   "metadata": {},
   "outputs": [],
   "source": [
    "df_applications_history_result = pd.pivot_table(df_applications_history_result, \n",
    "                                                values=df_applications_history_result_columns, \n",
    "                                                index=['APPLICATION_NUMBER'], aggfunc=np.sum)"
   ]
  },
  {
   "cell_type": "code",
   "execution_count": null,
   "metadata": {},
   "outputs": [],
   "source": [
    "df_applications_history_result['sum'] = df_applications_history_result.sum(axis=1)\n",
    "for col in df_applications_history_result_columns:\n",
    "    df_applications_history_result[col] = df_applications_history_result[col] / df_applications_history_result['sum']\n",
    "df_applications_history_result.drop(['sum'], axis='columns', inplace=True)  "
   ]
  },
  {
   "cell_type": "code",
   "execution_count": null,
   "metadata": {},
   "outputs": [],
   "source": [
    "# fig, axes = plt.subplots(figsize = (25,25))\n",
    "# plt.title(\"Correlation of Numeric Features with Sale Price\", y=1, size=16)\n",
    "# sns.heatmap(cor, square=True, vmax=1, cmap=\"viridis\")"
   ]
  },
  {
   "cell_type": "code",
   "execution_count": null,
   "metadata": {},
   "outputs": [],
   "source": [
    "df_train_applications_history = df_applications_history.copy()\n",
    "\n",
    "df_train_applications_history = pd.pivot_table(df_train_applications_history,  \n",
    "                                                index=['APPLICATION_NUMBER'], aggfunc=np.max)\n",
    "\n",
    "df_applications_history_result = df_train_applications_history[feature_high_importances]\n",
    "#df_applications_history_result['APPLICATION_NUMBER'] = df_train_applications_history['APPLICATION_NUMBER']"
   ]
  },
  {
   "cell_type": "markdown",
   "metadata": {},
   "source": [
    "# данные БКИ о предыдущих кредитах клиента;\n",
    "df_bki"
   ]
  },
  {
   "cell_type": "code",
   "execution_count": null,
   "metadata": {},
   "outputs": [],
   "source": [
    "#!!!!!!!!!!!!!!!!!!!!!!!!!!!!!!!!!!!!!!!!!!!!!!!!!!!!!!!!!!!!!!!!!!!!!!!!\n",
    "# данные БКИ о предыдущих кредитах клиента;\n",
    "df_bki = pd.read_csv(\n",
    "    \"../geekbrains-competitive-data-analysis/bki.csv\"\n",
    ")\n",
    "\n",
    "print(\"bki.shape = {} rows, {} cols\".format(*df_bki.shape))"
   ]
  },
  {
   "cell_type": "code",
   "execution_count": null,
   "metadata": {},
   "outputs": [],
   "source": [
    "df_bki.info()"
   ]
  },
  {
   "cell_type": "code",
   "execution_count": null,
   "metadata": {},
   "outputs": [],
   "source": [
    "msno.matrix(df_bki)"
   ]
  },
  {
   "cell_type": "code",
   "execution_count": null,
   "metadata": {},
   "outputs": [],
   "source": [
    "numerical_features_df_bki = df_bki.select_dtypes(include=[np.number]).columns\n",
    "numerical_features_df_bki = numerical_features_df_bki.drop('APPLICATION_NUMBER')\n",
    "\n",
    "numerical_features_df_bki"
   ]
  },
  {
   "cell_type": "markdown",
   "metadata": {},
   "source": [
    "CREDIT_ACTIVE, CREDIT_CURRENCY, CREDIT_TYPE"
   ]
  },
  {
   "cell_type": "code",
   "execution_count": null,
   "metadata": {},
   "outputs": [],
   "source": [
    "df_bki['CREDIT_ACTIVE'].value_counts()"
   ]
  },
  {
   "cell_type": "code",
   "execution_count": null,
   "metadata": {},
   "outputs": [],
   "source": [
    "df_bki['CREDIT_CURRENCY'].value_counts()"
   ]
  },
  {
   "cell_type": "code",
   "execution_count": null,
   "metadata": {},
   "outputs": [],
   "source": [
    "df_bki['CREDIT_TYPE'].value_counts()"
   ]
  },
  {
   "cell_type": "code",
   "execution_count": null,
   "metadata": {},
   "outputs": [],
   "source": [
    "df_bki = create_freq_feature(df_bki, 'CREDIT_ACTIVE')\n",
    "df_bki = create_freq_feature(df_bki, 'CREDIT_CURRENCY')\n",
    "df_bki = create_freq_feature(df_bki, 'CREDIT_TYPE')"
   ]
  },
  {
   "cell_type": "markdown",
   "metadata": {},
   "source": [
    "DAYS_CREDIT_ENDDATE"
   ]
  },
  {
   "cell_type": "code",
   "execution_count": null,
   "metadata": {},
   "outputs": [],
   "source": [
    "mean = df_bki.loc[df_bki['DAYS_CREDIT_ENDDATE'].notnull(), ['DAYS_CREDIT_ENDDATE']].mean()\n",
    "df_bki['DAYS_CREDIT_ENDDATE'] = df_bki['DAYS_CREDIT_ENDDATE'].fillna(mean[0])"
   ]
  },
  {
   "cell_type": "markdown",
   "metadata": {},
   "source": [
    "DAYS_ENDDATE_FACT"
   ]
  },
  {
   "cell_type": "code",
   "execution_count": null,
   "metadata": {},
   "outputs": [],
   "source": [
    "df_bki.loc[df_bki['DAYS_ENDDATE_FACT'].isnull(), ['DAYS_ENDDATE_FACT']] = df_bki['DAYS_CREDIT_ENDDATE']"
   ]
  },
  {
   "cell_type": "markdown",
   "metadata": {},
   "source": [
    "AMT_CREDIT_MAX_OVERDUE"
   ]
  },
  {
   "cell_type": "code",
   "execution_count": null,
   "metadata": {},
   "outputs": [],
   "source": [
    "df_bki['AMT_CREDIT_MAX_OVERDUE'] = df_bki['AMT_CREDIT_MAX_OVERDUE'].fillna(0)"
   ]
  },
  {
   "cell_type": "markdown",
   "metadata": {},
   "source": [
    "other"
   ]
  },
  {
   "cell_type": "code",
   "execution_count": null,
   "metadata": {},
   "outputs": [],
   "source": [
    "df_bki.drop(['AMT_ANNUITY'], axis='columns', inplace=True)\n",
    "numerical_features_df_bki = numerical_features_df_bki.drop('AMT_ANNUITY')"
   ]
  },
  {
   "cell_type": "code",
   "execution_count": null,
   "metadata": {},
   "outputs": [],
   "source": [
    "df_bki = df_bki.fillna(0)"
   ]
  },
  {
   "cell_type": "markdown",
   "metadata": {},
   "source": [
    "num"
   ]
  },
  {
   "cell_type": "code",
   "execution_count": null,
   "metadata": {},
   "outputs": [],
   "source": [
    "# df_bki = numeric_feature_preprocessing(df_bki, \n",
    "#                                        numeric_feature=numerical_features_df_bki)"
   ]
  },
  {
   "cell_type": "markdown",
   "metadata": {},
   "source": [
    "select feature"
   ]
  },
  {
   "cell_type": "code",
   "execution_count": null,
   "metadata": {},
   "outputs": [],
   "source": [
    "%%time\n",
    "df_train_bki = df_bki.copy()\n",
    "\n",
    "df_train_bki = pd.pivot_table(df_train_bki,  \n",
    "                              index=['APPLICATION_NUMBER'], aggfunc=np.max)\n",
    "\n",
    "\n",
    "df_train_bki = df_train.loc[:, ['APPLICATION_NUMBER', 'TARGET']].merge(\n",
    "                           df_train_bki, \n",
    "                           left_on='APPLICATION_NUMBER', \n",
    "                           right_on='APPLICATION_NUMBER', \n",
    "                           how='inner')\n",
    "\n",
    "cor = df_train_bki.corr()\n",
    "\n",
    "# df_train_bki, df_valid_bki = train_test_split(df_train_bki, \n",
    "#                                               test_size=0.3,  \n",
    "#                                               random_state=42)\n",
    "\n",
    "y_train_bki = df_train_bki[\"TARGET\"]\n",
    "# y_valid_bki = df_valid_bki[\"TARGET\"]\n",
    "\n",
    "df_train_bki.drop([\"TARGET\", 'APPLICATION_NUMBER', 'BUREAU_ID'], axis='columns', inplace=True)\n",
    "# df_valid_bki.drop([\"TARGET\",'APPLICATION_NUMBER'], axis='columns', inplace=True)\n",
    "\n",
    "print(\"df_train_bki.shape = {} rows, {} cols\".format(*df_train_bki.shape))\n",
    "# print(\"df_valid_bki.shape = {} rows, {} cols\".format(*df_valid_bki.shape))\n",
    "\n",
    "dtrain = lgb.Dataset(data=df_train_bki, label=y_train_bki)\n",
    "# dvalid = lgb.Dataset(data=df_valid_bki, label=y_valid_bki)\n",
    "\n",
    "params = {\n",
    "    \"boosting_type\": \"goss\",\n",
    "    \"objective\": \"binary\",\n",
    "    \"metric\": \"auc\",\n",
    "    \"learning_rate\": 0.01,\n",
    "    \"n_estimators\": 5000,\n",
    "    \"n_jobs\": 6,\n",
    "    \"seed\": 20\n",
    "}\n",
    "\n",
    "model_lgb = lgb.train(\n",
    "    params=params,\n",
    "    train_set=dtrain,\n",
    "    num_boost_round=1000,\n",
    "    valid_sets=[dtrain],\n",
    "    early_stopping_rounds=50,\n",
    "    verbose_eval=500\n",
    ")\n",
    "\n",
    "feature_importances = pd.DataFrame(model_lgb.feature_importance().reshape(-1,len(model_lgb.feature_importance())), columns=model_lgb.feature_name(), index=['importances'])\n",
    "feature_high_importances = feature_importances.loc[:, \n",
    "                                                   feature_importances.loc['importances', :] > feature_importances.loc['importances', :].mean()\n",
    "                                                  ].columns\n",
    "print(feature_importances)\n",
    "\n",
    "\n",
    "df_train_bki[\"TARGET\"] = y_train_bki\n",
    "\n",
    "df_train_bki, df_valid_bki = train_test_split(df_train_bki, \n",
    "                                              test_size=0.3,  \n",
    "                                              random_state=42)\n",
    "\n",
    "y_train_bki = df_train_bki[\"TARGET\"]\n",
    "y_valid_bki = df_valid_bki[\"TARGET\"]\n",
    "\n",
    "df_train_bki.drop([\"TARGET\"], axis='columns', inplace=True)\n",
    "df_valid_bki.drop([\"TARGET\"], axis='columns', inplace=True)\n",
    "\n",
    "print(\"df_train_bki.shape = {} rows, {} cols\".format(*df_train_bki.shape))\n",
    "print(\"df_valid_bki.shape = {} rows, {} cols\".format(*df_valid_bki.shape))\n",
    "\n",
    "dtrain = lgb.Dataset(data=df_train_bki[feature_high_importances], label=y_train_bki)\n",
    "dvalid = lgb.Dataset(data=df_valid_bki[feature_high_importances], label=y_valid_bki)\n",
    "\n",
    "params = {\n",
    "    \"boosting_type\": \"goss\",\n",
    "    \"objective\": \"binary\",\n",
    "    \"metric\": \"auc\",\n",
    "    \"learning_rate\": 0.01,\n",
    "    \"n_estimators\": 50000,\n",
    "    \"n_jobs\": 6,\n",
    "    \"seed\": 20\n",
    "}\n",
    "\n",
    "model_lgb = lgb.train(\n",
    "    params=params,\n",
    "    train_set=dtrain,\n",
    "    num_boost_round=1000,\n",
    "    valid_sets=[ dtrain, dvalid ],\n",
    "    early_stopping_rounds=1000,\n",
    "    verbose_eval=500\n",
    ")"
   ]
  },
  {
   "cell_type": "markdown",
   "metadata": {},
   "source": [
    "scale"
   ]
  },
  {
   "cell_type": "code",
   "execution_count": null,
   "metadata": {},
   "outputs": [],
   "source": [
    "# df_bki_scale = pd.DataFrame(standard_scaler.fit_transform(df_bki), \n",
    "#                columns=df_bki.columns)"
   ]
  },
  {
   "cell_type": "code",
   "execution_count": null,
   "metadata": {},
   "outputs": [],
   "source": [
    "# df_bki_scale.drop(['APPLICATION_NUMBER', 'BUREAU_ID'], axis='columns', inplace=True)"
   ]
  },
  {
   "cell_type": "code",
   "execution_count": null,
   "metadata": {},
   "outputs": [],
   "source": [
    "#kmeans_bki = KMeans(n_clusters=10, max_iter=10000, random_state=1)"
   ]
  },
  {
   "cell_type": "code",
   "execution_count": null,
   "metadata": {},
   "outputs": [],
   "source": [
    "%%time\n",
    "\n",
    "#kmeans_train_bki = kmeans_bki.fit_predict(df_bki_scale[feature_high_importances])"
   ]
  },
  {
   "cell_type": "code",
   "execution_count": null,
   "metadata": {},
   "outputs": [],
   "source": [
    "# df_bki_result = pd.DataFrame(pd.get_dummies(kmeans_train_bki, prefix='bki'))\n",
    "# df_bki_result_columns = df_bki_result.columns\n",
    "# df_bki_result['APPLICATION_NUMBER'] = df_bki['APPLICATION_NUMBER']"
   ]
  },
  {
   "cell_type": "code",
   "execution_count": null,
   "metadata": {},
   "outputs": [],
   "source": [
    "# df_bki_result = pd.pivot_table(df_bki_result, values=df_bki_result_columns, index=['APPLICATION_NUMBER'], aggfunc=np.sum)"
   ]
  },
  {
   "cell_type": "code",
   "execution_count": null,
   "metadata": {},
   "outputs": [],
   "source": [
    "# df_bki_result['sum'] = df_bki_result.sum(axis=1)\n",
    "# for col in df_bki_result_columns:\n",
    "#     df_bki_result[col] = df_bki_result[col] / df_bki_result['sum']\n",
    "# df_bki_result.drop(['sum'], axis='columns', inplace=True)  "
   ]
  },
  {
   "cell_type": "code",
   "execution_count": null,
   "metadata": {},
   "outputs": [],
   "source": [
    "df_bki_result = df_bki.copy()\n",
    "\n",
    "df_bki_result = pd.pivot_table(df_bki_result,  \n",
    "                               index=['APPLICATION_NUMBER'], \n",
    "                               aggfunc=np.max)\n",
    "\n",
    "df_bki_result = df_bki_result[feature_high_importances]\n",
    "#df_bki_result['APPLICATION_NUMBER'] = df_bki['APPLICATION_NUMBER']"
   ]
  },
  {
   "cell_type": "code",
   "execution_count": null,
   "metadata": {},
   "outputs": [],
   "source": [
    "df_bki_result"
   ]
  },
  {
   "cell_type": "markdown",
   "metadata": {},
   "source": [
    "# история платежей клиента;\n",
    "df_payments"
   ]
  },
  {
   "cell_type": "code",
   "execution_count": null,
   "metadata": {},
   "outputs": [],
   "source": [
    "#!!!!!!!!!!!!!!!!!!!!!!!!!!!!!!!!!!!!!!!!!!!!!!!!!!!!!!!!!!!!!!!!!!!!!!!!\n",
    "# история платежей клиента;\n",
    "df_payments = pd.read_csv(\n",
    "    \"../geekbrains-competitive-data-analysis/payments.csv\"\n",
    ")\n",
    "\n",
    "print(\"payments.shape = {} rows, {} cols\".format(*df_payments.shape))\n",
    "df_payments.head()"
   ]
  },
  {
   "cell_type": "code",
   "execution_count": null,
   "metadata": {},
   "outputs": [],
   "source": [
    "df_payments.info()"
   ]
  },
  {
   "cell_type": "code",
   "execution_count": null,
   "metadata": {},
   "outputs": [],
   "source": [
    "numerical_features_df_payments = df_payments.select_dtypes(include=[np.number]).columns\n",
    "numerical_features_df_payments = numerical_features_df_payments.drop('APPLICATION_NUMBER')\n",
    "numerical_features_df_payments = numerical_features_df_payments.drop('PREV_APPLICATION_NUMBER')\n",
    "\n",
    "numerical_features_df_payments"
   ]
  },
  {
   "cell_type": "code",
   "execution_count": null,
   "metadata": {},
   "outputs": [],
   "source": [
    "df_payments = df_payments.fillna(0)"
   ]
  },
  {
   "cell_type": "code",
   "execution_count": null,
   "metadata": {},
   "outputs": [],
   "source": [
    "df_payments_result = df_payments.copy()\n",
    "\n",
    "df_payments_result = pd.pivot_table(df_payments_result,  \n",
    "                               index=['APPLICATION_NUMBER'], \n",
    "                               aggfunc=np.median)"
   ]
  },
  {
   "cell_type": "code",
   "execution_count": null,
   "metadata": {},
   "outputs": [],
   "source": [
    "df_payments_result.drop(['PREV_APPLICATION_NUMBER'], axis='columns', inplace=True)"
   ]
  },
  {
   "cell_type": "code",
   "execution_count": null,
   "metadata": {},
   "outputs": [],
   "source": [
    "df_payments_result.head()"
   ]
  },
  {
   "cell_type": "code",
   "execution_count": null,
   "metadata": {},
   "outputs": [],
   "source": []
  },
  {
   "cell_type": "code",
   "execution_count": null,
   "metadata": {},
   "outputs": [],
   "source": []
  },
  {
   "cell_type": "code",
   "execution_count": null,
   "metadata": {},
   "outputs": [],
   "source": [
    "# df_payments_scale = pd.DataFrame(standard_scaler.fit_transform(df_payments), \n",
    "#                columns=df_payments.columns)\n",
    "\n",
    "# df_payments_scale.drop(['APPLICATION_NUMBER', 'PREV_APPLICATION_NUMBER'], axis='columns', inplace=True)"
   ]
  },
  {
   "cell_type": "code",
   "execution_count": null,
   "metadata": {},
   "outputs": [],
   "source": [
    "# kmeans_payments = KMeans(n_clusters=10, max_iter=10000, random_state=1)"
   ]
  },
  {
   "cell_type": "code",
   "execution_count": null,
   "metadata": {},
   "outputs": [],
   "source": [
    "# %%time\n",
    "\n",
    "# kmeans_train_payments = kmeans_payments.fit_predict(df_payments_scale)"
   ]
  },
  {
   "cell_type": "code",
   "execution_count": null,
   "metadata": {},
   "outputs": [],
   "source": [
    "# df_payments_result = pd.DataFrame(pd.get_dummies(kmeans_train_payments, prefix='payments'))\n",
    "# df_payments_result_columns = df_payments_result.columns\n",
    "# df_payments_result['APPLICATION_NUMBER'] = df_payments['APPLICATION_NUMBER']"
   ]
  },
  {
   "cell_type": "code",
   "execution_count": null,
   "metadata": {},
   "outputs": [],
   "source": [
    "# df_payments_result = pd.pivot_table(df_payments_result, values=df_payments_result_columns, index=['APPLICATION_NUMBER'], aggfunc=np.sum)"
   ]
  },
  {
   "cell_type": "code",
   "execution_count": null,
   "metadata": {},
   "outputs": [],
   "source": [
    "# df_payments_result['sum'] = df_payments_result.sum(axis=1)\n",
    "# for col in df_payments_result_columns:\n",
    "#     df_payments_result[col] = df_payments_result[col] / df_payments_result['sum']\n",
    "# df_payments_result.drop(['sum'], axis='columns', inplace=True)  "
   ]
  },
  {
   "cell_type": "markdown",
   "metadata": {},
   "source": [
    "# клиентский профиль, некоторые знания, которые есть у компании о клиенте;\n",
    "df_client_profile"
   ]
  },
  {
   "cell_type": "code",
   "execution_count": null,
   "metadata": {},
   "outputs": [],
   "source": [
    "# клиентский профиль, некоторые знания, которые есть у компании о клиенте;\n",
    "df_client_profile = pd.read_csv(\n",
    "    \"../geekbrains-competitive-data-analysis/client_profile.csv\"\n",
    ")\n",
    "\n",
    "print(\"client_profile.shape = {} rows, {} cols\".format(*df_client_profile.shape))\n",
    "df_client_profile.head()"
   ]
  },
  {
   "cell_type": "code",
   "execution_count": null,
   "metadata": {},
   "outputs": [],
   "source": [
    "df_client_profile.info()"
   ]
  },
  {
   "cell_type": "code",
   "execution_count": null,
   "metadata": {},
   "outputs": [],
   "source": [
    "msno.matrix(df_client_profile)"
   ]
  },
  {
   "cell_type": "markdown",
   "metadata": {},
   "source": [
    "GENDER"
   ]
  },
  {
   "cell_type": "code",
   "execution_count": null,
   "metadata": {},
   "outputs": [],
   "source": [
    "df_client_profile['GENDER'].value_counts()"
   ]
  },
  {
   "cell_type": "code",
   "execution_count": null,
   "metadata": {},
   "outputs": [],
   "source": [
    "df_client_profile['GENDER'] = (df_client_profile['GENDER'] == 'F').astype(int)"
   ]
  },
  {
   "cell_type": "markdown",
   "metadata": {},
   "source": [
    "FAMILY_STATUS,EDUCATION_LEVEL"
   ]
  },
  {
   "cell_type": "code",
   "execution_count": null,
   "metadata": {},
   "outputs": [],
   "source": [
    "df_client_profile['FAMILY_STATUS'].value_counts()"
   ]
  },
  {
   "cell_type": "code",
   "execution_count": null,
   "metadata": {},
   "outputs": [],
   "source": [
    "df_client_profile['EDUCATION_LEVEL'].value_counts()"
   ]
  },
  {
   "cell_type": "code",
   "execution_count": null,
   "metadata": {},
   "outputs": [],
   "source": [
    "df_client_profile = create_freq_feature(df_client_profile, 'FAMILY_STATUS')\n",
    "df_client_profile = create_freq_feature(df_client_profile, 'EDUCATION_LEVEL')"
   ]
  },
  {
   "cell_type": "code",
   "execution_count": null,
   "metadata": {},
   "outputs": [],
   "source": [
    "df_client_profile = df_client_profile.fillna(value=\n",
    "                                             {'OWN_CAR_AGE': 0, \n",
    "                                              'EXTERNAL_SCORING_RATING_1': df_client_profile['EXTERNAL_SCORING_RATING_1'].min(),\n",
    "                                              'EXTERNAL_SCORING_RATING_3': df_client_profile['EXTERNAL_SCORING_RATING_3'].min()\n",
    "                                             })\n",
    "\n",
    "df_client_profile = df_client_profile.fillna(0)"
   ]
  },
  {
   "cell_type": "code",
   "execution_count": null,
   "metadata": {},
   "outputs": [],
   "source": [
    "df_client_profile.describe().T"
   ]
  },
  {
   "cell_type": "code",
   "execution_count": null,
   "metadata": {},
   "outputs": [],
   "source": [
    "df_train = pd.read_csv(\n",
    "    \"../geekbrains-competitive-data-analysis/train.csv\"\n",
    ")"
   ]
  },
  {
   "cell_type": "code",
   "execution_count": null,
   "metadata": {},
   "outputs": [],
   "source": [
    "df_train.head()"
   ]
  },
  {
   "cell_type": "code",
   "execution_count": null,
   "metadata": {},
   "outputs": [],
   "source": [
    "df_client_profile_t = df_client_profile.merge(df_train.loc[:, ['APPLICATION_NUMBER', 'TARGET']], \n",
    "                                            left_on='APPLICATION_NUMBER', \n",
    "                                            right_on='APPLICATION_NUMBER', \n",
    "                                            how='inner')\n"
   ]
  },
  {
   "cell_type": "code",
   "execution_count": null,
   "metadata": {},
   "outputs": [],
   "source": [
    "df_client_profile_t"
   ]
  },
  {
   "cell_type": "code",
   "execution_count": null,
   "metadata": {},
   "outputs": [],
   "source": [
    "%%time\n",
    "\n",
    "dtrain = xgb.DMatrix(data=df_client_profile_t.iloc[:, :df_client_profile_t.shape[1]-1], \n",
    "                     label=df_client_profile_t.iloc[:, df_client_profile_t.shape[1]-1])\n",
    "print('*')\n",
    "\n",
    "params = {\n",
    "    \"booster\": \"gbtree\",\n",
    "    \"objective\": \"binary:logistic\",\n",
    "    \"eval_metric\": \"auc\",\n",
    "    \"learning_rate\": 0.01,\n",
    "    \"n_estimators\": 500,\n",
    "    \"reg_lambda\": 100,\n",
    "    \"max_depth\": 10,\n",
    "    \"gamma\": 10,\n",
    "    \"nthread\": 6,\n",
    "    \"seed\": 27\n",
    "}\n",
    "\n",
    "model_xgb = xgb.train(\n",
    "    params=params,\n",
    "    dtrain=dtrain,\n",
    "    num_boost_round=1000,\n",
    "    early_stopping_rounds=50,\n",
    "    evals=[(dtrain, \"train\")],\n",
    "    verbose_eval=100,\n",
    "    maximize=True,\n",
    ")"
   ]
  },
  {
   "cell_type": "code",
   "execution_count": null,
   "metadata": {},
   "outputs": [],
   "source": [
    "x_valid_ = df_client_profile_t.sample(5000)\n",
    "y_valid_ =  x_valid_['TARGET']\n",
    "x_valid_.drop(['TARGET'], axis='columns', inplace=True)"
   ]
  },
  {
   "cell_type": "code",
   "execution_count": null,
   "metadata": {},
   "outputs": [],
   "source": [
    "explainer = shap.TreeExplainer(model_xgb)\n",
    "shap_values = explainer.shap_values(x_valid_, y_valid_)"
   ]
  },
  {
   "cell_type": "code",
   "execution_count": null,
   "metadata": {},
   "outputs": [],
   "source": [
    "shap.summary_plot(shap_values, x_valid_, plot_type=\"bar\", max_display=150)"
   ]
  },
  {
   "cell_type": "code",
   "execution_count": null,
   "metadata": {},
   "outputs": [],
   "source": [
    "shap.summary_plot(shap_values, x_valid_, plot_type=\"dot\")"
   ]
  },
  {
   "cell_type": "code",
   "execution_count": null,
   "metadata": {},
   "outputs": [],
   "source": [
    "mean = list()\n",
    "\n",
    "for j in range(shap_values.shape[1]):\n",
    "    bufer = 0\n",
    "    for i in range(shap_values.shape[0]):\n",
    "        bufer += np.abs(shap_values[i][j])\n",
    "    bufer /= shap_values.shape[0]\n",
    "    mean.append(bufer)\n",
    "\n",
    "mean = np.array(mean).reshape(-1, shap_values.shape[1])\n",
    "\n",
    "feature_importances = pd.DataFrame(mean, columns=x_valid_.columns, index=['importances'])\n",
    "feature_importances = feature_importances.sort_values('importances', axis=1, ascending=0)\n",
    "max_num_feature = feature_importances.loc['importances', feature_importances.loc['importances',:]>0].shape[0]\n",
    "feature_high_importances = feature_importances.iloc[: ,0:max_num_feature].columns\n",
    "feature_high_importances"
   ]
  },
  {
   "cell_type": "code",
   "execution_count": null,
   "metadata": {},
   "outputs": [],
   "source": [
    "%%time\n",
    "\n",
    "df_train_, df_valid_ = train_test_split(df_client_profile_t, \n",
    "                                        test_size=0.4,  \n",
    "                                        random_state=42)\n",
    "df_valid_, df_test_ = train_test_split(df_valid_, \n",
    "                                        test_size=0.5,  \n",
    "                                        random_state=42)\n",
    "\n",
    "dtrain = lgb.Dataset(data=df_train_[feature_high_importances], \n",
    "                     label=df_train_['TARGET'])\n",
    "dvalid = lgb.Dataset(data=df_valid_[feature_high_importances], \n",
    "                     label=df_valid_['TARGET'])\n",
    "\n",
    "params = {\n",
    "    \"boosting_type\": \"goss\",\n",
    "    \"objective\": \"binary\",\n",
    "    \"metric\": \"auc\",\n",
    "    \"learning_rate\": 0.01,\n",
    "    \"n_estimators\": 10000,\n",
    "    \"n_jobs\": 6,\n",
    "    \"seed\": 27\n",
    "}\n",
    "\n",
    "model_lgb = lgb.train(\n",
    "    params=params,\n",
    "    train_set=dtrain,\n",
    "    num_boost_round=10000,\n",
    "    valid_sets=[dtrain, dvalid],\n",
    "    categorical_feature=\"auto\",\n",
    "    early_stopping_rounds=50,\n",
    "    verbose_eval=100\n",
    ")\n",
    "\n",
    "#------------------------------------------------------------------------------\n",
    "#lgb\n",
    "from pylab import rcParams\n",
    "rcParams['figure.figsize'] = 7, 7\n",
    "\n",
    "pred = model_lgb.predict(df_test_[feature_high_importances])\n",
    "fpr, tpr, _ = roc_curve(df_test_['TARGET'], pred)\n",
    "roc_auc = auc(fpr, tpr)\n",
    "plt.plot(fpr, tpr, label='xgb (area = %0.4f)' % roc_auc)\n",
    "\n",
    "plt.plot([0, 1], [0, 1], color='navy', linestyle='--')\n",
    "plt.xlim([0.0, 1.0])\n",
    "plt.ylim([0.0, 1.05])\n",
    "plt.xlabel('False Positive Rate')\n",
    "plt.ylabel('True Positive Rate')\n",
    "plt.title('Receiver operating characteristic example')\n",
    "plt.legend(loc=\"lower right\", prop={'size': 20})\n",
    "plt.show()"
   ]
  },
  {
   "cell_type": "code",
   "execution_count": null,
   "metadata": {},
   "outputs": [],
   "source": [
    "df_client_profile_result = df_client_profile[feature_high_importances]\n",
    "df_client_profile_result['APPLICATION_NUMBER'] = df_client_profile['APPLICATION_NUMBER']"
   ]
  },
  {
   "cell_type": "code",
   "execution_count": null,
   "metadata": {},
   "outputs": [],
   "source": []
  },
  {
   "cell_type": "code",
   "execution_count": null,
   "metadata": {},
   "outputs": [],
   "source": []
  },
  {
   "cell_type": "markdown",
   "metadata": {},
   "source": [
    "# Объединение"
   ]
  },
  {
   "cell_type": "code",
   "execution_count": null,
   "metadata": {},
   "outputs": [],
   "source": [
    "df_train = pd.read_csv(\n",
    "    \"../geekbrains-competitive-data-analysis/train.csv\"\n",
    ")\n",
    "\n",
    "df_test = pd.read_csv(\n",
    "    \"../geekbrains-competitive-data-analysis/test.csv\"\n",
    ")\n",
    "\n",
    "print(\"gf_train.shape = {} rows, {} cols\".format(*df_train.shape))\n",
    "print(\"df_test.shape = {} rows, {} cols\".format(*df_test.shape))"
   ]
  },
  {
   "cell_type": "code",
   "execution_count": null,
   "metadata": {},
   "outputs": [],
   "source": [
    "#df_train = create_dummie(df_train)\n",
    "#df_test = create_dummie(df_test)\n",
    "\n",
    "df_train['NAME_CONTRACT_TYPE'] = (df_train['NAME_CONTRACT_TYPE'] == 'Cash').astype(int)\n",
    "df_test['NAME_CONTRACT_TYPE'] = (df_test['NAME_CONTRACT_TYPE'] == 'Cash').astype(int)"
   ]
  },
  {
   "cell_type": "code",
   "execution_count": null,
   "metadata": {},
   "outputs": [],
   "source": [
    "df_train, df_valid = train_test_split(df_train, \n",
    "                                      test_size=0.3,  \n",
    "                                      random_state=42)"
   ]
  },
  {
   "cell_type": "code",
   "execution_count": null,
   "metadata": {},
   "outputs": [],
   "source": []
  },
  {
   "cell_type": "code",
   "execution_count": null,
   "metadata": {},
   "outputs": [],
   "source": [
    "print(\"gf_train.shape = {} rows, {} cols\".format(*df_train.shape))\n",
    "print(\"df_valid.shape = {} rows, {} cols\".format(*df_valid.shape))\n",
    "print(\"df_test.shape = {} rows, {} cols\".format(*df_test.shape))"
   ]
  },
  {
   "cell_type": "code",
   "execution_count": null,
   "metadata": {},
   "outputs": [],
   "source": [
    "df_train = df_train.merge(df_client_profile_result, left_on='APPLICATION_NUMBER', right_on='APPLICATION_NUMBER', how='left')\n",
    "df_valid = df_valid.merge(df_client_profile_result, left_on='APPLICATION_NUMBER', right_on='APPLICATION_NUMBER', how='left')\n",
    "df_test = df_test.merge(df_client_profile_result, left_on='APPLICATION_NUMBER', right_on='APPLICATION_NUMBER', how='left')"
   ]
  },
  {
   "cell_type": "code",
   "execution_count": null,
   "metadata": {},
   "outputs": [],
   "source": [
    "df_train = df_train.merge(df_applications_history_result, left_on='APPLICATION_NUMBER', right_on='APPLICATION_NUMBER', how='left')\n",
    "df_valid = df_valid.merge(df_applications_history_result, left_on='APPLICATION_NUMBER', right_on='APPLICATION_NUMBER', how='left')\n",
    "df_test = df_test.merge(df_applications_history_result, left_on='APPLICATION_NUMBER', right_on='APPLICATION_NUMBER', how='left')"
   ]
  },
  {
   "cell_type": "code",
   "execution_count": null,
   "metadata": {},
   "outputs": [],
   "source": [
    "df_train = df_train.merge(df_bki_result, left_on='APPLICATION_NUMBER', right_on='APPLICATION_NUMBER', how='left')\n",
    "df_valid = df_valid.merge(df_bki_result, left_on='APPLICATION_NUMBER', right_on='APPLICATION_NUMBER', how='left')\n",
    "df_test = df_test.merge(df_bki_result, left_on='APPLICATION_NUMBER', right_on='APPLICATION_NUMBER', how='left')"
   ]
  },
  {
   "cell_type": "code",
   "execution_count": null,
   "metadata": {},
   "outputs": [],
   "source": [
    "df_train = df_train.merge(df_payments_result, left_on='APPLICATION_NUMBER', right_on='APPLICATION_NUMBER', how='left')\n",
    "df_valid = df_valid.merge(df_payments_result, left_on='APPLICATION_NUMBER', right_on='APPLICATION_NUMBER', how='left')\n",
    "df_test = df_test.merge(df_payments_result, left_on='APPLICATION_NUMBER', right_on='APPLICATION_NUMBER', how='left')"
   ]
  },
  {
   "cell_type": "code",
   "execution_count": null,
   "metadata": {},
   "outputs": [],
   "source": [
    "cor = df_train.corr()\n",
    "fig, axes = plt.subplots(figsize = (25,25))\n",
    "plt.title(\"Correlation of Numeric Features with Sale Price\", y=1, size=16)\n",
    "sns.heatmap(cor, square=True, vmax=1, cmap=\"viridis\")"
   ]
  },
  {
   "cell_type": "code",
   "execution_count": null,
   "metadata": {},
   "outputs": [],
   "source": [
    "y_train = df_train[\"TARGET\"]\n",
    "y_valid = df_valid[\"TARGET\"]\n",
    "\n",
    "df_train.drop([\"TARGET\", 'APPLICATION_NUMBER'], axis='columns', inplace=True)\n",
    "df_valid.drop([\"TARGET\", 'APPLICATION_NUMBER'], axis='columns', inplace=True)"
   ]
  },
  {
   "cell_type": "code",
   "execution_count": null,
   "metadata": {},
   "outputs": [],
   "source": [
    "df_test.drop(['APPLICATION_NUMBER'], axis='columns', inplace=True)"
   ]
  },
  {
   "cell_type": "code",
   "execution_count": null,
   "metadata": {},
   "outputs": [],
   "source": [
    "print(\"df_train.shape = {} rows, {} cols\".format(*df_train.shape))\n",
    "print(\"df_valid.shape = {} rows, {} cols\".format(*df_valid.shape))\n",
    "print(\"df_test.shape = {} rows, {} cols\".format(*df_test.shape))"
   ]
  },
  {
   "cell_type": "code",
   "execution_count": null,
   "metadata": {},
   "outputs": [],
   "source": [
    "df_train.describe().T"
   ]
  },
  {
   "cell_type": "code",
   "execution_count": null,
   "metadata": {},
   "outputs": [],
   "source": [
    "for i in range(df_train.shape[1]):\n",
    "    feature = df_train.iloc[:, i].name\n",
    "    median = df_train.iloc[:, i].median()\n",
    "    df_train.loc[df_train[feature].isnull(), [feature]]= median  "
   ]
  },
  {
   "cell_type": "code",
   "execution_count": null,
   "metadata": {},
   "outputs": [],
   "source": [
    "msno.matrix(df_train)"
   ]
  },
  {
   "cell_type": "code",
   "execution_count": null,
   "metadata": {},
   "outputs": [],
   "source": [
    "%%time\n",
    "\n",
    "dtrain = xgb.DMatrix(data=df_train.fillna(-9999), label=y_train)\n",
    "print('*')\n",
    "dvalid = xgb.DMatrix(data=df_valid.fillna(-9999), label=y_valid)\n",
    "print('*')\n",
    "dtest = xgb.DMatrix(data=df_test.fillna(-9999))"
   ]
  },
  {
   "cell_type": "code",
   "execution_count": null,
   "metadata": {},
   "outputs": [],
   "source": [
    "%%time\n",
    "\n",
    "params = {\n",
    "    \"booster\": \"gbtree\",\n",
    "    \"objective\": \"binary:logistic\",\n",
    "    \"eval_metric\": \"auc\",\n",
    "    \"learning_rate\": 0.01,\n",
    "    \"n_estimators\": 1000,\n",
    "    \"reg_lambda\": 100,\n",
    "    \"max_depth\": 10,\n",
    "    \"gamma\": 10,\n",
    "    \"nthread\": 6,\n",
    "    \"seed\": 27\n",
    "}\n",
    "\n",
    "model_xgb = xgb.train(\n",
    "    params=params,\n",
    "    dtrain=dtrain,\n",
    "    num_boost_round=1000,\n",
    "    early_stopping_rounds=50,\n",
    "    evals=[(dtrain, \"train\"), (dvalid, \"valid\")],\n",
    "    verbose_eval=100,\n",
    "    maximize=True,\n",
    ")"
   ]
  },
  {
   "cell_type": "code",
   "execution_count": null,
   "metadata": {},
   "outputs": [],
   "source": [
    "x_valid_ = df_valid.fillna(-9999).sample(5000)\n",
    "y_valid_ =  y_valid.sample(5000)\n",
    "\n",
    "explainer = shap.TreeExplainer(model_xgb)\n",
    "shap_values = explainer.shap_values(x_valid_, y_valid_)\n",
    "\n",
    "shap.summary_plot(shap_values, x_valid_, plot_type=\"bar\", max_display=150)"
   ]
  },
  {
   "cell_type": "code",
   "execution_count": null,
   "metadata": {},
   "outputs": [],
   "source": [
    "shap.summary_plot(shap_values, x_valid_)"
   ]
  },
  {
   "cell_type": "code",
   "execution_count": null,
   "metadata": {},
   "outputs": [],
   "source": [
    "%%time\n",
    "\n",
    "df_train_, df_valid_ = train_test_split(df_train, \n",
    "                                        test_size=0.4,  \n",
    "                                        random_state=42)\n",
    "df_valid_, df_test_ = train_test_split(df_valid_, \n",
    "                                        test_size=0.5,  \n",
    "                                        random_state=42)\n",
    "\n",
    "dtrain = lgb.Dataset(data=df_train_[feature_high_importances], \n",
    "                     label=df_train_['TARGET'])\n",
    "dvalid = lgb.Dataset(data=df_valid_[feature_high_importances], \n",
    "                     label=df_valid_['TARGET'])\n",
    "\n",
    "params = {\n",
    "    \"boosting_type\": \"goss\",\n",
    "    \"objective\": \"binary\",\n",
    "    \"metric\": \"auc\",\n",
    "    \"learning_rate\": 0.01,\n",
    "    \"n_estimators\": 10000,\n",
    "    \"n_jobs\": 6,\n",
    "    \"seed\": 27\n",
    "}\n",
    "\n",
    "model_lgb = lgb.train(\n",
    "    params=params,\n",
    "    train_set=dtrain,\n",
    "    num_boost_round=10000,\n",
    "    valid_sets=[dtrain, dvalid],\n",
    "    categorical_feature=\"auto\",\n",
    "    early_stopping_rounds=50,\n",
    "    verbose_eval=100\n",
    ")\n",
    "\n",
    "#------------------------------------------------------------------------------\n",
    "#lgb\n",
    "from pylab import rcParams\n",
    "rcParams['figure.figsize'] = 7, 7\n",
    "\n",
    "pred = model_lgb.predict(df_test_[feature_high_importances])\n",
    "fpr, tpr, _ = roc_curve(df_test_['TARGET'], pred)\n",
    "roc_auc = auc(fpr, tpr)\n",
    "plt.plot(fpr, tpr, label='xgb (area = %0.4f)' % roc_auc)\n",
    "\n",
    "plt.plot([0, 1], [0, 1], color='navy', linestyle='--')\n",
    "plt.xlim([0.0, 1.0])\n",
    "plt.ylim([0.0, 1.05])\n",
    "plt.xlabel('False Positive Rate')\n",
    "plt.ylabel('True Positive Rate')\n",
    "plt.title('Receiver operating characteristic example')\n",
    "plt.legend(loc=\"lower right\", prop={'size': 20})\n",
    "plt.show()"
   ]
  },
  {
   "cell_type": "code",
   "execution_count": null,
   "metadata": {},
   "outputs": [],
   "source": [
    "%%time\n",
    "\n",
    "dtrain = lgb.Dataset(data=df_train.fillna(-9999), label=y_train)\n",
    "dvalid = lgb.Dataset(data=df_valid.fillna(-9999), label=y_valid)\n",
    "dtest = lgb.Dataset(data=df_test.fillna(-9999))"
   ]
  },
  {
   "cell_type": "code",
   "execution_count": null,
   "metadata": {},
   "outputs": [],
   "source": [
    "%%time\n",
    "\n",
    "params = {\n",
    "    \"boosting_type\": \"goss\",\n",
    "    \"objective\": \"binary\",\n",
    "    \"metric\": \"auc\",\n",
    "    \"learning_rate\": 0.01,\n",
    "    \"n_estimators\": 5000,\n",
    "    \"n_jobs\": 6,\n",
    "    \"seed\": 27\n",
    "}\n",
    "\n",
    "model_lgb = lgb.train(\n",
    "    params=params,\n",
    "    train_set=dtrain,\n",
    "    num_boost_round=10000,\n",
    "    valid_sets=[dtrain, dvalid],\n",
    "    categorical_feature=\"auto\",\n",
    "    early_stopping_rounds=50,\n",
    "    verbose_eval=100\n",
    ")"
   ]
  },
  {
   "cell_type": "code",
   "execution_count": null,
   "metadata": {},
   "outputs": [],
   "source": [
    "result = model_lgb.predict(df_test.fillna(-9999))\n",
    "result"
   ]
  },
  {
   "cell_type": "code",
   "execution_count": null,
   "metadata": {},
   "outputs": [],
   "source": [
    "df_sample_submit[\"TARGET\"] = df_sample_submit[\"TARGET\"].astype('float')"
   ]
  },
  {
   "cell_type": "code",
   "execution_count": null,
   "metadata": {},
   "outputs": [],
   "source": [
    "df_sample_submit[\"TARGET\"] = result"
   ]
  },
  {
   "cell_type": "code",
   "execution_count": null,
   "metadata": {},
   "outputs": [],
   "source": [
    "df_sample_submit.to_csv('result.csv', index=False) "
   ]
  },
  {
   "cell_type": "code",
   "execution_count": null,
   "metadata": {},
   "outputs": [],
   "source": []
  },
  {
   "cell_type": "code",
   "execution_count": null,
   "metadata": {},
   "outputs": [],
   "source": []
  },
  {
   "cell_type": "code",
   "execution_count": null,
   "metadata": {},
   "outputs": [],
   "source": []
  },
  {
   "cell_type": "markdown",
   "metadata": {},
   "source": [
    "Только профиль"
   ]
  },
  {
   "cell_type": "code",
   "execution_count": null,
   "metadata": {},
   "outputs": [],
   "source": [
    "df_train = pd.read_csv(\n",
    "    \"../geekbrains-competitive-data-analysis/train.csv\"\n",
    ")\n",
    "\n",
    "df_test = pd.read_csv(\n",
    "    \"../geekbrains-competitive-data-analysis/test.csv\"\n",
    ")\n",
    "\n",
    "print(\"gf_train.shape = {} rows, {} cols\".format(*df_train.shape))\n",
    "print(\"df_test.shape = {} rows, {} cols\".format(*df_test.shape))\n",
    "\n",
    "#df_train = create_dummie(df_train)\n",
    "#df_test = create_dummie(df_test)\n",
    "\n",
    "df_train['NAME_CONTRACT_TYPE'] = (df_train['NAME_CONTRACT_TYPE'] == 'Cash').astype(int)\n",
    "df_test['NAME_CONTRACT_TYPE'] = (df_test['NAME_CONTRACT_TYPE'] == 'Cash').astype(int)"
   ]
  },
  {
   "cell_type": "code",
   "execution_count": null,
   "metadata": {},
   "outputs": [],
   "source": [
    "df_train = df_train.merge(df_client_profile_result, left_on='APPLICATION_NUMBER', right_on='APPLICATION_NUMBER', how='left')\n",
    "df_test = df_test.merge(df_client_profile_result, left_on='APPLICATION_NUMBER', right_on='APPLICATION_NUMBER', how='left')"
   ]
  },
  {
   "cell_type": "code",
   "execution_count": null,
   "metadata": {},
   "outputs": [],
   "source": [
    "msno.matrix(df_train)"
   ]
  },
  {
   "cell_type": "code",
   "execution_count": null,
   "metadata": {},
   "outputs": [],
   "source": [
    "df_train.loc[df_train['AGE'].isnull(), 'TARGET']"
   ]
  },
  {
   "cell_type": "code",
   "execution_count": null,
   "metadata": {},
   "outputs": [],
   "source": [
    "plt.figure(figsize=(8,5))\n",
    "\n",
    "sns.countplot(x='TARGET',data=df_train.loc[df_train['AGE'].isnull(), :])\n",
    "plt.title('Target variable distribution')\n",
    "\n",
    "plt.show()"
   ]
  },
  {
   "cell_type": "code",
   "execution_count": null,
   "metadata": {},
   "outputs": [],
   "source": []
  },
  {
   "cell_type": "code",
   "execution_count": null,
   "metadata": {},
   "outputs": [],
   "source": []
  },
  {
   "cell_type": "code",
   "execution_count": null,
   "metadata": {},
   "outputs": [],
   "source": [
    "df_train = pd.read_csv(\n",
    "    \"../geekbrains-competitive-data-analysis/train.csv\"\n",
    ")\n",
    "\n",
    "df_test = pd.read_csv(\n",
    "    \"../geekbrains-competitive-data-analysis/test.csv\"\n",
    ")\n",
    "\n",
    "print(\"gf_train.shape = {} rows, {} cols\".format(*df_train.shape))\n",
    "print(\"df_test.shape = {} rows, {} cols\".format(*df_test.shape))\n",
    "\n",
    "#df_train = create_dummie(df_train)\n",
    "#df_test = create_dummie(df_test)\n",
    "\n",
    "df_train['NAME_CONTRACT_TYPE'] = (df_train['NAME_CONTRACT_TYPE'] == 'Cash').astype(int)\n",
    "df_test['NAME_CONTRACT_TYPE'] = (df_test['NAME_CONTRACT_TYPE'] == 'Cash').astype(int)\n",
    "\n",
    "df_train, df_valid = train_test_split(df_train, \n",
    "                                      test_size=0.3,  \n",
    "                                      random_state=42)\n",
    "\n",
    "\n"
   ]
  },
  {
   "cell_type": "code",
   "execution_count": null,
   "metadata": {},
   "outputs": [],
   "source": [
    "df_train = df_train.merge(df_client_profile_result, left_on='APPLICATION_NUMBER', right_on='APPLICATION_NUMBER', how='left')\n",
    "df_valid = df_valid.merge(df_client_profile_result, left_on='APPLICATION_NUMBER', right_on='APPLICATION_NUMBER', how='left')\n",
    "df_test = df_test.merge(df_client_profile_result, left_on='APPLICATION_NUMBER', right_on='APPLICATION_NUMBER', how='left')"
   ]
  },
  {
   "cell_type": "code",
   "execution_count": null,
   "metadata": {},
   "outputs": [],
   "source": [
    "y_train = df_train[\"TARGET\"]\n",
    "y_valid = df_valid[\"TARGET\"]\n",
    "\n",
    "df_train.drop([\"TARGET\", 'APPLICATION_NUMBER'], axis='columns', inplace=True)\n",
    "df_valid.drop([\"TARGET\", 'APPLICATION_NUMBER'], axis='columns', inplace=True)\n",
    "df_test.drop(['APPLICATION_NUMBER'], axis='columns', inplace=True)"
   ]
  },
  {
   "cell_type": "code",
   "execution_count": null,
   "metadata": {},
   "outputs": [],
   "source": [
    "for i in range(df_train.shape[1]):\n",
    "    feature = df_train.iloc[:, i].name\n",
    "    median = df_train.iloc[:, i].mean()\n",
    "    df_train.loc[df_train[feature].isnull(), [feature]]= median  "
   ]
  },
  {
   "cell_type": "code",
   "execution_count": null,
   "metadata": {},
   "outputs": [],
   "source": [
    "%%time\n",
    "\n",
    "dtrain = xgb.DMatrix(data=df_train, label=y_train)\n",
    "print('*')\n",
    "dvalid = xgb.DMatrix(data=df_valid, label=y_valid)\n",
    "print('*')\n",
    "dtest = xgb.DMatrix(data=df_test)\n",
    "\n",
    "params = {\n",
    "    \"booster\": \"gbtree\",\n",
    "    \"objective\": \"binary:logistic\",\n",
    "    \"eval_metric\": \"auc\",\n",
    "    \"learning_rate\": 0.01,\n",
    "    \"n_estimators\": 500,\n",
    "    \"reg_lambda\": 100,\n",
    "    \"max_depth\": 10,\n",
    "    \"gamma\": 10,\n",
    "    \"nthread\": 6,\n",
    "    \"seed\": 27\n",
    "}\n",
    "\n",
    "model_xgb = xgb.train(\n",
    "    params=params,\n",
    "    dtrain=dtrain,\n",
    "    num_boost_round=1000,\n",
    "    early_stopping_rounds=50,\n",
    "    evals=[(dtrain, \"train\"), (dvalid, \"valid\")],\n",
    "    verbose_eval=100,\n",
    "    maximize=True,\n",
    ")\n",
    "\n",
    "x_valid_ = df_valid.sample(5000)\n",
    "y_valid_ =  y_valid\n",
    "\n",
    "explainer = shap.TreeExplainer(model_xgb)\n",
    "shap_values = explainer.shap_values(x_valid_, y_valid_)\n",
    "\n",
    "shap.summary_plot(shap_values, x_valid_, plot_type=\"bar\", max_display=150)\n",
    "shap.summary_plot(shap_values, x_valid_,)"
   ]
  },
  {
   "cell_type": "code",
   "execution_count": null,
   "metadata": {},
   "outputs": [],
   "source": []
  }
 ],
 "metadata": {
  "kernelspec": {
   "display_name": "Python 3",
   "language": "python",
   "name": "python3"
  },
  "language_info": {
   "codemirror_mode": {
    "name": "ipython",
    "version": 3
   },
   "file_extension": ".py",
   "mimetype": "text/x-python",
   "name": "python",
   "nbconvert_exporter": "python",
   "pygments_lexer": "ipython3",
   "version": "3.8.3"
  }
 },
 "nbformat": 4,
 "nbformat_minor": 4
}
